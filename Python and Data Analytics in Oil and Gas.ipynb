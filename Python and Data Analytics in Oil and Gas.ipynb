{
 "cells": [
  {
   "cell_type": "markdown",
   "id": "a08e182d",
   "metadata": {},
   "source": [
    "### Variables: Containers for storing values"
   ]
  },
  {
   "cell_type": "code",
   "execution_count": 1,
   "id": "7bedf951",
   "metadata": {},
   "outputs": [],
   "source": [
    "a = 3\n",
    "b = 'Petroleum'"
   ]
  },
  {
   "cell_type": "code",
   "execution_count": 89,
   "id": "3549dcaf",
   "metadata": {
    "scrolled": true
   },
   "outputs": [
    {
     "data": {
      "text/plain": [
       "int"
      ]
     },
     "execution_count": 89,
     "metadata": {},
     "output_type": "execute_result"
    }
   ],
   "source": [
    "type(a)"
   ]
  },
  {
   "cell_type": "code",
   "execution_count": 90,
   "id": "9f90f1db",
   "metadata": {},
   "outputs": [
    {
     "data": {
      "text/plain": [
       "str"
      ]
     },
     "execution_count": 90,
     "metadata": {},
     "output_type": "execute_result"
    }
   ],
   "source": [
    "type(b)"
   ]
  },
  {
   "cell_type": "code",
   "execution_count": 91,
   "id": "7424e636",
   "metadata": {},
   "outputs": [],
   "source": [
    "hop  = 89.44"
   ]
  },
  {
   "cell_type": "code",
   "execution_count": 92,
   "id": "1df4ab21",
   "metadata": {},
   "outputs": [
    {
     "data": {
      "text/plain": [
       "float"
      ]
     },
     "execution_count": 92,
     "metadata": {},
     "output_type": "execute_result"
    }
   ],
   "source": [
    "type(hop)"
   ]
  },
  {
   "cell_type": "code",
   "execution_count": 93,
   "id": "8c0e8e3c",
   "metadata": {},
   "outputs": [
    {
     "data": {
      "text/plain": [
       "bool"
      ]
     },
     "execution_count": 93,
     "metadata": {},
     "output_type": "execute_result"
    }
   ],
   "source": [
    "type(True)"
   ]
  },
  {
   "cell_type": "code",
   "execution_count": null,
   "id": "48b23e99",
   "metadata": {},
   "outputs": [],
   "source": [
    "int\n",
    "float\n",
    "string\n",
    "boolean"
   ]
  },
  {
   "cell_type": "code",
   "execution_count": 83,
   "id": "484051fb",
   "metadata": {},
   "outputs": [
    {
     "data": {
      "text/plain": [
       "100"
      ]
     },
     "execution_count": 83,
     "metadata": {},
     "output_type": "execute_result"
    }
   ],
   "source": [
    "c=100\n",
    "c"
   ]
  },
  {
   "cell_type": "code",
   "execution_count": 87,
   "id": "fd930aa7",
   "metadata": {},
   "outputs": [
    {
     "data": {
      "text/plain": [
       "96"
      ]
     },
     "execution_count": 87,
     "metadata": {},
     "output_type": "execute_result"
    }
   ],
   "source": [
    "a+c-yus"
   ]
  },
  {
   "cell_type": "code",
   "execution_count": 88,
   "id": "b65816c6",
   "metadata": {},
   "outputs": [],
   "source": [
    "yus = 7"
   ]
  },
  {
   "cell_type": "code",
   "execution_count": 3,
   "id": "a3b1add5",
   "metadata": {},
   "outputs": [
    {
     "data": {
      "text/plain": [
       "'Petroleum'"
      ]
     },
     "execution_count": 3,
     "metadata": {},
     "output_type": "execute_result"
    }
   ],
   "source": [
    "b\n"
   ]
  },
  {
   "cell_type": "code",
   "execution_count": 4,
   "id": "f1f6a303",
   "metadata": {},
   "outputs": [
    {
     "data": {
      "text/plain": [
       "'UPES'"
      ]
     },
     "execution_count": 4,
     "metadata": {},
     "output_type": "execute_result"
    }
   ],
   "source": [
    "b = 'UPES'\n",
    "b"
   ]
  },
  {
   "cell_type": "code",
   "execution_count": 6,
   "id": "0e996f3a",
   "metadata": {},
   "outputs": [
    {
     "data": {
      "text/plain": [
       "str"
      ]
     },
     "execution_count": 6,
     "metadata": {},
     "output_type": "execute_result"
    }
   ],
   "source": [
    "x = '543'\n",
    "type(x)"
   ]
  },
  {
   "cell_type": "code",
   "execution_count": 94,
   "id": "56975d3f",
   "metadata": {},
   "outputs": [
    {
     "name": "stdout",
     "output_type": "stream",
     "text": [
      "My name is Seth\n"
     ]
    }
   ],
   "source": [
    "print('My name is Seth')"
   ]
  },
  {
   "cell_type": "code",
   "execution_count": 95,
   "id": "64f4ca07",
   "metadata": {},
   "outputs": [
    {
     "name": "stdout",
     "output_type": "stream",
     "text": [
      "Hello world\n"
     ]
    }
   ],
   "source": [
    "print('Hello world')"
   ]
  },
  {
   "cell_type": "code",
   "execution_count": 101,
   "id": "ef908056",
   "metadata": {},
   "outputs": [
    {
     "name": "stdout",
     "output_type": "stream",
     "text": [
      "\n",
      "The man is good.\n",
      "But he is mad\n",
      "Hey\n"
     ]
    }
   ],
   "source": [
    "print('\\nThe man is good.\\nBut he is mad\\nHey')"
   ]
  },
  {
   "cell_type": "markdown",
   "id": "4ae5db77",
   "metadata": {},
   "source": [
    "### Mathematical Operations"
   ]
  },
  {
   "cell_type": "code",
   "execution_count": 102,
   "id": "43d9b91f",
   "metadata": {},
   "outputs": [
    {
     "name": "stdout",
     "output_type": "stream",
     "text": [
      "32\n",
      "14\n",
      "207\n",
      "2.5555555555555554\n"
     ]
    }
   ],
   "source": [
    "x = 23\n",
    "y = 9\n",
    "print(x+y)\n",
    "print(x-y)\n",
    "print(x*y)\n",
    "print(x/y)"
   ]
  },
  {
   "cell_type": "code",
   "execution_count": 103,
   "id": "74d8bd59",
   "metadata": {},
   "outputs": [],
   "source": [
    "t = 79\n",
    "y = 89"
   ]
  },
  {
   "cell_type": "code",
   "execution_count": 104,
   "id": "1e9ab1ca",
   "metadata": {},
   "outputs": [
    {
     "data": {
      "text/plain": [
       "168"
      ]
     },
     "execution_count": 104,
     "metadata": {},
     "output_type": "execute_result"
    }
   ],
   "source": [
    "t+y"
   ]
  },
  {
   "cell_type": "code",
   "execution_count": 106,
   "id": "d7d6b03b",
   "metadata": {},
   "outputs": [
    {
     "name": "stdout",
     "output_type": "stream",
     "text": [
      "t + y= 168\n"
     ]
    }
   ],
   "source": [
    "print('t + y=',t+y)"
   ]
  },
  {
   "cell_type": "code",
   "execution_count": 107,
   "id": "d08a1941",
   "metadata": {},
   "outputs": [
    {
     "data": {
      "text/plain": [
       "25"
      ]
     },
     "execution_count": 107,
     "metadata": {},
     "output_type": "execute_result"
    }
   ],
   "source": [
    "5**2"
   ]
  },
  {
   "cell_type": "code",
   "execution_count": 108,
   "id": "d32cbde5",
   "metadata": {},
   "outputs": [
    {
     "data": {
      "text/plain": [
       "100000"
      ]
     },
     "execution_count": 108,
     "metadata": {},
     "output_type": "execute_result"
    }
   ],
   "source": [
    "10**5"
   ]
  },
  {
   "cell_type": "markdown",
   "id": "a3224fd3",
   "metadata": {},
   "source": [
    "#### "
   ]
  },
  {
   "cell_type": "code",
   "execution_count": 8,
   "id": "181d94c6",
   "metadata": {},
   "outputs": [
    {
     "name": "stdout",
     "output_type": "stream",
     "text": [
      "y exponent 2 :  81\n"
     ]
    }
   ],
   "source": [
    "## Exponent: using **\n",
    "\n",
    "print('y exponent 2 : ', y**2)"
   ]
  },
  {
   "cell_type": "code",
   "execution_count": 9,
   "id": "a3e7b729",
   "metadata": {},
   "outputs": [
    {
     "name": "stdout",
     "output_type": "stream",
     "text": [
      "1\n"
     ]
    }
   ],
   "source": [
    "# Quotient given by //\n",
    "print(y//5)"
   ]
  },
  {
   "cell_type": "code",
   "execution_count": 10,
   "id": "10b7f0e4",
   "metadata": {},
   "outputs": [
    {
     "name": "stdout",
     "output_type": "stream",
     "text": [
      "1\n"
     ]
    }
   ],
   "source": [
    "# Remainder using % \n",
    "print(y%2)"
   ]
  },
  {
   "cell_type": "code",
   "execution_count": 11,
   "id": "16b6ff5f",
   "metadata": {},
   "outputs": [
    {
     "name": "stdout",
     "output_type": "stream",
     "text": [
      "610\n"
     ]
    }
   ],
   "source": [
    "print(x**2 + y**2)"
   ]
  },
  {
   "cell_type": "markdown",
   "id": "459c205e",
   "metadata": {},
   "source": [
    "### Strings"
   ]
  },
  {
   "cell_type": "code",
   "execution_count": 12,
   "id": "5e69fd2a",
   "metadata": {},
   "outputs": [
    {
     "name": "stdout",
     "output_type": "stream",
     "text": [
      "PetroleumEngineering\n"
     ]
    }
   ],
   "source": [
    "print('Petroleum'+'Engineering')"
   ]
  },
  {
   "cell_type": "code",
   "execution_count": 14,
   "id": "33e1fa6f",
   "metadata": {},
   "outputs": [
    {
     "name": "stdout",
     "output_type": "stream",
     "text": [
      "\n",
      "Span\n",
      "Span\n",
      "Span\n",
      "Span\n"
     ]
    }
   ],
   "source": [
    "print('\\nSpan'*4)"
   ]
  },
  {
   "cell_type": "code",
   "execution_count": null,
   "id": "5a313c72",
   "metadata": {},
   "outputs": [],
   "source": [
    "print(4*3)\n",
    "print(4*'3')"
   ]
  },
  {
   "cell_type": "markdown",
   "id": "5c19025d",
   "metadata": {},
   "source": [
    "### Input: Asking input from user"
   ]
  },
  {
   "cell_type": "code",
   "execution_count": null,
   "id": "291bb224",
   "metadata": {},
   "outputs": [],
   "source": [
    "name = input('What is your name? ')\n",
    "age = int(input('How old are you? '))"
   ]
  },
  {
   "cell_type": "code",
   "execution_count": 24,
   "id": "acadc699",
   "metadata": {},
   "outputs": [
    {
     "name": "stdout",
     "output_type": "stream",
     "text": [
      "Enter the Formation porosity(cp): 0.32\n"
     ]
    }
   ],
   "source": [
    "porosity = float(input('Enter the Formation porosity(cp): '))"
   ]
  },
  {
   "cell_type": "code",
   "execution_count": 25,
   "id": "3b83d06f",
   "metadata": {},
   "outputs": [
    {
     "data": {
      "text/plain": [
       "0.32"
      ]
     },
     "execution_count": 25,
     "metadata": {},
     "output_type": "execute_result"
    }
   ],
   "source": [
    "porosity"
   ]
  },
  {
   "cell_type": "code",
   "execution_count": 26,
   "id": "43eb54a6",
   "metadata": {},
   "outputs": [
    {
     "name": "stdout",
     "output_type": "stream",
     "text": [
      "Enter the formation Permeability(md): 23\n"
     ]
    }
   ],
   "source": [
    "permeability = float(input('Enter the formation Permeability(md): '))"
   ]
  },
  {
   "cell_type": "code",
   "execution_count": 29,
   "id": "02c2e170",
   "metadata": {},
   "outputs": [
    {
     "name": "stdout",
     "output_type": "stream",
     "text": [
      "Formation porosity is 0.32 and permeability is 23.0\n",
      "Formation porosity is 0.32 and permeability is 23.0\n",
      "Formation porosity is 0.32 and permeability is  23.0\n"
     ]
    }
   ],
   "source": [
    "# String formatting\n",
    "\n",
    "print(f'Formation porosity is {porosity} and permeability is {permeability}')\n",
    "print('Formation porosity is {} and permeability is {}'.format(porosity,permeability))\n",
    "print('Formation porosity is', porosity, 'and permeability is ', permeability)"
   ]
  },
  {
   "cell_type": "markdown",
   "id": "8a0fa6cb",
   "metadata": {},
   "source": [
    "### Booleans and Comparisons\n"
   ]
  },
  {
   "cell_type": "code",
   "execution_count": 31,
   "id": "88eb505f",
   "metadata": {},
   "outputs": [
    {
     "name": "stdout",
     "output_type": "stream",
     "text": [
      "False\n"
     ]
    }
   ],
   "source": [
    "print(2==3)"
   ]
  },
  {
   "cell_type": "code",
   "execution_count": 32,
   "id": "c2227ec6",
   "metadata": {},
   "outputs": [
    {
     "name": "stdout",
     "output_type": "stream",
     "text": [
      "False\n"
     ]
    }
   ],
   "source": [
    "print(5<= 2 & 3>=12)"
   ]
  },
  {
   "cell_type": "markdown",
   "id": "105aacc0",
   "metadata": {},
   "source": [
    "### If-else: To run a block of code only if certain condition holds true"
   ]
  },
  {
   "cell_type": "code",
   "execution_count": 33,
   "id": "90cf9884",
   "metadata": {},
   "outputs": [
    {
     "name": "stdout",
     "output_type": "stream",
     "text": [
      "Five is greater than two\n",
      "If is true\n",
      "This is outside\n"
     ]
    }
   ],
   "source": [
    "if 5 > 2:\n",
    "    print('Five is greater than two')\n",
    "    print('If is true')\n",
    "print('This is outside')\n",
    "    "
   ]
  },
  {
   "cell_type": "code",
   "execution_count": 37,
   "id": "1179c20f",
   "metadata": {},
   "outputs": [
    {
     "name": "stdout",
     "output_type": "stream",
     "text": [
      "Enter the reservoir pressure (psi): 2345\n",
      "Enter the Hydrostatic pressure of mud(psi): 3321\n",
      "Enter the Fracture pressure of rock(psi): 2341\n"
     ]
    }
   ],
   "source": [
    "Reservoir_Pressure = float(input('Enter the reservoir pressure (psi): '))\n",
    "Hydrostatic_pressure = float(input('Enter the Hydrostatic pressure of mud(psi): '))\n",
    "Fracture_pressure = float(input('Enter the Fracture pressure of rock(psi): '))\n"
   ]
  },
  {
   "cell_type": "code",
   "execution_count": 38,
   "id": "a67688ff",
   "metadata": {},
   "outputs": [
    {
     "name": "stdout",
     "output_type": "stream",
     "text": [
      "Hydrostatic pressure greater than Fracure pressure, may resultsin Fracture\n",
      "Alert!!! Risk of formation fracture\n"
     ]
    }
   ],
   "source": [
    "if Hydrostatic_pressure > Reservoir_Pressure and Hydrostatic_pressure < Fracture_pressure:\n",
    "    print('Reservoir pressure is lesser than Hydrostatic presssure, so No Kick')\n",
    "    print('Hydrostatic pressure due to mud is lesser than Fracture pressure of Formation, so No Fracture')\n",
    "    print('Safe Zone')\n",
    "elif Hydrostatic_pressure> Reservoir_Pressure and Hydrostatic_pressure > Fracture_pressure:\n",
    "    print('Hydrostatic pressure greater than Fracure pressure, may resultsin Fracture')\n",
    "    print('Alert!!! Risk of formation fracture')\n",
    "else:\n",
    "    print(\"Alert!!! Risk of kick\")"
   ]
  },
  {
   "cell_type": "code",
   "execution_count": 41,
   "id": "d5e0ed65",
   "metadata": {},
   "outputs": [
    {
     "name": "stdout",
     "output_type": "stream",
     "text": [
      "Enter the initial Reservoir pressure(psi): 2300\n",
      "Enter the bubble point pressure (psi): 1500\n"
     ]
    }
   ],
   "source": [
    "Pr = float(input('Enter the initial Reservoir pressure(psi): '))\n",
    "Pb = float(input('Enter the bubble point pressure (psi): '))"
   ]
  },
  {
   "cell_type": "code",
   "execution_count": 43,
   "id": "637e645c",
   "metadata": {},
   "outputs": [
    {
     "name": "stdout",
     "output_type": "stream",
     "text": [
      "Your Reservoir is Undersaturated Oil Reservoir\n"
     ]
    }
   ],
   "source": [
    "if Pr > Pb:\n",
    "    print('Your Reservoir is Undersaturated Oil Reservoir')\n",
    "elif Pr ==Pb:\n",
    "    print('Your reservoir is Saturated Oil Reservoir')\n",
    "else:\n",
    "    print('Gas has been evolved from your reservoir, so your reservoir has been phases: Oil and Gas')"
   ]
  },
  {
   "cell_type": "markdown",
   "id": "3cc7729c",
   "metadata": {},
   "source": [
    "## While Loop: To repeat a block of code again and again; until the condition satisfies"
   ]
  },
  {
   "cell_type": "code",
   "execution_count": 45,
   "id": "b2117f16",
   "metadata": {},
   "outputs": [
    {
     "name": "stdout",
     "output_type": "stream",
     "text": [
      "2000 is not abnormal pressure\n",
      "2100 is not abnormal pressure\n",
      "2200 is not abnormal pressure\n",
      "2300 is not abnormal pressure\n",
      "2400 is not abnormal pressure\n",
      "2500 is abnormal!!\n"
     ]
    }
   ],
   "source": [
    "pressure = 2000 #psi\n",
    "\n",
    "while pressure < 2500:\n",
    "    print(f'{pressure} is not abnormal pressure')\n",
    "    pressure+=100\n",
    "else:\n",
    "    print(f\"{pressure} is abnormal!!\")"
   ]
  },
  {
   "cell_type": "code",
   "execution_count": 82,
   "id": "f32b4d2b",
   "metadata": {},
   "outputs": [
    {
     "name": "stdout",
     "output_type": "stream",
     "text": [
      "Enter the Password: Petroleum\n",
      "Wrong password, enter again\n"
     ]
    },
    {
     "ename": "KeyboardInterrupt",
     "evalue": "Interrupted by user",
     "output_type": "error",
     "traceback": [
      "\u001b[1;31m---------------------------------------------------------------------------\u001b[0m",
      "\u001b[1;31mKeyboardInterrupt\u001b[0m                         Traceback (most recent call last)",
      "Input \u001b[1;32mIn [82]\u001b[0m, in \u001b[0;36m<cell line: 3>\u001b[1;34m()\u001b[0m\n\u001b[0;32m      3\u001b[0m \u001b[38;5;28;01mwhile\u001b[39;00m Password \u001b[38;5;241m!=\u001b[39m \u001b[38;5;124m'\u001b[39m\u001b[38;5;124mSeth\u001b[39m\u001b[38;5;124m'\u001b[39m:\n\u001b[0;32m      4\u001b[0m     \u001b[38;5;28mprint\u001b[39m(\u001b[38;5;124m'\u001b[39m\u001b[38;5;124mWrong password, enter again\u001b[39m\u001b[38;5;124m'\u001b[39m)\n\u001b[1;32m----> 5\u001b[0m     Password \u001b[38;5;241m=\u001b[39m \u001b[38;5;28;43minput\u001b[39;49m\u001b[43m(\u001b[49m\u001b[38;5;124;43m'\u001b[39;49m\u001b[38;5;124;43mEnter tne Password: \u001b[39;49m\u001b[38;5;124;43m'\u001b[39;49m\u001b[43m)\u001b[49m\n\u001b[0;32m      7\u001b[0m \u001b[38;5;28;01melse\u001b[39;00m:\n\u001b[0;32m      8\u001b[0m     \u001b[38;5;28mprint\u001b[39m(\u001b[38;5;124m'\u001b[39m\u001b[38;5;124mAccess Granted !!!\u001b[39m\u001b[38;5;124m'\u001b[39m)\n",
      "File \u001b[1;32mC:\\ProgramData\\Anaconda3\\lib\\site-packages\\ipykernel\\kernelbase.py:1075\u001b[0m, in \u001b[0;36mKernel.raw_input\u001b[1;34m(self, prompt)\u001b[0m\n\u001b[0;32m   1071\u001b[0m \u001b[38;5;28;01mif\u001b[39;00m \u001b[38;5;129;01mnot\u001b[39;00m \u001b[38;5;28mself\u001b[39m\u001b[38;5;241m.\u001b[39m_allow_stdin:\n\u001b[0;32m   1072\u001b[0m     \u001b[38;5;28;01mraise\u001b[39;00m StdinNotImplementedError(\n\u001b[0;32m   1073\u001b[0m         \u001b[38;5;124m\"\u001b[39m\u001b[38;5;124mraw_input was called, but this frontend does not support input requests.\u001b[39m\u001b[38;5;124m\"\u001b[39m\n\u001b[0;32m   1074\u001b[0m     )\n\u001b[1;32m-> 1075\u001b[0m \u001b[38;5;28;01mreturn\u001b[39;00m \u001b[38;5;28;43mself\u001b[39;49m\u001b[38;5;241;43m.\u001b[39;49m\u001b[43m_input_request\u001b[49m\u001b[43m(\u001b[49m\n\u001b[0;32m   1076\u001b[0m \u001b[43m    \u001b[49m\u001b[38;5;28;43mstr\u001b[39;49m\u001b[43m(\u001b[49m\u001b[43mprompt\u001b[49m\u001b[43m)\u001b[49m\u001b[43m,\u001b[49m\n\u001b[0;32m   1077\u001b[0m \u001b[43m    \u001b[49m\u001b[38;5;28;43mself\u001b[39;49m\u001b[38;5;241;43m.\u001b[39;49m\u001b[43m_parent_ident\u001b[49m\u001b[43m[\u001b[49m\u001b[38;5;124;43m\"\u001b[39;49m\u001b[38;5;124;43mshell\u001b[39;49m\u001b[38;5;124;43m\"\u001b[39;49m\u001b[43m]\u001b[49m\u001b[43m,\u001b[49m\n\u001b[0;32m   1078\u001b[0m \u001b[43m    \u001b[49m\u001b[38;5;28;43mself\u001b[39;49m\u001b[38;5;241;43m.\u001b[39;49m\u001b[43mget_parent\u001b[49m\u001b[43m(\u001b[49m\u001b[38;5;124;43m\"\u001b[39;49m\u001b[38;5;124;43mshell\u001b[39;49m\u001b[38;5;124;43m\"\u001b[39;49m\u001b[43m)\u001b[49m\u001b[43m,\u001b[49m\n\u001b[0;32m   1079\u001b[0m \u001b[43m    \u001b[49m\u001b[43mpassword\u001b[49m\u001b[38;5;241;43m=\u001b[39;49m\u001b[38;5;28;43;01mFalse\u001b[39;49;00m\u001b[43m,\u001b[49m\n\u001b[0;32m   1080\u001b[0m \u001b[43m\u001b[49m\u001b[43m)\u001b[49m\n",
      "File \u001b[1;32mC:\\ProgramData\\Anaconda3\\lib\\site-packages\\ipykernel\\kernelbase.py:1120\u001b[0m, in \u001b[0;36mKernel._input_request\u001b[1;34m(self, prompt, ident, parent, password)\u001b[0m\n\u001b[0;32m   1117\u001b[0m             \u001b[38;5;28;01mbreak\u001b[39;00m\n\u001b[0;32m   1118\u001b[0m \u001b[38;5;28;01mexcept\u001b[39;00m \u001b[38;5;167;01mKeyboardInterrupt\u001b[39;00m:\n\u001b[0;32m   1119\u001b[0m     \u001b[38;5;66;03m# re-raise KeyboardInterrupt, to truncate traceback\u001b[39;00m\n\u001b[1;32m-> 1120\u001b[0m     \u001b[38;5;28;01mraise\u001b[39;00m \u001b[38;5;167;01mKeyboardInterrupt\u001b[39;00m(\u001b[38;5;124m\"\u001b[39m\u001b[38;5;124mInterrupted by user\u001b[39m\u001b[38;5;124m\"\u001b[39m) \u001b[38;5;28;01mfrom\u001b[39;00m \u001b[38;5;28mNone\u001b[39m\n\u001b[0;32m   1121\u001b[0m \u001b[38;5;28;01mexcept\u001b[39;00m \u001b[38;5;167;01mException\u001b[39;00m:\n\u001b[0;32m   1122\u001b[0m     \u001b[38;5;28mself\u001b[39m\u001b[38;5;241m.\u001b[39mlog\u001b[38;5;241m.\u001b[39mwarning(\u001b[38;5;124m\"\u001b[39m\u001b[38;5;124mInvalid Message:\u001b[39m\u001b[38;5;124m\"\u001b[39m, exc_info\u001b[38;5;241m=\u001b[39m\u001b[38;5;28;01mTrue\u001b[39;00m)\n",
      "\u001b[1;31mKeyboardInterrupt\u001b[0m: Interrupted by user"
     ]
    }
   ],
   "source": [
    "Password = input('Enter the Password: ')\n",
    "\n",
    "while Password != 'Seth':\n",
    "    print('Wrong password, enter again')\n",
    "    Password = input('Enter tne Password: ')\n",
    "    \n",
    "else:\n",
    "    print('Access Granted !!!')"
   ]
  },
  {
   "cell_type": "code",
   "execution_count": 50,
   "id": "3751e263",
   "metadata": {},
   "outputs": [
    {
     "name": "stdout",
     "output_type": "stream",
     "text": [
      "Formation Pressure is 2500 psi\n",
      "Formation Pressure is 2600 psi\n",
      "Formation Pressure is 2700 psi\n",
      "Formation Pressure is 2800 psi\n",
      "Formation Pressure is 2900 psi\n",
      "Formation Pressure is 3000 psi\n",
      "Formation Pressure is 3100 psi\n",
      "Formation Pressure is 3200 psi\n",
      "Formation Pressure is 3300 psi\n",
      "Formation Pressure is 3400 psi\n",
      "Formation Pressure is 3500 psi\n",
      "Formation Pressure is 3600 psi\n",
      "Formation Pressure is 3700 psi\n",
      "Formation Pressure is 3800 psi\n",
      "Formation Pressure is 3900 psi\n",
      "Formation Pressure is 4000 psi\n",
      "Formation Pressure is 4100 psi\n",
      "Formation Pressure is 4200 psi\n",
      "Formation Pressure is 4300 psi\n",
      "Formation Pressure is 4400 psi\n",
      "Formation Pressure is 4500 psi\n",
      "Formation Pressure is 4600 psi\n",
      "Formation Pressure is 4700 psi\n",
      "Formation Pressure is 4800 psi\n",
      "Formation Pressure is 4900 psi\n",
      "Pressure reached its maximum value, so break loop\n",
      "Finished\n"
     ]
    }
   ],
   "source": [
    "pressure =2500 #psi\n",
    "while True:\n",
    "    print(f\"Formation Pressure is {pressure} psi\")\n",
    "    pressure +=100\n",
    "    if pressure==5000:\n",
    "        print('Pressure reached its maximum value, so break loop')\n",
    "        break\n",
    "print('Finished')\n"
   ]
  },
  {
   "cell_type": "code",
   "execution_count": 51,
   "id": "401a33ed",
   "metadata": {},
   "outputs": [
    {
     "name": "stdout",
     "output_type": "stream",
     "text": [
      "Pressure is 3600 psi\n",
      "Pressure is 3700 psi\n",
      "Pressure is 3800 psi\n",
      "Pressure is 3900 psi\n",
      "Skipping 4000 psi\n",
      "Pressure is 4100 psi\n",
      "Pressure is 4200 psi\n",
      "Pressure is 4300 psi\n",
      "Pressure is 4400 psi\n",
      "Pressure is 4500 psi\n"
     ]
    }
   ],
   "source": [
    "pressure = 3500 #psi\n",
    "while pressure < 4500:\n",
    "    pressure +=100\n",
    "    if pressure ==4000:\n",
    "        print('Skipping 4000 psi')\n",
    "        continue\n",
    "    print(f'Pressure is {pressure} psi')"
   ]
  },
  {
   "cell_type": "markdown",
   "id": "ee63a173",
   "metadata": {},
   "source": [
    "## Lists"
   ]
  },
  {
   "cell_type": "code",
   "execution_count": 52,
   "id": "4f4a3e9e",
   "metadata": {},
   "outputs": [],
   "source": [
    "porosity = [0.3,0.41,0.52,0.11,0.34,0.62]"
   ]
  },
  {
   "cell_type": "code",
   "execution_count": 53,
   "id": "529620f6",
   "metadata": {},
   "outputs": [
    {
     "data": {
      "text/plain": [
       "[0.3, 0.41, 0.52, 0.11, 0.34, 0.62]"
      ]
     },
     "execution_count": 53,
     "metadata": {},
     "output_type": "execute_result"
    }
   ],
   "source": [
    "porosity"
   ]
  },
  {
   "cell_type": "code",
   "execution_count": 55,
   "id": "ae22f613",
   "metadata": {},
   "outputs": [
    {
     "data": {
      "text/plain": [
       "list"
      ]
     },
     "execution_count": 55,
     "metadata": {},
     "output_type": "execute_result"
    }
   ],
   "source": [
    "type(porosity)"
   ]
  },
  {
   "cell_type": "code",
   "execution_count": 56,
   "id": "c892814d",
   "metadata": {},
   "outputs": [
    {
     "data": {
      "text/plain": [
       "[0.3]"
      ]
     },
     "execution_count": 56,
     "metadata": {},
     "output_type": "execute_result"
    }
   ],
   "source": [
    "porosity[:1]"
   ]
  },
  {
   "cell_type": "code",
   "execution_count": 57,
   "id": "e6d7839a",
   "metadata": {},
   "outputs": [],
   "source": [
    "porosity[0] = 0.432"
   ]
  },
  {
   "cell_type": "code",
   "execution_count": 58,
   "id": "febca00c",
   "metadata": {},
   "outputs": [
    {
     "data": {
      "text/plain": [
       "[0.432, 0.41, 0.52, 0.11, 0.34, 0.62]"
      ]
     },
     "execution_count": 58,
     "metadata": {},
     "output_type": "execute_result"
    }
   ],
   "source": [
    "porosity"
   ]
  },
  {
   "cell_type": "code",
   "execution_count": 59,
   "id": "7f595d87",
   "metadata": {},
   "outputs": [
    {
     "data": {
      "text/plain": [
       "6"
      ]
     },
     "execution_count": 59,
     "metadata": {},
     "output_type": "execute_result"
    }
   ],
   "source": [
    "len(porosity)"
   ]
  },
  {
   "cell_type": "code",
   "execution_count": 60,
   "id": "983f2ee2",
   "metadata": {},
   "outputs": [
    {
     "data": {
      "text/plain": [
       "[49.92, 44.928, 14.975999999999999, 41.184, 57.408, 50.544000000000004, 14.352]"
      ]
     },
     "execution_count": 60,
     "metadata": {},
     "output_type": "execute_result"
    }
   ],
   "source": [
    "specificgravity_of_crudes = [0.8,0.72,0.24,0.66,0.92,0.81,0.23]\n",
    "denwater = 62.4\n",
    "\n",
    "\n",
    "CrudeDensity = []\n",
    "i = 0\n",
    "while i < len(specificgravity_of_crudes):\n",
    "    denO = denwater * specificgravity_of_crudes[i]\n",
    "    CrudeDensity.append(denO)\n",
    "    i+=1\n",
    "    \n",
    "CrudeDensity\n",
    "    "
   ]
  },
  {
   "cell_type": "markdown",
   "id": "34fe7bc7",
   "metadata": {},
   "source": [
    "## Dictionaries"
   ]
  },
  {
   "cell_type": "code",
   "execution_count": 65,
   "id": "6c738073",
   "metadata": {},
   "outputs": [],
   "source": [
    "rock_properties = {'porosity':[0.14,0.41,0.23,0.3], 'permeability':[13,43,62,32], 'lith':['S','C','L','C']}"
   ]
  },
  {
   "cell_type": "code",
   "execution_count": 66,
   "id": "ac5b7edb",
   "metadata": {},
   "outputs": [
    {
     "data": {
      "text/plain": [
       "{'porosity': [0.14, 0.41, 0.23, 0.3],\n",
       " 'permeability': [13, 43, 62, 32],\n",
       " 'lith': ['S', 'C', 'L', 'C']}"
      ]
     },
     "execution_count": 66,
     "metadata": {},
     "output_type": "execute_result"
    }
   ],
   "source": [
    "rock_properties"
   ]
  },
  {
   "cell_type": "code",
   "execution_count": 67,
   "id": "b1a43528",
   "metadata": {},
   "outputs": [],
   "source": [
    "import pandas as pd\n",
    "\n",
    "\n",
    "rock_df = pd.DataFrame(rock_properties)"
   ]
  },
  {
   "cell_type": "code",
   "execution_count": 68,
   "id": "a7b5cac7",
   "metadata": {},
   "outputs": [
    {
     "data": {
      "text/html": [
       "<div>\n",
       "<style scoped>\n",
       "    .dataframe tbody tr th:only-of-type {\n",
       "        vertical-align: middle;\n",
       "    }\n",
       "\n",
       "    .dataframe tbody tr th {\n",
       "        vertical-align: top;\n",
       "    }\n",
       "\n",
       "    .dataframe thead th {\n",
       "        text-align: right;\n",
       "    }\n",
       "</style>\n",
       "<table border=\"1\" class=\"dataframe\">\n",
       "  <thead>\n",
       "    <tr style=\"text-align: right;\">\n",
       "      <th></th>\n",
       "      <th>porosity</th>\n",
       "      <th>permeability</th>\n",
       "      <th>lith</th>\n",
       "    </tr>\n",
       "  </thead>\n",
       "  <tbody>\n",
       "    <tr>\n",
       "      <th>0</th>\n",
       "      <td>0.14</td>\n",
       "      <td>13</td>\n",
       "      <td>S</td>\n",
       "    </tr>\n",
       "    <tr>\n",
       "      <th>1</th>\n",
       "      <td>0.41</td>\n",
       "      <td>43</td>\n",
       "      <td>C</td>\n",
       "    </tr>\n",
       "    <tr>\n",
       "      <th>2</th>\n",
       "      <td>0.23</td>\n",
       "      <td>62</td>\n",
       "      <td>L</td>\n",
       "    </tr>\n",
       "    <tr>\n",
       "      <th>3</th>\n",
       "      <td>0.30</td>\n",
       "      <td>32</td>\n",
       "      <td>C</td>\n",
       "    </tr>\n",
       "  </tbody>\n",
       "</table>\n",
       "</div>"
      ],
      "text/plain": [
       "   porosity  permeability lith\n",
       "0      0.14            13    S\n",
       "1      0.41            43    C\n",
       "2      0.23            62    L\n",
       "3      0.30            32    C"
      ]
     },
     "execution_count": 68,
     "metadata": {},
     "output_type": "execute_result"
    }
   ],
   "source": [
    "rock_df"
   ]
  },
  {
   "cell_type": "markdown",
   "id": "9a2e3d8f",
   "metadata": {},
   "source": [
    "## For Loops"
   ]
  },
  {
   "cell_type": "code",
   "execution_count": 70,
   "id": "f47ee7d1",
   "metadata": {},
   "outputs": [
    {
     "name": "stdout",
     "output_type": "stream",
     "text": [
      "API gravity corresponding to Specific Gravity 0.2 is 576.0\n",
      "API gravity corresponding to Specific Gravity 0.3 is 340.167\n",
      "API gravity corresponding to Specific Gravity 0.4 is 222.25\n",
      "API gravity corresponding to Specific Gravity 0.87 is 31.144\n",
      "API gravity corresponding to Specific Gravity 0.9 is 25.722\n",
      "API gravity corresponding to Specific Gravity 0.2 is 576.0\n"
     ]
    }
   ],
   "source": [
    "Specific_gravity  = [0.2,0.3,0.4,0.87,0.9,0.2]\n",
    "for i in Specific_gravity:\n",
    "    api = (141.5/i) - 131.5\n",
    "    api = round(api,3)\n",
    "    print('API gravity corresponding to Specific Gravity', i, 'is', api)"
   ]
  },
  {
   "cell_type": "markdown",
   "id": "250a4911",
   "metadata": {},
   "source": [
    "## Functions"
   ]
  },
  {
   "cell_type": "code",
   "execution_count": 71,
   "id": "77312a2d",
   "metadata": {},
   "outputs": [],
   "source": [
    "def function():\n",
    "    print('Use of Function')"
   ]
  },
  {
   "cell_type": "code",
   "execution_count": 72,
   "id": "ae64f77e",
   "metadata": {},
   "outputs": [
    {
     "name": "stdout",
     "output_type": "stream",
     "text": [
      "Use of Function\n"
     ]
    }
   ],
   "source": [
    "function()"
   ]
  },
  {
   "cell_type": "code",
   "execution_count": 73,
   "id": "62bbfa15",
   "metadata": {},
   "outputs": [],
   "source": [
    "def add(x,y):\n",
    "    return x*y"
   ]
  },
  {
   "cell_type": "code",
   "execution_count": 74,
   "id": "9ba14b72",
   "metadata": {},
   "outputs": [
    {
     "data": {
      "text/plain": [
       "69"
      ]
     },
     "execution_count": 74,
     "metadata": {},
     "output_type": "execute_result"
    }
   ],
   "source": [
    "add(23,3)"
   ]
  },
  {
   "cell_type": "code",
   "execution_count": 75,
   "id": "6f1b3977",
   "metadata": {},
   "outputs": [],
   "source": [
    "def api(x):\n",
    "    api = 141.5/x - 131.5\n",
    "    api = round(api,3)\n",
    "    print(f'The API gravity is {api}')"
   ]
  },
  {
   "cell_type": "code",
   "execution_count": 76,
   "id": "cff1f8ed",
   "metadata": {},
   "outputs": [
    {
     "name": "stdout",
     "output_type": "stream",
     "text": [
      "The API gravity is 340.167\n"
     ]
    }
   ],
   "source": [
    "api(0.3)"
   ]
  },
  {
   "cell_type": "code",
   "execution_count": 77,
   "id": "0ca6534e",
   "metadata": {},
   "outputs": [],
   "source": [
    "def pythyp(base,height):\n",
    "    hyp = ((base**2) + (height**2))**0.5\n",
    "    print('The value of hypothenuse by pythagoras theorem is :', hyp)"
   ]
  },
  {
   "cell_type": "code",
   "execution_count": 78,
   "id": "fd229f6b",
   "metadata": {},
   "outputs": [
    {
     "name": "stdout",
     "output_type": "stream",
     "text": [
      "The value of hypothenuse by pythagoras theorem is : 57.77542730261716\n"
     ]
    }
   ],
   "source": [
    "pythyp(23,53)"
   ]
  },
  {
   "cell_type": "markdown",
   "id": "427a4446",
   "metadata": {},
   "source": [
    "## Lambda Function"
   ]
  },
  {
   "cell_type": "code",
   "execution_count": 79,
   "id": "5efc11fb",
   "metadata": {},
   "outputs": [],
   "source": [
    "api_lambda = lambda x: 141.5/x -131.5"
   ]
  },
  {
   "cell_type": "code",
   "execution_count": 80,
   "id": "9246c080",
   "metadata": {},
   "outputs": [
    {
     "data": {
      "text/plain": [
       "340.1666666666667"
      ]
     },
     "execution_count": 80,
     "metadata": {},
     "output_type": "execute_result"
    }
   ],
   "source": [
    "api_lambda(0.3)"
   ]
  },
  {
   "cell_type": "code",
   "execution_count": null,
   "id": "ca6c8247",
   "metadata": {},
   "outputs": [],
   "source": []
  }
 ],
 "metadata": {
  "kernelspec": {
   "display_name": "Python 3 (ipykernel)",
   "language": "python",
   "name": "python3"
  },
  "language_info": {
   "codemirror_mode": {
    "name": "ipython",
    "version": 3
   },
   "file_extension": ".py",
   "mimetype": "text/x-python",
   "name": "python",
   "nbconvert_exporter": "python",
   "pygments_lexer": "ipython3",
   "version": "3.9.12"
  }
 },
 "nbformat": 4,
 "nbformat_minor": 5
}
