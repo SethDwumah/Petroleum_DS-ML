{
 "cells": [
  {
   "cell_type": "code",
   "execution_count": 2,
   "id": "178b4d48",
   "metadata": {},
   "outputs": [],
   "source": [
    "import numpy as np\n",
    "import pandas as pd\n",
    "import matplotlib.pyplot as plt\n",
    "%matplotlib inline\n",
    "\n",
    "from ipywidgets import interact, interactive\n",
    "from IPython.display import clear_output, display"
   ]
  },
  {
   "cell_type": "markdown",
   "id": "2d4824a8",
   "metadata": {},
   "source": [
    "$ q = kh \\frac{\\triangle P}{141.2\\mu B [ln(re/r) + s]}$"
   ]
  },
  {
   "cell_type": "code",
   "execution_count": 3,
   "id": "568bbb18",
   "metadata": {},
   "outputs": [
    {
     "data": {
      "text/plain": [
       "<Figure size 1200x400 with 0 Axes>"
      ]
     },
     "execution_count": 3,
     "metadata": {},
     "output_type": "execute_result"
    },
    {
     "data": {
      "text/plain": [
       "<Figure size 1200x400 with 0 Axes>"
      ]
     },
     "metadata": {},
     "output_type": "display_data"
    }
   ],
   "source": [
    "plt.style.use('default')\n",
    "plt.figure(figsize=(12,4))"
   ]
  },
  {
   "cell_type": "code",
   "execution_count": 4,
   "id": "5112cee1",
   "metadata": {},
   "outputs": [],
   "source": [
    "def flowprofile(k,mu,q):\n",
    "    \n",
    "    re = 3000 \n",
    "    rw = 0.5  \n",
    "    \n",
    "    r = np.linspace(rw,re,500)\n",
    "    \n",
    "    pe = 4000 # psi\n",
    "    \n",
    "    B = 1 # rb/stb\n",
    "    \n",
    "    h = 30 #ft\n",
    "    P = pe - ( 141.2*q*mu*B*(np.log(re/r))/k/h)\n",
    "    \n",
    "    y_min = P[np.where(r==rw)]\n",
    "    \n",
    "    \n",
    "    plt.plot(r,P,lw=4)\n",
    "    plt.axhline(y_min,lw=3, color='red')\n",
    "    \n",
    "    plt.ylim(0,5000)\n",
    "    plt.xlabel('r(ft)', size=15)\n",
    "    plt.ylabel('P(r) Psi',size=15)\n",
    "    plt.title('Reservoir Pressure Profile', size=20)\n",
    "    plt.grid()\n",
    "    return r,P\n",
    "    "
   ]
  },
  {
   "cell_type": "code",
   "execution_count": 5,
   "id": "30eee69d",
   "metadata": {},
   "outputs": [],
   "source": [
    "w = interactive(flowprofile, k=(10,1000),mu=(10,300), q= (100,200))"
   ]
  },
  {
   "cell_type": "code",
   "execution_count": 6,
   "id": "ad09e776",
   "metadata": {},
   "outputs": [
    {
     "data": {
      "application/vnd.jupyter.widget-view+json": {
       "model_id": "239eeecaeed94bb8a63e1d18da064b67",
       "version_major": 2,
       "version_minor": 0
      },
      "text/plain": [
       "interactive(children=(IntSlider(value=505, description='k', max=1000, min=10), IntSlider(value=155, descriptio…"
      ]
     },
     "metadata": {},
     "output_type": "display_data"
    }
   ],
   "source": [
    "display(w)"
   ]
  },
  {
   "cell_type": "code",
   "execution_count": null,
   "id": "b6a0b392",
   "metadata": {},
   "outputs": [],
   "source": []
  }
 ],
 "metadata": {
  "kernelspec": {
   "display_name": "Python 3 (ipykernel)",
   "language": "python",
   "name": "python3"
  },
  "language_info": {
   "codemirror_mode": {
    "name": "ipython",
    "version": 3
   },
   "file_extension": ".py",
   "mimetype": "text/x-python",
   "name": "python",
   "nbconvert_exporter": "python",
   "pygments_lexer": "ipython3",
   "version": "3.11.5"
  }
 },
 "nbformat": 4,
 "nbformat_minor": 5
}
