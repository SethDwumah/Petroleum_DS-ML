{
 "cells": [
  {
   "cell_type": "code",
   "execution_count": null,
   "id": "168ebf19",
   "metadata": {},
   "outputs": [],
   "source": [
    "import pandas as pd\n",
    "import numpy as np\n",
    "import matplotlib.pyplot as plt\n",
    "%matplotlib inline"
   ]
  },
  {
   "cell_type": "code",
   "execution_count": null,
   "id": "c41e7127",
   "metadata": {},
   "outputs": [],
   "source": [
    "df = pd.read_csv('https://raw.githubusercontent.com/Divyanshu-ISM/100-Days-Of-ML-Code/master/datasets/Social_Network_Ads.csv')\n"
   ]
  },
  {
   "cell_type": "code",
   "execution_count": null,
   "id": "b1c5576f",
   "metadata": {},
   "outputs": [],
   "source": [
    "\n",
    "df.head()"
   ]
  },
  {
   "cell_type": "code",
   "execution_count": null,
   "id": "883c4993",
   "metadata": {},
   "outputs": [],
   "source": [
    "df.to_csv('social_network_ads.csv')"
   ]
  },
  {
   "cell_type": "code",
   "execution_count": null,
   "id": "b0f5511f",
   "metadata": {},
   "outputs": [],
   "source": [
    "df.shape"
   ]
  },
  {
   "cell_type": "code",
   "execution_count": null,
   "id": "ce6023fa",
   "metadata": {},
   "outputs": [],
   "source": [
    "df.isna().sum()"
   ]
  },
  {
   "cell_type": "code",
   "execution_count": null,
   "id": "cb2513ec",
   "metadata": {},
   "outputs": [],
   "source": [
    "## Drop UserId\n",
    "\n",
    "df.drop(['User ID'], axis=1,inplace=True)"
   ]
  },
  {
   "cell_type": "code",
   "execution_count": null,
   "id": "83a5c969",
   "metadata": {},
   "outputs": [],
   "source": [
    "df.head()"
   ]
  },
  {
   "cell_type": "code",
   "execution_count": null,
   "id": "531e58d0",
   "metadata": {},
   "outputs": [],
   "source": [
    "df_model = df.copy()"
   ]
  },
  {
   "cell_type": "markdown",
   "id": "7adde909",
   "metadata": {},
   "source": [
    "### Prepare the dataset for machine learning"
   ]
  },
  {
   "cell_type": "code",
   "execution_count": null,
   "id": "6fc961c7",
   "metadata": {},
   "outputs": [],
   "source": [
    "df_model.info()"
   ]
  },
  {
   "cell_type": "code",
   "execution_count": null,
   "id": "11102874",
   "metadata": {},
   "outputs": [],
   "source": [
    "# Change Gender into numerical variables\n",
    "\n",
    "df_model['Gender'] = df_model[\"Gender\"].astype('category').cat.codes"
   ]
  },
  {
   "cell_type": "code",
   "execution_count": null,
   "id": "1af34aec",
   "metadata": {},
   "outputs": [],
   "source": [
    "df_model.head()"
   ]
  },
  {
   "cell_type": "markdown",
   "id": "646c8e9c",
   "metadata": {},
   "source": [
    "### Set feature and target \n"
   ]
  },
  {
   "cell_type": "code",
   "execution_count": null,
   "id": "45a32367",
   "metadata": {},
   "outputs": [],
   "source": [
    "# X = features\n",
    "# Y = target\n",
    "\n",
    "X = df_model.iloc[:,:-1]\n",
    "Y = df_model.iloc[:,-1]"
   ]
  },
  {
   "cell_type": "code",
   "execution_count": null,
   "id": "f3b013b7",
   "metadata": {},
   "outputs": [],
   "source": [
    "X.head()"
   ]
  },
  {
   "cell_type": "code",
   "execution_count": null,
   "id": "2b1f672c",
   "metadata": {},
   "outputs": [],
   "source": [
    "Y.head()"
   ]
  },
  {
   "cell_type": "markdown",
   "id": "29de7afa",
   "metadata": {},
   "source": [
    "### Train Test Split"
   ]
  },
  {
   "cell_type": "code",
   "execution_count": null,
   "id": "8f5fa678",
   "metadata": {},
   "outputs": [],
   "source": [
    "from sklearn.model_selection import train_test_split"
   ]
  },
  {
   "cell_type": "code",
   "execution_count": null,
   "id": "8e42b32e",
   "metadata": {},
   "outputs": [],
   "source": [
    "x_train,x_test,y_train,y_test = train_test_split(X,Y, test_size=0.3, random_state=101)"
   ]
  },
  {
   "cell_type": "code",
   "execution_count": null,
   "id": "41e2f90d",
   "metadata": {},
   "outputs": [],
   "source": [
    "x_train.shape,y_train.shape "
   ]
  },
  {
   "cell_type": "code",
   "execution_count": null,
   "id": "b5f15aad",
   "metadata": {},
   "outputs": [],
   "source": [
    "x_test.shape, y_test.shape"
   ]
  },
  {
   "cell_type": "markdown",
   "id": "333750fb",
   "metadata": {},
   "source": [
    "### Feature Scaling\n",
    "\n",
    ">> Since KNN is a distance based algorithm"
   ]
  },
  {
   "cell_type": "code",
   "execution_count": null,
   "id": "6c70bc35",
   "metadata": {},
   "outputs": [],
   "source": [
    "from sklearn.preprocessing import StandardScaler"
   ]
  },
  {
   "cell_type": "code",
   "execution_count": null,
   "id": "0f77521a",
   "metadata": {},
   "outputs": [],
   "source": [
    "scaler = StandardScaler()"
   ]
  },
  {
   "cell_type": "code",
   "execution_count": null,
   "id": "f76617da",
   "metadata": {},
   "outputs": [],
   "source": [
    "x_train_scaled = scaler.fit_transform(x_train)\n",
    "x_test_scaled = scaler.fit_transform(x_test)"
   ]
  },
  {
   "cell_type": "markdown",
   "id": "1a48781d",
   "metadata": {},
   "source": [
    "### Fitting the KNN model"
   ]
  },
  {
   "cell_type": "code",
   "execution_count": null,
   "id": "9bf66cd1",
   "metadata": {},
   "outputs": [],
   "source": [
    "from sklearn.neighbors import KNeighborsClassifier"
   ]
  },
  {
   "cell_type": "code",
   "execution_count": null,
   "id": "5265398c",
   "metadata": {},
   "outputs": [],
   "source": [
    "knn = KNeighborsClassifier(n_neighbors=1)\n",
    "knn.fit(x_train_scaled,y_train)"
   ]
  },
  {
   "cell_type": "markdown",
   "id": "2edd8742",
   "metadata": {},
   "source": [
    "### Predictions and Evaluations"
   ]
  },
  {
   "cell_type": "code",
   "execution_count": null,
   "id": "4b9e740e",
   "metadata": {},
   "outputs": [],
   "source": [
    "y_pred = knn.predict(x_test_scaled)"
   ]
  },
  {
   "cell_type": "code",
   "execution_count": null,
   "id": "99bcbfb1",
   "metadata": {},
   "outputs": [],
   "source": [
    "from sklearn.metrics import classification_report, accuracy_score"
   ]
  },
  {
   "cell_type": "code",
   "execution_count": null,
   "id": "c79eef47",
   "metadata": {},
   "outputs": [],
   "source": [
    "print(classification_report(y_test,y_pred))"
   ]
  },
  {
   "cell_type": "code",
   "execution_count": null,
   "id": "2619cd3f",
   "metadata": {},
   "outputs": [],
   "source": [
    "pd.crosstab(y_test,y_pred)"
   ]
  },
  {
   "cell_type": "code",
   "execution_count": null,
   "id": "7e39874b",
   "metadata": {},
   "outputs": [],
   "source": [
    "accuracy_score(y_test,y_pred)"
   ]
  },
  {
   "cell_type": "markdown",
   "id": "90760fdf",
   "metadata": {},
   "source": [
    "### The Accuracy of the model is 90%"
   ]
  },
  {
   "cell_type": "markdown",
   "id": "8a25b906",
   "metadata": {},
   "source": [
    "### Finding best K value based on Accuracy score "
   ]
  },
  {
   "cell_type": "code",
   "execution_count": null,
   "id": "678650f7",
   "metadata": {},
   "outputs": [],
   "source": [
    "ks = np.linspace(1,30,dtype='int64')"
   ]
  },
  {
   "cell_type": "code",
   "execution_count": null,
   "id": "3a3820ea",
   "metadata": {},
   "outputs": [],
   "source": [
    "acc = []\n",
    "\n",
    "for k in ks:\n",
    "    kn = KNeighborsClassifier(n_neighbors=k)\n",
    "    kn.fit(x_train_scaled,y_train)\n",
    "    pred = kn.predict(x_test_scaled)\n",
    "    \n",
    "    a = accuracy_score(y_test,pred)\n",
    "    acc.append(a)\n"
   ]
  },
  {
   "cell_type": "code",
   "execution_count": null,
   "id": "f70709a1",
   "metadata": {},
   "outputs": [],
   "source": [
    "plt.style.use('default')\n",
    "plt.plot(ks,acc, label='Accuracy')\n",
    "plt.ylabel('Accuracy Score', size=10)\n",
    "plt.xlabel('K value', size=10)\n",
    "plt.legend()\n",
    "plt.grid()"
   ]
  },
  {
   "cell_type": "markdown",
   "id": "4cd24fe5",
   "metadata": {},
   "source": [
    "From the above graph, you can see that the accuracy is above 93% for k value equal to 5"
   ]
  },
  {
   "cell_type": "code",
   "execution_count": null,
   "id": "abff57b7",
   "metadata": {},
   "outputs": [],
   "source": [
    "## Lets train the model with K value equal to 5\n",
    "\n",
    "bestk = KNeighborsClassifier(n_neighbors=5)\n",
    "bestk.fit(x_train_scaled,y_train)\n",
    "best_pred = bestk.predict(x_test_scaled)"
   ]
  },
  {
   "cell_type": "code",
   "execution_count": null,
   "id": "60817c5f",
   "metadata": {},
   "outputs": [],
   "source": [
    "accuracy_score(y_test,best_pred)"
   ]
  },
  {
   "cell_type": "code",
   "execution_count": null,
   "id": "eaaa6a5a",
   "metadata": {},
   "outputs": [],
   "source": [
    "print(classification_report(y_test,best_pred))"
   ]
  },
  {
   "cell_type": "markdown",
   "id": "1177ad08",
   "metadata": {},
   "source": [
    "### The accuracy of the knn model is 93%"
   ]
  },
  {
   "cell_type": "code",
   "execution_count": null,
   "id": "30773457",
   "metadata": {},
   "outputs": [],
   "source": [
    "pd.crosstab(y_test,best_pred)"
   ]
  },
  {
   "cell_type": "markdown",
   "id": "fc2d3750",
   "metadata": {},
   "source": [
    "# Let's Try Support Vector Machines and see the accuracy score"
   ]
  },
  {
   "cell_type": "code",
   "execution_count": null,
   "id": "bd4a7338",
   "metadata": {},
   "outputs": [],
   "source": [
    "from sklearn.svm import SVC"
   ]
  },
  {
   "cell_type": "markdown",
   "id": "f5f99314",
   "metadata": {},
   "source": [
    "## Train the model "
   ]
  },
  {
   "cell_type": "code",
   "execution_count": null,
   "id": "db963695",
   "metadata": {},
   "outputs": [],
   "source": [
    "svc_model = SVC()"
   ]
  },
  {
   "cell_type": "code",
   "execution_count": null,
   "id": "49d95be4",
   "metadata": {},
   "outputs": [],
   "source": [
    "svc_model.fit(x_train_scaled,y_train)"
   ]
  },
  {
   "cell_type": "markdown",
   "id": "6c680e75",
   "metadata": {},
   "source": [
    "## Testing and Evaluations\n",
    "\n"
   ]
  },
  {
   "cell_type": "code",
   "execution_count": null,
   "id": "5cdc17f8",
   "metadata": {},
   "outputs": [],
   "source": [
    "svc_pred = svc_model.predict(x_test_scaled)"
   ]
  },
  {
   "cell_type": "code",
   "execution_count": null,
   "id": "10c860e3",
   "metadata": {},
   "outputs": [],
   "source": [
    "print(classification_report(y_test,svc_pred))"
   ]
  },
  {
   "cell_type": "code",
   "execution_count": null,
   "id": "b0fd3bad",
   "metadata": {},
   "outputs": [],
   "source": [
    "accuracy_score(y_test,svc_pred)"
   ]
  },
  {
   "cell_type": "code",
   "execution_count": null,
   "id": "16470bdc",
   "metadata": {},
   "outputs": [],
   "source": [
    "pd.crosstab(y_test,svc_pred)"
   ]
  },
  {
   "cell_type": "markdown",
   "id": "2cd51e3e",
   "metadata": {},
   "source": [
    "### Lets try to improve the SVC model"
   ]
  },
  {
   "cell_type": "markdown",
   "id": "dac650fa",
   "metadata": {},
   "source": [
    "## GridSearchCV"
   ]
  },
  {
   "cell_type": "code",
   "execution_count": null,
   "id": "17d59d52",
   "metadata": {},
   "outputs": [],
   "source": [
    "param_grid =  {'C':[0.1,1,10,100], 'gamma':[1,0.1,0.01,0.001], 'kernel':['rbf']}"
   ]
  },
  {
   "cell_type": "code",
   "execution_count": null,
   "id": "02ccb21b",
   "metadata": {},
   "outputs": [],
   "source": [
    "from sklearn.model_selection import GridSearchCV"
   ]
  },
  {
   "cell_type": "code",
   "execution_count": null,
   "id": "45cba999",
   "metadata": {},
   "outputs": [],
   "source": [
    "grid = GridSearchCV(SVC(),param_grid,refit=True, verbose=3)"
   ]
  },
  {
   "cell_type": "code",
   "execution_count": null,
   "id": "b64ab8f7",
   "metadata": {},
   "outputs": [],
   "source": [
    "## Retrain the model\n",
    "\n",
    "grid.fit(x_train_scaled,y_train)"
   ]
  },
  {
   "cell_type": "markdown",
   "id": "20836e8e",
   "metadata": {},
   "source": [
    "\n",
    "### Predictions and Evaluations"
   ]
  },
  {
   "cell_type": "code",
   "execution_count": null,
   "id": "541ea970",
   "metadata": {},
   "outputs": [],
   "source": [
    "grid_pred = grid.predict(x_test_scaled)"
   ]
  },
  {
   "cell_type": "code",
   "execution_count": null,
   "id": "c4010ed2",
   "metadata": {},
   "outputs": [],
   "source": [
    "## lets check best score and best estimator\n",
    "grid.best_estimator_"
   ]
  },
  {
   "cell_type": "code",
   "execution_count": null,
   "id": "aca6f2c4",
   "metadata": {},
   "outputs": [],
   "source": [
    "grid.best_score_"
   ]
  },
  {
   "cell_type": "code",
   "execution_count": null,
   "id": "5e44ff5d",
   "metadata": {},
   "outputs": [],
   "source": [
    "print(classification_report(y_test,grid_pred))"
   ]
  },
  {
   "cell_type": "code",
   "execution_count": null,
   "id": "3bdeb16f",
   "metadata": {},
   "outputs": [],
   "source": [
    "pd.crosstab(y_test,grid_pred)"
   ]
  },
  {
   "cell_type": "code",
   "execution_count": null,
   "id": "35613b92",
   "metadata": {},
   "outputs": [],
   "source": []
  }
 ],
 "metadata": {
  "kernelspec": {
   "display_name": "Python 3 (ipykernel)",
   "language": "python",
   "name": "python3"
  }
 },
 "nbformat": 4,
 "nbformat_minor": 5
}
