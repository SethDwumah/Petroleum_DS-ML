{
 "cells": [
  {
   "cell_type": "markdown",
   "id": "ad617c7f",
   "metadata": {},
   "source": [
    "## Chapter  1: Data Types"
   ]
  },
  {
   "cell_type": "code",
   "execution_count": 17,
   "id": "21bb908d",
   "metadata": {},
   "outputs": [
    {
     "data": {
      "text/plain": [
       "2"
      ]
     },
     "execution_count": 17,
     "metadata": {},
     "output_type": "execute_result"
    }
   ],
   "source": [
    "1+1"
   ]
  },
  {
   "cell_type": "code",
   "execution_count": 18,
   "id": "ae812426",
   "metadata": {},
   "outputs": [
    {
     "data": {
      "text/plain": [
       "0"
      ]
     },
     "execution_count": 18,
     "metadata": {},
     "output_type": "execute_result"
    }
   ],
   "source": [
    "1-1"
   ]
  },
  {
   "cell_type": "code",
   "execution_count": 19,
   "id": "9eb75b4b",
   "metadata": {},
   "outputs": [
    {
     "data": {
      "text/plain": [
       "12"
      ]
     },
     "execution_count": 19,
     "metadata": {},
     "output_type": "execute_result"
    }
   ],
   "source": [
    "2*6"
   ]
  },
  {
   "cell_type": "code",
   "execution_count": 20,
   "id": "40e9be69",
   "metadata": {},
   "outputs": [
    {
     "data": {
      "text/plain": [
       "1.5"
      ]
     },
     "execution_count": 20,
     "metadata": {},
     "output_type": "execute_result"
    }
   ],
   "source": [
    "3/2"
   ]
  },
  {
   "cell_type": "code",
   "execution_count": 22,
   "id": "22ce3ada",
   "metadata": {},
   "outputs": [
    {
     "data": {
      "text/plain": [
       "290.0436"
      ]
     },
     "execution_count": 22,
     "metadata": {},
     "output_type": "execute_result"
    }
   ],
   "source": [
    "90.3*3.212"
   ]
  },
  {
   "cell_type": "code",
   "execution_count": 24,
   "id": "ab605aac",
   "metadata": {},
   "outputs": [
    {
     "data": {
      "text/plain": [
       "290.04"
      ]
     },
     "execution_count": 24,
     "metadata": {},
     "output_type": "execute_result"
    }
   ],
   "source": [
    "round(90.3*3.212,2)"
   ]
  },
  {
   "cell_type": "code",
   "execution_count": 28,
   "id": "8b1c1fda",
   "metadata": {},
   "outputs": [
    {
     "data": {
      "text/plain": [
       "9"
      ]
     },
     "execution_count": 28,
     "metadata": {},
     "output_type": "execute_result"
    }
   ],
   "source": [
    "# finding square of a number\n",
    "3**2"
   ]
  },
  {
   "cell_type": "code",
   "execution_count": 27,
   "id": "05f5b015",
   "metadata": {},
   "outputs": [
    {
     "data": {
      "text/plain": [
       "74088"
      ]
     },
     "execution_count": 27,
     "metadata": {},
     "output_type": "execute_result"
    }
   ],
   "source": [
    "42**3"
   ]
  },
  {
   "cell_type": "code",
   "execution_count": 29,
   "id": "ee05b1f8",
   "metadata": {},
   "outputs": [
    {
     "data": {
      "text/plain": [
       "0"
      ]
     },
     "execution_count": 29,
     "metadata": {},
     "output_type": "execute_result"
    }
   ],
   "source": [
    "# finding a remainder of a number\n",
    "4%2"
   ]
  },
  {
   "cell_type": "code",
   "execution_count": 30,
   "id": "760d1c83",
   "metadata": {},
   "outputs": [
    {
     "data": {
      "text/plain": [
       "3"
      ]
     },
     "execution_count": 30,
     "metadata": {},
     "output_type": "execute_result"
    }
   ],
   "source": [
    "423%7"
   ]
  },
  {
   "cell_type": "code",
   "execution_count": 31,
   "id": "8b01a150",
   "metadata": {},
   "outputs": [
    {
     "data": {
      "text/plain": [
       "2"
      ]
     },
     "execution_count": 31,
     "metadata": {},
     "output_type": "execute_result"
    }
   ],
   "source": [
    "## Floor Division: Returns the quotients after division\n",
    "5//2"
   ]
  },
  {
   "cell_type": "code",
   "execution_count": 32,
   "id": "be3a592b",
   "metadata": {},
   "outputs": [
    {
     "data": {
      "text/plain": [
       "5"
      ]
     },
     "execution_count": 32,
     "metadata": {},
     "output_type": "execute_result"
    }
   ],
   "source": [
    "2*(5//2)+ 5%2"
   ]
  },
  {
   "cell_type": "markdown",
   "id": "2682f540",
   "metadata": {},
   "source": [
    "#### Subtopic: Variable assignment"
   ]
  },
  {
   "cell_type": "code",
   "execution_count": 33,
   "id": "042ae1d0",
   "metadata": {},
   "outputs": [],
   "source": [
    "# Suppose reservoir A has a porosity 25% and reservoir B is 30%\n",
    "\n",
    "phi_A = 0.25\n",
    "phi_B = 0.30"
   ]
  },
  {
   "cell_type": "code",
   "execution_count": 34,
   "id": "4e9b1019",
   "metadata": {},
   "outputs": [
    {
     "data": {
      "text/plain": [
       "(0.25, 0.3)"
      ]
     },
     "execution_count": 34,
     "metadata": {},
     "output_type": "execute_result"
    }
   ],
   "source": [
    "phi_A, phi_B"
   ]
  },
  {
   "cell_type": "markdown",
   "id": "56e26054",
   "metadata": {},
   "source": [
    "#### 2. Strings "
   ]
  },
  {
   "cell_type": "code",
   "execution_count": 36,
   "id": "4c7d0e52",
   "metadata": {},
   "outputs": [],
   "source": [
    "message = 'single quotes are allowed'"
   ]
  },
  {
   "cell_type": "code",
   "execution_count": 37,
   "id": "ea4b54a4",
   "metadata": {},
   "outputs": [
    {
     "data": {
      "text/plain": [
       "'single quotes are allowed'"
      ]
     },
     "execution_count": 37,
     "metadata": {},
     "output_type": "execute_result"
    }
   ],
   "source": [
    "message"
   ]
  },
  {
   "cell_type": "code",
   "execution_count": 38,
   "id": "b4ce800c",
   "metadata": {},
   "outputs": [
    {
     "data": {
      "text/plain": [
       "'Double quotes are also allowed'"
      ]
     },
     "execution_count": 38,
     "metadata": {},
     "output_type": "execute_result"
    }
   ],
   "source": [
    "msg = \"Double quotes are also allowed\"\n",
    "msg"
   ]
  },
  {
   "cell_type": "markdown",
   "id": "b907ea35",
   "metadata": {},
   "source": [
    "#### Printing"
   ]
  },
  {
   "cell_type": "code",
   "execution_count": 40,
   "id": "09123c6a",
   "metadata": {},
   "outputs": [
    {
     "name": "stdout",
     "output_type": "stream",
     "text": [
      "This is line 1 \n",
      "This is line 2\n"
     ]
    }
   ],
   "source": [
    "\n",
    "print('This is line 1 \\nThis is line 2')"
   ]
  },
  {
   "cell_type": "code",
   "execution_count": 41,
   "id": "c53ad058",
   "metadata": {},
   "outputs": [
    {
     "name": "stdout",
     "output_type": "stream",
     "text": [
      "The rock type is name and the porosity is porosity\n"
     ]
    }
   ],
   "source": [
    "name =\"Sandstone\"\n",
    "porosity = 25 #percent\n",
    "print('The rock type is name and the porosity is porosity')"
   ]
  },
  {
   "cell_type": "markdown",
   "id": "91fad322",
   "metadata": {},
   "source": [
    "#### f-Strings"
   ]
  },
  {
   "cell_type": "code",
   "execution_count": 43,
   "id": "2d1ebc94",
   "metadata": {},
   "outputs": [
    {
     "name": "stdout",
     "output_type": "stream",
     "text": [
      "The rock type is Sandstone and the porosity is 25%\n"
     ]
    }
   ],
   "source": [
    "print(f'The rock type is {name} and the porosity is {porosity}%')"
   ]
  },
  {
   "cell_type": "code",
   "execution_count": 44,
   "id": "6c6b23fb",
   "metadata": {},
   "outputs": [
    {
     "name": "stdout",
     "output_type": "stream",
     "text": [
      "The man named Seth is 19 years old.\n"
     ]
    }
   ],
   "source": [
    "myname = 'Seth'; age=19\n",
    "print(f'The man named {myname} is {age} years old.')"
   ]
  },
  {
   "cell_type": "markdown",
   "id": "ba1bb1bf",
   "metadata": {},
   "source": [
    "#### 3. Lists "
   ]
  },
  {
   "cell_type": "code",
   "execution_count": 46,
   "id": "80851a31",
   "metadata": {},
   "outputs": [
    {
     "data": {
      "text/plain": [
       "[2, 4, 6, 7]"
      ]
     },
     "execution_count": 46,
     "metadata": {},
     "output_type": "execute_result"
    }
   ],
   "source": [
    "# List of integers\n",
    "ints = [2,4,6,7]\n",
    "ints"
   ]
  },
  {
   "cell_type": "code",
   "execution_count": 48,
   "id": "e7d80641",
   "metadata": {},
   "outputs": [
    {
     "data": {
      "text/plain": [
       "[2.3, 5.7, 1.01]"
      ]
     },
     "execution_count": 48,
     "metadata": {},
     "output_type": "execute_result"
    }
   ],
   "source": [
    "# list of floats \n",
    "\n",
    "flts = [2.3,5.7,1.01]\n",
    "flts"
   ]
  },
  {
   "cell_type": "code",
   "execution_count": 50,
   "id": "4ef664b9",
   "metadata": {},
   "outputs": [
    {
     "data": {
      "text/plain": [
       "['reservoir', 23, 'porosity', 0.33]"
      ]
     },
     "execution_count": 50,
     "metadata": {},
     "output_type": "execute_result"
    }
   ],
   "source": [
    "# mix bag\n",
    "mbs = ['reservoir',23,'porosity',0.33]\n",
    "mbs"
   ]
  },
  {
   "cell_type": "code",
   "execution_count": 51,
   "id": "d728513a",
   "metadata": {},
   "outputs": [
    {
     "data": {
      "text/plain": [
       "[2, 4, 6, 7, 2.3, 5.7, 1.01]"
      ]
     },
     "execution_count": 51,
     "metadata": {},
     "output_type": "execute_result"
    }
   ],
   "source": [
    "ints+flts\n"
   ]
  },
  {
   "cell_type": "code",
   "execution_count": 52,
   "id": "e05b4b0d",
   "metadata": {},
   "outputs": [
    {
     "data": {
      "text/plain": [
       "[0.2, 0.4, 0.5, 0.24, 0.35]"
      ]
     },
     "execution_count": 52,
     "metadata": {},
     "output_type": "execute_result"
    }
   ],
   "source": [
    "porosities =[0.2,0.4,0.5,0.24,0.35]\n",
    "porosities"
   ]
  },
  {
   "cell_type": "markdown",
   "id": "7ec2bfbf",
   "metadata": {},
   "source": [
    "#### Operation and Manipulation on Lists"
   ]
  },
  {
   "cell_type": "code",
   "execution_count": 53,
   "id": "373b6858",
   "metadata": {},
   "outputs": [
    {
     "data": {
      "text/plain": [
       "[1, 3, 6, 's', 'c', 'w']"
      ]
     },
     "execution_count": 53,
     "metadata": {},
     "output_type": "execute_result"
    }
   ],
   "source": [
    "[1,3,6] + ['s', 'c','w']"
   ]
  },
  {
   "cell_type": "code",
   "execution_count": 56,
   "id": "784e099d",
   "metadata": {},
   "outputs": [],
   "source": [
    "#Append\n",
    "new_value = 0.45\n",
    "new_value1 = 0.55\n",
    "porosities.append(new_value)\n",
    "porosities.append(new_value1)"
   ]
  },
  {
   "cell_type": "code",
   "execution_count": 57,
   "id": "f2b4f9e9",
   "metadata": {},
   "outputs": [
    {
     "data": {
      "text/plain": [
       "[0.2, 0.4, 0.5, 0.24, 0.35, 0.45, 0.45, 0.55]"
      ]
     },
     "execution_count": 57,
     "metadata": {},
     "output_type": "execute_result"
    }
   ],
   "source": [
    "porosities"
   ]
  },
  {
   "cell_type": "code",
   "execution_count": 58,
   "id": "038006c8",
   "metadata": {},
   "outputs": [],
   "source": [
    "porosities[-2]=0.3"
   ]
  },
  {
   "cell_type": "code",
   "execution_count": 59,
   "id": "edd90e0d",
   "metadata": {},
   "outputs": [
    {
     "data": {
      "text/plain": [
       "[0.2, 0.4, 0.5, 0.24, 0.35, 0.45, 0.3, 0.55]"
      ]
     },
     "execution_count": 59,
     "metadata": {},
     "output_type": "execute_result"
    }
   ],
   "source": [
    "porosities"
   ]
  },
  {
   "cell_type": "code",
   "execution_count": 60,
   "id": "e17f8b08",
   "metadata": {},
   "outputs": [],
   "source": [
    "# 2D List\n",
    "list_1 = [2,4,6]\n",
    "list_2 = [1,4,7]\n",
    "\n",
    "list_2D = [list_1, list_2]"
   ]
  },
  {
   "cell_type": "code",
   "execution_count": 61,
   "id": "d4eebe68",
   "metadata": {},
   "outputs": [
    {
     "data": {
      "text/plain": [
       "[[2, 4, 6], [1, 4, 7]]"
      ]
     },
     "execution_count": 61,
     "metadata": {},
     "output_type": "execute_result"
    }
   ],
   "source": [
    "list_2D"
   ]
  },
  {
   "cell_type": "code",
   "execution_count": 62,
   "id": "34490c4e",
   "metadata": {},
   "outputs": [
    {
     "data": {
      "text/plain": [
       "4"
      ]
     },
     "execution_count": 62,
     "metadata": {},
     "output_type": "execute_result"
    }
   ],
   "source": [
    "list_2D[1][1]"
   ]
  },
  {
   "cell_type": "code",
   "execution_count": 64,
   "id": "bb3df0f0",
   "metadata": {},
   "outputs": [
    {
     "data": {
      "text/plain": [
       "6"
      ]
     },
     "execution_count": 64,
     "metadata": {},
     "output_type": "execute_result"
    }
   ],
   "source": [
    "list_2D[0][2]"
   ]
  },
  {
   "cell_type": "markdown",
   "id": "4f321f65",
   "metadata": {},
   "source": [
    "#### List Slicing"
   ]
  },
  {
   "cell_type": "code",
   "execution_count": 70,
   "id": "41d15309",
   "metadata": {},
   "outputs": [
    {
     "data": {
      "text/plain": [
       "[5, 10, 10, 50]"
      ]
     },
     "execution_count": 70,
     "metadata": {},
     "output_type": "execute_result"
    }
   ],
   "source": [
    "## We can access a particular section or slice of a list\n",
    "\n",
    "# list_name[start:stop:step]\n",
    "\n",
    "perms = [4,5,1,10,1000,10,3,50,40,22]\n",
    "perms[1:-1:2]"
   ]
  },
  {
   "cell_type": "code",
   "execution_count": 71,
   "id": "94b437dd",
   "metadata": {},
   "outputs": [
    {
     "data": {
      "text/plain": [
       "[1, 10, 1000, 10, 3, 50, 40, 22]"
      ]
     },
     "execution_count": 71,
     "metadata": {},
     "output_type": "execute_result"
    }
   ],
   "source": [
    "perms[2:]"
   ]
  },
  {
   "cell_type": "code",
   "execution_count": 75,
   "id": "ab0566b4",
   "metadata": {},
   "outputs": [
    {
     "data": {
      "text/plain": [
       "[4, 1, 1000, 3, 40]"
      ]
     },
     "execution_count": 75,
     "metadata": {},
     "output_type": "execute_result"
    }
   ],
   "source": [
    "perms[:-1:2]"
   ]
  },
  {
   "cell_type": "markdown",
   "id": "742b4d05",
   "metadata": {},
   "source": [
    "#### Tuples"
   ]
  },
  {
   "cell_type": "code",
   "execution_count": 76,
   "id": "bcd68a55",
   "metadata": {},
   "outputs": [
    {
     "data": {
      "text/plain": [
       "(1, 4, 3)"
      ]
     },
     "execution_count": 76,
     "metadata": {},
     "output_type": "execute_result"
    }
   ],
   "source": [
    "t= (1,4,3)\n",
    "t"
   ]
  },
  {
   "cell_type": "markdown",
   "id": "a0888062",
   "metadata": {},
   "source": [
    "### Sets"
   ]
  },
  {
   "cell_type": "code",
   "execution_count": 77,
   "id": "5c20dfe8",
   "metadata": {},
   "outputs": [
    {
     "data": {
      "text/plain": [
       "{1, 2, 3}"
      ]
     },
     "execution_count": 77,
     "metadata": {},
     "output_type": "execute_result"
    }
   ],
   "source": [
    "# Most important application of sets is that they help store\n",
    "# only unique information\n",
    "set1 = {1,3,2}\n",
    "set1"
   ]
  },
  {
   "cell_type": "code",
   "execution_count": 78,
   "id": "f5f902d1",
   "metadata": {},
   "outputs": [],
   "source": [
    "duplicates = [1,2,2,3,4,3,3,4,7,8,3,5,6,6,8]"
   ]
  },
  {
   "cell_type": "code",
   "execution_count": 79,
   "id": "a0dee81a",
   "metadata": {},
   "outputs": [
    {
     "data": {
      "text/plain": [
       "{1, 2, 3, 4, 5, 6, 7, 8}"
      ]
     },
     "execution_count": 79,
     "metadata": {},
     "output_type": "execute_result"
    }
   ],
   "source": [
    "set(duplicates)"
   ]
  },
  {
   "cell_type": "code",
   "execution_count": 82,
   "id": "09528c8a",
   "metadata": {},
   "outputs": [
    {
     "name": "stdout",
     "output_type": "stream",
     "text": [
      "Enter a number here: 46\n"
     ]
    }
   ],
   "source": [
    "# Type casting\n",
    "num = float(input('Enter a number here: '))"
   ]
  },
  {
   "cell_type": "code",
   "execution_count": 84,
   "id": "7efe88bc",
   "metadata": {},
   "outputs": [
    {
     "data": {
      "text/plain": [
       "2116.0"
      ]
     },
     "execution_count": 84,
     "metadata": {},
     "output_type": "execute_result"
    }
   ],
   "source": [
    "num**2"
   ]
  },
  {
   "cell_type": "markdown",
   "id": "fdd7eea5",
   "metadata": {},
   "source": [
    "### Dictionaries"
   ]
  },
  {
   "cell_type": "code",
   "execution_count": 93,
   "id": "93490178",
   "metadata": {},
   "outputs": [],
   "source": [
    "# dictname = {'key1':value1,'key2':value2}\n",
    "reservoir1 = {'rock_type':['Sandstone','Limestone','Shale'],'phi':[0.2,0.35,0.4],'K(mD)':[120,140,152]}"
   ]
  },
  {
   "cell_type": "code",
   "execution_count": 94,
   "id": "d1fcf37d",
   "metadata": {},
   "outputs": [
    {
     "data": {
      "text/plain": [
       "[0.2, 0.35, 0.4]"
      ]
     },
     "execution_count": 94,
     "metadata": {},
     "output_type": "execute_result"
    }
   ],
   "source": [
    "reservoir1['phi']"
   ]
  },
  {
   "cell_type": "code",
   "execution_count": 95,
   "id": "85244adc",
   "metadata": {},
   "outputs": [
    {
     "data": {
      "text/plain": [
       "[120, 140, 152]"
      ]
     },
     "execution_count": 95,
     "metadata": {},
     "output_type": "execute_result"
    }
   ],
   "source": [
    "reservoir1['K(mD)']"
   ]
  },
  {
   "cell_type": "code",
   "execution_count": 96,
   "id": "40fe13aa",
   "metadata": {},
   "outputs": [
    {
     "data": {
      "text/plain": [
       "dict_keys(['rock_type', 'phi', 'K(mD)'])"
      ]
     },
     "execution_count": 96,
     "metadata": {},
     "output_type": "execute_result"
    }
   ],
   "source": [
    "reservoir1.keys()"
   ]
  },
  {
   "cell_type": "code",
   "execution_count": 97,
   "id": "77e15bc7",
   "metadata": {},
   "outputs": [
    {
     "data": {
      "text/plain": [
       "dict_values([['Sandstone', 'Limestone', 'Shale'], [0.2, 0.35, 0.4], [120, 140, 152]])"
      ]
     },
     "execution_count": 97,
     "metadata": {},
     "output_type": "execute_result"
    }
   ],
   "source": [
    "reservoir1.values()"
   ]
  },
  {
   "cell_type": "code",
   "execution_count": 98,
   "id": "d55132c6",
   "metadata": {},
   "outputs": [
    {
     "data": {
      "text/html": [
       "<div>\n",
       "<style scoped>\n",
       "    .dataframe tbody tr th:only-of-type {\n",
       "        vertical-align: middle;\n",
       "    }\n",
       "\n",
       "    .dataframe tbody tr th {\n",
       "        vertical-align: top;\n",
       "    }\n",
       "\n",
       "    .dataframe thead th {\n",
       "        text-align: right;\n",
       "    }\n",
       "</style>\n",
       "<table border=\"1\" class=\"dataframe\">\n",
       "  <thead>\n",
       "    <tr style=\"text-align: right;\">\n",
       "      <th></th>\n",
       "      <th>rock_type</th>\n",
       "      <th>phi</th>\n",
       "      <th>K(mD)</th>\n",
       "    </tr>\n",
       "  </thead>\n",
       "  <tbody>\n",
       "    <tr>\n",
       "      <th>0</th>\n",
       "      <td>Sandstone</td>\n",
       "      <td>0.20</td>\n",
       "      <td>120</td>\n",
       "    </tr>\n",
       "    <tr>\n",
       "      <th>1</th>\n",
       "      <td>Limestone</td>\n",
       "      <td>0.35</td>\n",
       "      <td>140</td>\n",
       "    </tr>\n",
       "    <tr>\n",
       "      <th>2</th>\n",
       "      <td>Shale</td>\n",
       "      <td>0.40</td>\n",
       "      <td>152</td>\n",
       "    </tr>\n",
       "  </tbody>\n",
       "</table>\n",
       "</div>"
      ],
      "text/plain": [
       "   rock_type   phi  K(mD)\n",
       "0  Sandstone  0.20    120\n",
       "1  Limestone  0.35    140\n",
       "2      Shale  0.40    152"
      ]
     },
     "execution_count": 98,
     "metadata": {},
     "output_type": "execute_result"
    }
   ],
   "source": [
    "import pandas as pd\n",
    "\n",
    "pd.DataFrame(reservoir1)"
   ]
  },
  {
   "cell_type": "markdown",
   "id": "691fe39f",
   "metadata": {},
   "source": [
    "# Chapter 2: Operators & Statements"
   ]
  },
  {
   "cell_type": "markdown",
   "id": "658a39ed",
   "metadata": {},
   "source": [
    "#### Comparison Operators"
   ]
  },
  {
   "cell_type": "code",
   "execution_count": 99,
   "id": "95fc0a46",
   "metadata": {},
   "outputs": [
    {
     "data": {
      "text/plain": [
       "False"
      ]
     },
     "execution_count": 99,
     "metadata": {},
     "output_type": "execute_result"
    }
   ],
   "source": [
    "2<1"
   ]
  },
  {
   "cell_type": "code",
   "execution_count": 100,
   "id": "b0378ebb",
   "metadata": {},
   "outputs": [
    {
     "data": {
      "text/plain": [
       "True"
      ]
     },
     "execution_count": 100,
     "metadata": {},
     "output_type": "execute_result"
    }
   ],
   "source": [
    "5>2"
   ]
  },
  {
   "cell_type": "code",
   "execution_count": 101,
   "id": "3db02dec",
   "metadata": {},
   "outputs": [
    {
     "data": {
      "text/plain": [
       "True"
      ]
     },
     "execution_count": 101,
     "metadata": {},
     "output_type": "execute_result"
    }
   ],
   "source": [
    "3>=3 "
   ]
  },
  {
   "cell_type": "markdown",
   "id": "7d85d26d",
   "metadata": {},
   "source": [
    "#### Logical operators"
   ]
  },
  {
   "cell_type": "code",
   "execution_count": 102,
   "id": "1946a673",
   "metadata": {},
   "outputs": [
    {
     "data": {
      "text/plain": [
       "False"
      ]
     },
     "execution_count": 102,
     "metadata": {},
     "output_type": "execute_result"
    }
   ],
   "source": [
    "# and | or | not\n",
    "\n",
    "(1>2) and (4<2)"
   ]
  },
  {
   "cell_type": "code",
   "execution_count": 103,
   "id": "abc2d022",
   "metadata": {},
   "outputs": [
    {
     "data": {
      "text/plain": [
       "False"
      ]
     },
     "execution_count": 103,
     "metadata": {},
     "output_type": "execute_result"
    }
   ],
   "source": [
    "(2>=4) and (3<=1)"
   ]
  },
  {
   "cell_type": "code",
   "execution_count": 104,
   "id": "96e032ad",
   "metadata": {},
   "outputs": [
    {
     "data": {
      "text/plain": [
       "False"
      ]
     },
     "execution_count": 104,
     "metadata": {},
     "output_type": "execute_result"
    }
   ],
   "source": [
    "(3>6) or (3<2)"
   ]
  },
  {
   "cell_type": "code",
   "execution_count": 105,
   "id": "ab6752bb",
   "metadata": {},
   "outputs": [
    {
     "data": {
      "text/plain": [
       "True"
      ]
     },
     "execution_count": 105,
     "metadata": {},
     "output_type": "execute_result"
    }
   ],
   "source": [
    "(3>2) or (2>2)"
   ]
  },
  {
   "cell_type": "code",
   "execution_count": 106,
   "id": "73b37807",
   "metadata": {},
   "outputs": [
    {
     "data": {
      "text/plain": [
       "False"
      ]
     },
     "execution_count": 106,
     "metadata": {},
     "output_type": "execute_result"
    }
   ],
   "source": [
    "(1==2) and (3<2)"
   ]
  },
  {
   "cell_type": "markdown",
   "id": "91c94962",
   "metadata": {},
   "source": [
    "####  if - elif - else statements"
   ]
  },
  {
   "cell_type": "code",
   "execution_count": 111,
   "id": "ac6deee6",
   "metadata": {},
   "outputs": [
    {
     "name": "stdout",
     "output_type": "stream",
     "text": [
      "Enter value of phi (0.1 - 0.65) =0.34\n",
      "Less porous\n"
     ]
    }
   ],
   "source": [
    "p = float(input(\"Enter value of phi (0.1 - 0.65) =\"))\n",
    "if p<0.35:\n",
    "    print('Less porous')\n",
    "elif p==0.35:\n",
    "    print('Porosity is normal')\n",
    "else:\n",
    "    print('Highly porous')"
   ]
  },
  {
   "cell_type": "markdown",
   "id": "b7631277",
   "metadata": {},
   "source": [
    "## Chapter 3: Loops / Iterations"
   ]
  },
  {
   "cell_type": "markdown",
   "id": "2a4672d9",
   "metadata": {},
   "source": [
    "#### For loops"
   ]
  },
  {
   "cell_type": "code",
   "execution_count": 112,
   "id": "9c0ddf4b",
   "metadata": {},
   "outputs": [
    {
     "name": "stdout",
     "output_type": "stream",
     "text": [
      "sst\n",
      "dolo\n",
      "lst\n",
      "shale\n"
     ]
    }
   ],
   "source": [
    "liths = ['sst','dolo','lst','shale']\n",
    "\n",
    "\n",
    "for name in liths:\n",
    "    print(name)"
   ]
  },
  {
   "cell_type": "code",
   "execution_count": 113,
   "id": "a972fc4c",
   "metadata": {},
   "outputs": [
    {
     "name": "stdout",
     "output_type": "stream",
     "text": [
      "Odd\n",
      "Even\n",
      "Odd\n",
      "Even\n",
      "Odd\n",
      "Even\n",
      "Odd\n",
      "Even\n",
      "Odd\n",
      "Even\n"
     ]
    }
   ],
   "source": [
    "nums = [1,2,3,4,5,6,7,8,9,10]\n",
    "\n",
    "for n in nums:\n",
    "    if n% 2==0:\n",
    "        print('Even')\n",
    "    else:\n",
    "        print('Odd')"
   ]
  },
  {
   "cell_type": "markdown",
   "id": "8043d9f8",
   "metadata": {},
   "source": [
    "#### While loops"
   ]
  },
  {
   "cell_type": "code",
   "execution_count": 115,
   "id": "5ec7c8f0",
   "metadata": {},
   "outputs": [
    {
     "name": "stdout",
     "output_type": "stream",
     "text": [
      "i is: 1\n",
      "i is: 2\n",
      "i is: 3\n",
      "i is: 4\n"
     ]
    }
   ],
   "source": [
    "# keep running as long as the condition is satisfied\n",
    "\n",
    "i =1\n",
    "while i<5:\n",
    "    print(\"i is: {}\".format(i))\n",
    "    i=i+1"
   ]
  },
  {
   "cell_type": "code",
   "execution_count": 116,
   "id": "25810b75",
   "metadata": {},
   "outputs": [
    {
     "data": {
      "text/plain": [
       "range(0, 10)"
      ]
     },
     "execution_count": 116,
     "metadata": {},
     "output_type": "execute_result"
    }
   ],
   "source": [
    "range(10)"
   ]
  },
  {
   "cell_type": "code",
   "execution_count": 118,
   "id": "9cf672c9",
   "metadata": {},
   "outputs": [
    {
     "name": "stdout",
     "output_type": "stream",
     "text": [
      "Hey, man!\n",
      "Hey, man!\n",
      "Hey, man!\n",
      "Hey, man!\n",
      "Hey, man!\n"
     ]
    }
   ],
   "source": [
    "for i in range(5):\n",
    "    print('Hey, man!')"
   ]
  },
  {
   "cell_type": "markdown",
   "id": "57f56c4d",
   "metadata": {},
   "source": [
    "# Chapter 4: Functions"
   ]
  },
  {
   "cell_type": "code",
   "execution_count": 129,
   "id": "0b03a32f",
   "metadata": {},
   "outputs": [],
   "source": [
    "def squarer(x):\n",
    "    sq = x**2\n",
    "    return sq"
   ]
  },
  {
   "cell_type": "code",
   "execution_count": 130,
   "id": "2ecd7752",
   "metadata": {},
   "outputs": [
    {
     "data": {
      "text/plain": [
       "289"
      ]
     },
     "execution_count": 130,
     "metadata": {},
     "output_type": "execute_result"
    }
   ],
   "source": [
    "squarer(17)"
   ]
  },
  {
   "cell_type": "code",
   "execution_count": 137,
   "id": "329744a9",
   "metadata": {},
   "outputs": [],
   "source": [
    "# Example: Take in a number and power and raise number to that power\n",
    "\n",
    "def powerer(number,power):\n",
    "    result = print(f'{number} ** {power}')\n",
    "    result = number**power\n",
    "    return result"
   ]
  },
  {
   "cell_type": "code",
   "execution_count": 139,
   "id": "7c528015",
   "metadata": {},
   "outputs": [
    {
     "name": "stdout",
     "output_type": "stream",
     "text": [
      "42 ** 2\n"
     ]
    },
    {
     "data": {
      "text/plain": [
       "1764"
      ]
     },
     "execution_count": 139,
     "metadata": {},
     "output_type": "execute_result"
    }
   ],
   "source": [
    "powerer(42,2)"
   ]
  },
  {
   "cell_type": "markdown",
   "id": "184be5af",
   "metadata": {},
   "source": [
    "### Mini project: Functions"
   ]
  },
  {
   "cell_type": "markdown",
   "id": "94188fa7",
   "metadata": {},
   "source": [
    "#### Darcy's Law"
   ]
  },
  {
   "cell_type": "code",
   "execution_count": 141,
   "id": "d995d60a",
   "metadata": {},
   "outputs": [],
   "source": [
    "# create function for Darcy's law\n",
    "\n",
    "# function definition\n",
    "\n",
    "def slope():\n",
    "    \n",
    "    k = int(input('Enter k: '))\n",
    "    h= int(input('Enter h: '))\n",
    "    mu = int(input('Enter viscosity: '))\n",
    "    B = float(input('Enter FVF: '))\n",
    "    \n",
    "    lnrerw = 0.5\n",
    "    \n",
    "    m = k*h/(141.2*mu*B*lnrerw)\n",
    "    \n",
    "    return m"
   ]
  },
  {
   "cell_type": "code",
   "execution_count": 143,
   "id": "98343347",
   "metadata": {},
   "outputs": [
    {
     "name": "stdout",
     "output_type": "stream",
     "text": [
      "Enter k: 150\n",
      "Enter h: 30\n",
      "Enter viscosity: 100\n",
      "Enter FVF: 1.12\n",
      "The flowrate at 500 psi drawdown is 284.5507891541886 STB/D\n"
     ]
    }
   ],
   "source": [
    "# Function call to get the value function returns\n",
    "\n",
    "delp = 500 #psi\n",
    "\n",
    "m= slope()\n",
    "\n",
    "q = m*delp\n",
    "\n",
    "print(f\"The flowrate at {delp} psi drawdown is {q} STB/D\")"
   ]
  },
  {
   "cell_type": "code",
   "execution_count": 146,
   "id": "1568b525",
   "metadata": {},
   "outputs": [],
   "source": [
    "def API(SG):\n",
    "    api = 141.5/SG - 131.5\n",
    "\n",
    "    return api\n",
    "    "
   ]
  },
  {
   "cell_type": "code",
   "execution_count": 147,
   "id": "1516663f",
   "metadata": {},
   "outputs": [
    {
     "data": {
      "text/plain": [
       "10.0"
      ]
     },
     "execution_count": 147,
     "metadata": {},
     "output_type": "execute_result"
    }
   ],
   "source": [
    "API(1)"
   ]
  },
  {
   "cell_type": "markdown",
   "id": "17782ede",
   "metadata": {},
   "source": [
    "#### Lambda functions/ Anonymous function"
   ]
  },
  {
   "cell_type": "code",
   "execution_count": 148,
   "id": "8734e624",
   "metadata": {},
   "outputs": [
    {
     "data": {
      "text/plain": [
       "10.0"
      ]
     },
     "execution_count": 148,
     "metadata": {},
     "output_type": "execute_result"
    }
   ],
   "source": [
    "API = lambda SG : 141.5/SG - 131.5\n",
    "\n",
    "API(1)"
   ]
  },
  {
   "cell_type": "markdown",
   "id": "0c78c12d",
   "metadata": {},
   "source": [
    "### Mini project 2: iterations"
   ]
  },
  {
   "cell_type": "code",
   "execution_count": 157,
   "id": "fe49c08c",
   "metadata": {},
   "outputs": [
    {
     "data": {
      "image/png": "[encoded data removed]",
      "text/plain": [
       "<Figure size 432x288 with 1 Axes>"
      ]
     },
     "metadata": {
      "needs_background": "light"
     },
     "output_type": "display_data"
    }
   ],
   "source": [
    "import numpy as np\n",
    "import matplotlib.pyplot as plt\n",
    "\n",
    "x = np.linspace(-10,10)\n",
    "y1 = np.sin(x)\n",
    "y2 = x+1\n",
    "\n",
    "plt.plot(x,y1)\n",
    "plt.plot(x,y2)\n",
    "\n",
    "plt.axvline(root,color='red')\n",
    "\n",
    "plt.ylim(-3,3)\n",
    "plt.xlim(-5,5)\n",
    "\n",
    "plt.grid()"
   ]
  },
  {
   "cell_type": "markdown",
   "id": "3bcba0e7",
   "metadata": {},
   "source": [
    "#### Using Newton - Raphson's Method"
   ]
  },
  {
   "cell_type": "code",
   "execution_count": 154,
   "id": "905f445a",
   "metadata": {},
   "outputs": [],
   "source": [
    "import math"
   ]
  },
  {
   "cell_type": "code",
   "execution_count": 155,
   "id": "f8e4ab29",
   "metadata": {},
   "outputs": [],
   "source": [
    "# f(x) = 1 + x - sin(x)\n",
    "# f'(x) = 1 - cos(x)\n",
    "\n",
    "f = lambda x_0: 1 + x_0 - math.sin(x_0)\n",
    "fdash = lambda x_0: 1 - math.cos(x_0)\n",
    "\n",
    "x0 = 1\n",
    "for i in range(100):\n",
    "    x0 = x0- f(x0)/fdash(x0)\n",
    "    \n",
    "root = x0"
   ]
  },
  {
   "cell_type": "code",
   "execution_count": 156,
   "id": "be23e3bf",
   "metadata": {},
   "outputs": [
    {
     "data": {
      "text/plain": [
       "-1.9345632107520243"
      ]
     },
     "execution_count": 156,
     "metadata": {},
     "output_type": "execute_result"
    }
   ],
   "source": [
    "root"
   ]
  },
  {
   "cell_type": "code",
   "execution_count": 161,
   "id": "c74063bc",
   "metadata": {},
   "outputs": [
    {
     "name": "stdout",
     "output_type": "stream",
     "text": [
      "Enter I.G of the Cube root of 12567 =2\n"
     ]
    },
    {
     "data": {
      "text/plain": [
       "30.634195864380104"
      ]
     },
     "execution_count": 161,
     "metadata": {},
     "output_type": "execute_result"
    }
   ],
   "source": [
    "# Finding cubic root of a number\n",
    "#f(x) = x3 - N = 0\n",
    "# f'(x) = 3x2\n",
    "\n",
    "N = 12567\n",
    "\n",
    "y = lambda p : p**3 - N\n",
    "\n",
    "ydash = lambda p : 3*(p**2)\n",
    "\n",
    "p0 = float(input(f'Enter I.G of the Cube root of {N} ='))\n",
    "\n",
    "for i in range(10):\n",
    "    p0 = p0 - y(p0)/ydash(p0)\n",
    "    \n",
    "    \n",
    "cuberoot = p0\n",
    "\n",
    "cuberoot"
   ]
  },
  {
   "cell_type": "code",
   "execution_count": 164,
   "id": "8d0dcf1c",
   "metadata": {},
   "outputs": [
    {
     "name": "stdout",
     "output_type": "stream",
     "text": [
      "Enter your x value = 33\n"
     ]
    },
    {
     "data": {
      "text/plain": [
       "3.147125244140625e-05"
      ]
     },
     "execution_count": 164,
     "metadata": {},
     "output_type": "execute_result"
    }
   ],
   "source": [
    "# Exercise\n",
    "\n",
    "# f(x)  = x2\n",
    "# f'(x) = 2x\n",
    "\n",
    "g = lambda x : x**2\n",
    "gdash = lambda x : 2*x\n",
    "\n",
    "x_value = float(input('Enter your x value = '))\n",
    "\n",
    "for i in range(20):\n",
    "    x_value = x_value - g(x_value)/gdash(x_value)\n",
    "    \n",
    "sq = x_value\n",
    "sq"
   ]
  },
  {
   "cell_type": "code",
   "execution_count": null,
   "id": "bc0f3d58",
   "metadata": {},
   "outputs": [],
   "source": []
  }
 ],
 "metadata": {
  "kernelspec": {
   "display_name": "Python 3 (ipykernel)",
   "language": "python",
   "name": "python3"
  },
  "language_info": {
   "codemirror_mode": {
    "name": "ipython",
    "version": 3
   },
   "file_extension": ".py",
   "mimetype": "text/x-python",
   "name": "python",
   "nbconvert_exporter": "python",
   "pygments_lexer": "ipython3",
   "version": "3.9.12"
  }
 },
 "nbformat": 4,
 "nbformat_minor": 5
}
