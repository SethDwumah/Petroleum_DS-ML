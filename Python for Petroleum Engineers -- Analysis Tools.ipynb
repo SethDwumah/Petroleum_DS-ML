{
 "cells": [
  {
   "cell_type": "markdown",
   "id": "c0da33f9",
   "metadata": {},
   "source": [
    "# 1. NumPy"
   ]
  },
  {
   "cell_type": "code",
   "execution_count": 2,
   "id": "eec53fda",
   "metadata": {},
   "outputs": [],
   "source": [
    "import numpy as np"
   ]
  },
  {
   "cell_type": "code",
   "execution_count": 11,
   "id": "908b4950",
   "metadata": {},
   "outputs": [],
   "source": [
    "phi = [0.2,0.4,0.25,0.35,0.44]\n",
    "\n",
    "for p in range(4):\n",
    "    phi[p]= phi[p]**2"
   ]
  },
  {
   "cell_type": "code",
   "execution_count": 15,
   "id": "18b5b28f",
   "metadata": {},
   "outputs": [
    {
     "data": {
      "text/plain": [
       "[0.3, 0.25, 0.44, 0.29, 0.36]"
      ]
     },
     "execution_count": 15,
     "metadata": {},
     "output_type": "execute_result"
    }
   ],
   "source": [
    "phi_ar = [0.3,0.25,0.44,0.29,0.36]\n",
    "phi_ar"
   ]
  },
  {
   "cell_type": "code",
   "execution_count": 17,
   "id": "9488b559",
   "metadata": {},
   "outputs": [
    {
     "data": {
      "text/plain": [
       "array([0.3 , 0.25, 0.44, 0.29, 0.36])"
      ]
     },
     "execution_count": 17,
     "metadata": {},
     "output_type": "execute_result"
    }
   ],
   "source": [
    "# Lets convert the list to numpy array\n",
    "phi_array = np.array(phi_ar)\n",
    "phi_array"
   ]
  },
  {
   "cell_type": "code",
   "execution_count": 18,
   "id": "1a54abaf",
   "metadata": {},
   "outputs": [
    {
     "data": {
      "text/plain": [
       "array([0.6 , 0.5 , 0.88, 0.58, 0.72])"
      ]
     },
     "execution_count": 18,
     "metadata": {},
     "output_type": "execute_result"
    }
   ],
   "source": [
    "phi_array*2"
   ]
  },
  {
   "cell_type": "code",
   "execution_count": 21,
   "id": "5b83bb66",
   "metadata": {},
   "outputs": [
    {
     "data": {
      "text/plain": [
       "array([3.3 , 3.25, 3.44, 3.29, 3.36])"
      ]
     },
     "execution_count": 21,
     "metadata": {},
     "output_type": "execute_result"
    }
   ],
   "source": [
    "phi_array+3"
   ]
  },
  {
   "cell_type": "code",
   "execution_count": 25,
   "id": "d4c8bf68",
   "metadata": {},
   "outputs": [
    {
     "data": {
      "text/plain": [
       "[[1, 5, 7], [3, 5, 2], [9, 0, 1]]"
      ]
     },
     "execution_count": 25,
     "metadata": {},
     "output_type": "execute_result"
    }
   ],
   "source": [
    "# a 2D array\n",
    "my_matrix = [[1,5,7],[3,5,2],[9,0,1]]\n",
    "my_matrix"
   ]
  },
  {
   "cell_type": "code",
   "execution_count": 27,
   "id": "34511d70",
   "metadata": {},
   "outputs": [],
   "source": [
    "A2 = np.array(my_matrix)"
   ]
  },
  {
   "cell_type": "code",
   "execution_count": 28,
   "id": "9169ee07",
   "metadata": {},
   "outputs": [
    {
     "data": {
      "text/plain": [
       "array([[ 2, 10, 14],\n",
       "       [ 6, 10,  4],\n",
       "       [18,  0,  2]])"
      ]
     },
     "execution_count": 28,
     "metadata": {},
     "output_type": "execute_result"
    }
   ],
   "source": [
    "A2*2"
   ]
  },
  {
   "cell_type": "markdown",
   "id": "97365d99",
   "metadata": {},
   "source": [
    "### Build in methods of NumPy"
   ]
  },
  {
   "cell_type": "code",
   "execution_count": 29,
   "id": "d258a39a",
   "metadata": {},
   "outputs": [
    {
     "data": {
      "text/plain": [
       "array([0.   , 0.005, 0.01 , 0.015, 0.02 , 0.025, 0.03 , 0.035, 0.04 ,\n",
       "       0.045, 0.05 , 0.055, 0.06 , 0.065, 0.07 , 0.075, 0.08 , 0.085,\n",
       "       0.09 , 0.095, 0.1  , 0.105, 0.11 , 0.115, 0.12 , 0.125, 0.13 ,\n",
       "       0.135, 0.14 , 0.145, 0.15 , 0.155, 0.16 , 0.165, 0.17 , 0.175,\n",
       "       0.18 , 0.185, 0.19 , 0.195, 0.2  , 0.205, 0.21 , 0.215, 0.22 ,\n",
       "       0.225, 0.23 , 0.235, 0.24 , 0.245, 0.25 , 0.255, 0.26 , 0.265,\n",
       "       0.27 , 0.275, 0.28 , 0.285, 0.29 , 0.295, 0.3  , 0.305, 0.31 ,\n",
       "       0.315, 0.32 , 0.325, 0.33 , 0.335, 0.34 , 0.345, 0.35 , 0.355,\n",
       "       0.36 , 0.365, 0.37 , 0.375, 0.38 , 0.385, 0.39 , 0.395, 0.4  ,\n",
       "       0.405, 0.41 , 0.415, 0.42 , 0.425, 0.43 , 0.435, 0.44 , 0.445,\n",
       "       0.45 , 0.455, 0.46 , 0.465, 0.47 , 0.475, 0.48 , 0.485, 0.49 ,\n",
       "       0.495, 0.5  , 0.505, 0.51 , 0.515, 0.52 , 0.525, 0.53 , 0.535,\n",
       "       0.54 , 0.545, 0.55 , 0.555, 0.56 , 0.565, 0.57 , 0.575, 0.58 ,\n",
       "       0.585, 0.59 , 0.595, 0.6  , 0.605, 0.61 , 0.615, 0.62 , 0.625,\n",
       "       0.63 , 0.635, 0.64 , 0.645, 0.65 , 0.655, 0.66 , 0.665, 0.67 ,\n",
       "       0.675, 0.68 , 0.685, 0.69 , 0.695, 0.7  , 0.705, 0.71 , 0.715,\n",
       "       0.72 , 0.725, 0.73 , 0.735, 0.74 , 0.745, 0.75 , 0.755, 0.76 ,\n",
       "       0.765, 0.77 , 0.775, 0.78 , 0.785, 0.79 , 0.795, 0.8  , 0.805,\n",
       "       0.81 , 0.815, 0.82 , 0.825, 0.83 , 0.835, 0.84 , 0.845, 0.85 ,\n",
       "       0.855, 0.86 , 0.865, 0.87 , 0.875, 0.88 , 0.885, 0.89 , 0.895,\n",
       "       0.9  , 0.905, 0.91 , 0.915, 0.92 , 0.925, 0.93 , 0.935, 0.94 ,\n",
       "       0.945, 0.95 , 0.955, 0.96 , 0.965, 0.97 , 0.975, 0.98 , 0.985,\n",
       "       0.99 , 0.995])"
      ]
     },
     "execution_count": 29,
     "metadata": {},
     "output_type": "execute_result"
    }
   ],
   "source": [
    "# np.arange: Generating a vector of Range of numbers\n",
    "\n",
    "# Saturation\n",
    "\n",
    "Sw = np.arange(start=0, stop=1, step= 0.005)\n",
    "\n",
    "Sw"
   ]
  },
  {
   "cell_type": "code",
   "execution_count": 30,
   "id": "1b879017",
   "metadata": {},
   "outputs": [
    {
     "data": {
      "text/plain": [
       "array([[0., 0., 0., 0., 0., 0., 0., 0., 0., 0.],\n",
       "       [0., 0., 0., 0., 0., 0., 0., 0., 0., 0.],\n",
       "       [0., 0., 0., 0., 0., 0., 0., 0., 0., 0.],\n",
       "       [0., 0., 0., 0., 0., 0., 0., 0., 0., 0.],\n",
       "       [0., 0., 0., 0., 0., 0., 0., 0., 0., 0.],\n",
       "       [0., 0., 0., 0., 0., 0., 0., 0., 0., 0.],\n",
       "       [0., 0., 0., 0., 0., 0., 0., 0., 0., 0.],\n",
       "       [0., 0., 0., 0., 0., 0., 0., 0., 0., 0.],\n",
       "       [0., 0., 0., 0., 0., 0., 0., 0., 0., 0.],\n",
       "       [0., 0., 0., 0., 0., 0., 0., 0., 0., 0.]])"
      ]
     },
     "execution_count": 30,
     "metadata": {},
     "output_type": "execute_result"
    }
   ],
   "source": [
    "# 2. np.zeros: Generate a matrix/ Array of 0s and 1s\n",
    "\n",
    "np.zeros((10,10))"
   ]
  },
  {
   "cell_type": "code",
   "execution_count": 31,
   "id": "ec830e5b",
   "metadata": {},
   "outputs": [
    {
     "data": {
      "text/plain": [
       "array([[500., 500., 500.],\n",
       "       [500., 500., 500.],\n",
       "       [500., 500., 500.]])"
      ]
     },
     "execution_count": 31,
     "metadata": {},
     "output_type": "execute_result"
    }
   ],
   "source": [
    "# np.ones\n",
    "p = np.ones((3,3))\n",
    "\n",
    "Pi = 500 #psi\n",
    "P = p*Pi\n",
    "P"
   ]
  },
  {
   "cell_type": "code",
   "execution_count": 32,
   "id": "b9ee9eaf",
   "metadata": {},
   "outputs": [
    {
     "data": {
      "text/plain": [
       "array([ 0.        ,  0.52631579,  1.05263158,  1.57894737,  2.10526316,\n",
       "        2.63157895,  3.15789474,  3.68421053,  4.21052632,  4.73684211,\n",
       "        5.26315789,  5.78947368,  6.31578947,  6.84210526,  7.36842105,\n",
       "        7.89473684,  8.42105263,  8.94736842,  9.47368421, 10.        ])"
      ]
     },
     "execution_count": 32,
     "metadata": {},
     "output_type": "execute_result"
    }
   ],
   "source": [
    "np.linspace(start=0, stop =10, num =20)"
   ]
  },
  {
   "cell_type": "code",
   "execution_count": 33,
   "id": "6447ff53",
   "metadata": {},
   "outputs": [
    {
     "data": {
      "text/plain": [
       "array([[1., 0., 0., 0.],\n",
       "       [0., 1., 0., 0.],\n",
       "       [0., 0., 1., 0.],\n",
       "       [0., 0., 0., 1.]])"
      ]
     },
     "execution_count": 33,
     "metadata": {},
     "output_type": "execute_result"
    }
   ],
   "source": [
    "# Identity matrix\n",
    "np.eye(4)"
   ]
  },
  {
   "cell_type": "markdown",
   "id": "4a8c6f2b",
   "metadata": {},
   "source": [
    "### NumPy's Random number Generation capabilities"
   ]
  },
  {
   "cell_type": "code",
   "execution_count": 35,
   "id": "dcd9fb4c",
   "metadata": {},
   "outputs": [
    {
     "data": {
      "text/plain": [
       "array([0.06336049, 0.17767704, 0.90949164])"
      ]
     },
     "execution_count": 35,
     "metadata": {},
     "output_type": "execute_result"
    }
   ],
   "source": [
    "# random numbers for uniform distribution in [0,1) interval \n",
    "np.random.rand(3)"
   ]
  },
  {
   "cell_type": "code",
   "execution_count": 37,
   "id": "ae124ff9",
   "metadata": {},
   "outputs": [
    {
     "data": {
      "text/plain": [
       "array([ 0.84438776, -0.06974407, -0.08358505, -1.44000653, -1.13020741])"
      ]
     },
     "execution_count": 37,
     "metadata": {},
     "output_type": "execute_result"
    }
   ],
   "source": [
    "# Generate 5 random samples from standard normal distribution\n",
    "\n",
    "np.random.randn(5)"
   ]
  },
  {
   "cell_type": "code",
   "execution_count": 43,
   "id": "95d7d371",
   "metadata": {},
   "outputs": [
    {
     "data": {
      "text/html": [
       "<div>\n",
       "<style scoped>\n",
       "    .dataframe tbody tr th:only-of-type {\n",
       "        vertical-align: middle;\n",
       "    }\n",
       "\n",
       "    .dataframe tbody tr th {\n",
       "        vertical-align: top;\n",
       "    }\n",
       "\n",
       "    .dataframe thead th {\n",
       "        text-align: right;\n",
       "    }\n",
       "</style>\n",
       "<table border=\"1\" class=\"dataframe\">\n",
       "  <thead>\n",
       "    <tr style=\"text-align: right;\">\n",
       "      <th></th>\n",
       "      <th>0</th>\n",
       "      <th>1</th>\n",
       "      <th>2</th>\n",
       "      <th>3</th>\n",
       "      <th>4</th>\n",
       "      <th>5</th>\n",
       "      <th>6</th>\n",
       "      <th>7</th>\n",
       "      <th>8</th>\n",
       "      <th>9</th>\n",
       "    </tr>\n",
       "  </thead>\n",
       "  <tbody>\n",
       "    <tr>\n",
       "      <th>0</th>\n",
       "      <td>-2.360870</td>\n",
       "      <td>-0.881165</td>\n",
       "      <td>-0.078576</td>\n",
       "      <td>0.634441</td>\n",
       "      <td>-0.105331</td>\n",
       "      <td>1.978479</td>\n",
       "      <td>0.339966</td>\n",
       "      <td>1.079083</td>\n",
       "      <td>-0.633281</td>\n",
       "      <td>-1.629273</td>\n",
       "    </tr>\n",
       "    <tr>\n",
       "      <th>1</th>\n",
       "      <td>-1.034206</td>\n",
       "      <td>0.156244</td>\n",
       "      <td>0.741087</td>\n",
       "      <td>-1.558787</td>\n",
       "      <td>-0.829300</td>\n",
       "      <td>-0.586150</td>\n",
       "      <td>-1.803513</td>\n",
       "      <td>-0.235967</td>\n",
       "      <td>0.987702</td>\n",
       "      <td>-0.807672</td>\n",
       "    </tr>\n",
       "    <tr>\n",
       "      <th>2</th>\n",
       "      <td>-0.153470</td>\n",
       "      <td>1.013788</td>\n",
       "      <td>-0.146431</td>\n",
       "      <td>0.277676</td>\n",
       "      <td>-0.399689</td>\n",
       "      <td>-1.152152</td>\n",
       "      <td>0.184150</td>\n",
       "      <td>-0.597072</td>\n",
       "      <td>-1.034763</td>\n",
       "      <td>1.261704</td>\n",
       "    </tr>\n",
       "    <tr>\n",
       "      <th>3</th>\n",
       "      <td>0.722463</td>\n",
       "      <td>-0.430367</td>\n",
       "      <td>-0.212519</td>\n",
       "      <td>-0.779987</td>\n",
       "      <td>2.066858</td>\n",
       "      <td>0.380891</td>\n",
       "      <td>0.563063</td>\n",
       "      <td>-0.785012</td>\n",
       "      <td>-0.822324</td>\n",
       "      <td>0.236454</td>\n",
       "    </tr>\n",
       "    <tr>\n",
       "      <th>4</th>\n",
       "      <td>-0.249125</td>\n",
       "      <td>0.520887</td>\n",
       "      <td>0.253915</td>\n",
       "      <td>-0.154131</td>\n",
       "      <td>0.809589</td>\n",
       "      <td>0.602666</td>\n",
       "      <td>-0.050551</td>\n",
       "      <td>-0.484378</td>\n",
       "      <td>-0.326642</td>\n",
       "      <td>-1.824510</td>\n",
       "    </tr>\n",
       "    <tr>\n",
       "      <th>...</th>\n",
       "      <td>...</td>\n",
       "      <td>...</td>\n",
       "      <td>...</td>\n",
       "      <td>...</td>\n",
       "      <td>...</td>\n",
       "      <td>...</td>\n",
       "      <td>...</td>\n",
       "      <td>...</td>\n",
       "      <td>...</td>\n",
       "      <td>...</td>\n",
       "    </tr>\n",
       "    <tr>\n",
       "      <th>295</th>\n",
       "      <td>1.411409</td>\n",
       "      <td>-0.329953</td>\n",
       "      <td>0.867276</td>\n",
       "      <td>-0.013299</td>\n",
       "      <td>-0.189640</td>\n",
       "      <td>-1.009102</td>\n",
       "      <td>-0.516886</td>\n",
       "      <td>0.151254</td>\n",
       "      <td>0.390566</td>\n",
       "      <td>1.214019</td>\n",
       "    </tr>\n",
       "    <tr>\n",
       "      <th>296</th>\n",
       "      <td>0.256097</td>\n",
       "      <td>-0.735983</td>\n",
       "      <td>0.228412</td>\n",
       "      <td>0.016435</td>\n",
       "      <td>0.527801</td>\n",
       "      <td>0.909498</td>\n",
       "      <td>-0.146918</td>\n",
       "      <td>0.585723</td>\n",
       "      <td>0.510007</td>\n",
       "      <td>-0.207627</td>\n",
       "    </tr>\n",
       "    <tr>\n",
       "      <th>297</th>\n",
       "      <td>0.560262</td>\n",
       "      <td>0.962486</td>\n",
       "      <td>-1.012154</td>\n",
       "      <td>2.389417</td>\n",
       "      <td>-1.478698</td>\n",
       "      <td>-0.729313</td>\n",
       "      <td>-0.739583</td>\n",
       "      <td>-0.722946</td>\n",
       "      <td>1.782609</td>\n",
       "      <td>-0.054849</td>\n",
       "    </tr>\n",
       "    <tr>\n",
       "      <th>298</th>\n",
       "      <td>-0.484760</td>\n",
       "      <td>0.667193</td>\n",
       "      <td>0.250348</td>\n",
       "      <td>-1.364915</td>\n",
       "      <td>-0.608243</td>\n",
       "      <td>-0.428289</td>\n",
       "      <td>-1.813970</td>\n",
       "      <td>-0.622947</td>\n",
       "      <td>0.237807</td>\n",
       "      <td>-0.456434</td>\n",
       "    </tr>\n",
       "    <tr>\n",
       "      <th>299</th>\n",
       "      <td>-0.698108</td>\n",
       "      <td>-1.414975</td>\n",
       "      <td>-0.140895</td>\n",
       "      <td>-0.329663</td>\n",
       "      <td>-1.321353</td>\n",
       "      <td>-0.661325</td>\n",
       "      <td>-1.086326</td>\n",
       "      <td>-0.915370</td>\n",
       "      <td>-1.204535</td>\n",
       "      <td>1.161109</td>\n",
       "    </tr>\n",
       "  </tbody>\n",
       "</table>\n",
       "<p>300 rows × 10 columns</p>\n",
       "</div>"
      ],
      "text/plain": [
       "            0         1         2         3         4         5         6  \\\n",
       "0   -2.360870 -0.881165 -0.078576  0.634441 -0.105331  1.978479  0.339966   \n",
       "1   -1.034206  0.156244  0.741087 -1.558787 -0.829300 -0.586150 -1.803513   \n",
       "2   -0.153470  1.013788 -0.146431  0.277676 -0.399689 -1.152152  0.184150   \n",
       "3    0.722463 -0.430367 -0.212519 -0.779987  2.066858  0.380891  0.563063   \n",
       "4   -0.249125  0.520887  0.253915 -0.154131  0.809589  0.602666 -0.050551   \n",
       "..        ...       ...       ...       ...       ...       ...       ...   \n",
       "295  1.411409 -0.329953  0.867276 -0.013299 -0.189640 -1.009102 -0.516886   \n",
       "296  0.256097 -0.735983  0.228412  0.016435  0.527801  0.909498 -0.146918   \n",
       "297  0.560262  0.962486 -1.012154  2.389417 -1.478698 -0.729313 -0.739583   \n",
       "298 -0.484760  0.667193  0.250348 -1.364915 -0.608243 -0.428289 -1.813970   \n",
       "299 -0.698108 -1.414975 -0.140895 -0.329663 -1.321353 -0.661325 -1.086326   \n",
       "\n",
       "            7         8         9  \n",
       "0    1.079083 -0.633281 -1.629273  \n",
       "1   -0.235967  0.987702 -0.807672  \n",
       "2   -0.597072 -1.034763  1.261704  \n",
       "3   -0.785012 -0.822324  0.236454  \n",
       "4   -0.484378 -0.326642 -1.824510  \n",
       "..        ...       ...       ...  \n",
       "295  0.151254  0.390566  1.214019  \n",
       "296  0.585723  0.510007 -0.207627  \n",
       "297 -0.722946  1.782609 -0.054849  \n",
       "298 -0.622947  0.237807 -0.456434  \n",
       "299 -0.915370 -1.204535  1.161109  \n",
       "\n",
       "[300 rows x 10 columns]"
      ]
     },
     "execution_count": 43,
     "metadata": {},
     "output_type": "execute_result"
    }
   ],
   "source": [
    "# With random numbers you can generate your own dataset\n",
    "import pandas as pd\n",
    "pd.DataFrame(np.random.randn(300,10))"
   ]
  },
  {
   "cell_type": "code",
   "execution_count": 44,
   "id": "32b29bc3",
   "metadata": {},
   "outputs": [
    {
     "data": {
      "text/plain": [
       "array([24, 32, 94, 22, 83, 68, 36, 85, 10, 51])"
      ]
     },
     "execution_count": 44,
     "metadata": {},
     "output_type": "execute_result"
    }
   ],
   "source": [
    "# np.randint\n",
    "np.random.randint(low=1, high=100,size=10)"
   ]
  },
  {
   "cell_type": "markdown",
   "id": "060d47dc",
   "metadata": {},
   "source": [
    "#### Shape and Reshape of an array"
   ]
  },
  {
   "cell_type": "code",
   "execution_count": 46,
   "id": "7a25ff07",
   "metadata": {},
   "outputs": [
    {
     "data": {
      "text/plain": [
       "(100,)"
      ]
     },
     "execution_count": 46,
     "metadata": {},
     "output_type": "execute_result"
    }
   ],
   "source": [
    "v100 = np.linspace(0,1,100)\n",
    "v100.shape"
   ]
  },
  {
   "cell_type": "code",
   "execution_count": 48,
   "id": "3396bfb0",
   "metadata": {},
   "outputs": [
    {
     "data": {
      "text/plain": [
       "array([0.        , 0.01010101, 0.02020202, 0.03030303, 0.04040404,\n",
       "       0.05050505, 0.06060606, 0.07070707, 0.08080808, 0.09090909,\n",
       "       0.1010101 , 0.11111111, 0.12121212, 0.13131313, 0.14141414,\n",
       "       0.15151515, 0.16161616, 0.17171717, 0.18181818, 0.19191919,\n",
       "       0.2020202 , 0.21212121, 0.22222222, 0.23232323, 0.24242424,\n",
       "       0.25252525, 0.26262626, 0.27272727, 0.28282828, 0.29292929,\n",
       "       0.3030303 , 0.31313131, 0.32323232, 0.33333333, 0.34343434,\n",
       "       0.35353535, 0.36363636, 0.37373737, 0.38383838, 0.39393939,\n",
       "       0.4040404 , 0.41414141, 0.42424242, 0.43434343, 0.44444444,\n",
       "       0.45454545, 0.46464646, 0.47474747, 0.48484848, 0.49494949,\n",
       "       0.50505051, 0.51515152, 0.52525253, 0.53535354, 0.54545455,\n",
       "       0.55555556, 0.56565657, 0.57575758, 0.58585859, 0.5959596 ,\n",
       "       0.60606061, 0.61616162, 0.62626263, 0.63636364, 0.64646465,\n",
       "       0.65656566, 0.66666667, 0.67676768, 0.68686869, 0.6969697 ,\n",
       "       0.70707071, 0.71717172, 0.72727273, 0.73737374, 0.74747475,\n",
       "       0.75757576, 0.76767677, 0.77777778, 0.78787879, 0.7979798 ,\n",
       "       0.80808081, 0.81818182, 0.82828283, 0.83838384, 0.84848485,\n",
       "       0.85858586, 0.86868687, 0.87878788, 0.88888889, 0.8989899 ,\n",
       "       0.90909091, 0.91919192, 0.92929293, 0.93939394, 0.94949495,\n",
       "       0.95959596, 0.96969697, 0.97979798, 0.98989899, 1.        ])"
      ]
     },
     "execution_count": 48,
     "metadata": {},
     "output_type": "execute_result"
    }
   ],
   "source": [
    "v100"
   ]
  },
  {
   "cell_type": "code",
   "execution_count": 47,
   "id": "cce638b2",
   "metadata": {},
   "outputs": [
    {
     "data": {
      "text/plain": [
       "array([[0.        , 0.01010101, 0.02020202, 0.03030303, 0.04040404,\n",
       "        0.05050505, 0.06060606, 0.07070707, 0.08080808, 0.09090909],\n",
       "       [0.1010101 , 0.11111111, 0.12121212, 0.13131313, 0.14141414,\n",
       "        0.15151515, 0.16161616, 0.17171717, 0.18181818, 0.19191919],\n",
       "       [0.2020202 , 0.21212121, 0.22222222, 0.23232323, 0.24242424,\n",
       "        0.25252525, 0.26262626, 0.27272727, 0.28282828, 0.29292929],\n",
       "       [0.3030303 , 0.31313131, 0.32323232, 0.33333333, 0.34343434,\n",
       "        0.35353535, 0.36363636, 0.37373737, 0.38383838, 0.39393939],\n",
       "       [0.4040404 , 0.41414141, 0.42424242, 0.43434343, 0.44444444,\n",
       "        0.45454545, 0.46464646, 0.47474747, 0.48484848, 0.49494949],\n",
       "       [0.50505051, 0.51515152, 0.52525253, 0.53535354, 0.54545455,\n",
       "        0.55555556, 0.56565657, 0.57575758, 0.58585859, 0.5959596 ],\n",
       "       [0.60606061, 0.61616162, 0.62626263, 0.63636364, 0.64646465,\n",
       "        0.65656566, 0.66666667, 0.67676768, 0.68686869, 0.6969697 ],\n",
       "       [0.70707071, 0.71717172, 0.72727273, 0.73737374, 0.74747475,\n",
       "        0.75757576, 0.76767677, 0.77777778, 0.78787879, 0.7979798 ],\n",
       "       [0.80808081, 0.81818182, 0.82828283, 0.83838384, 0.84848485,\n",
       "        0.85858586, 0.86868687, 0.87878788, 0.88888889, 0.8989899 ],\n",
       "       [0.90909091, 0.91919192, 0.92929293, 0.93939394, 0.94949495,\n",
       "        0.95959596, 0.96969697, 0.97979798, 0.98989899, 1.        ]])"
      ]
     },
     "execution_count": 47,
     "metadata": {},
     "output_type": "execute_result"
    }
   ],
   "source": [
    "m10_10 = v100.reshape(10,10)\n",
    "m10_10"
   ]
  },
  {
   "cell_type": "code",
   "execution_count": 49,
   "id": "b80e0bd3",
   "metadata": {},
   "outputs": [
    {
     "data": {
      "text/plain": [
       "(10, 10)"
      ]
     },
     "execution_count": 49,
     "metadata": {},
     "output_type": "execute_result"
    }
   ],
   "source": [
    "m10_10.shape"
   ]
  },
  {
   "cell_type": "markdown",
   "id": "ac8c3d87",
   "metadata": {},
   "source": [
    "#### max-min-argmax-argmin"
   ]
  },
  {
   "cell_type": "code",
   "execution_count": 50,
   "id": "a3b49649",
   "metadata": {},
   "outputs": [],
   "source": [
    "ranr = np.random.randint(0,50,16)"
   ]
  },
  {
   "cell_type": "code",
   "execution_count": 51,
   "id": "d27feedb",
   "metadata": {},
   "outputs": [
    {
     "data": {
      "text/plain": [
       "array([33,  5, 29, 34, 33,  0, 28, 34, 48, 36, 43, 35, 47,  7, 38, 15])"
      ]
     },
     "execution_count": 51,
     "metadata": {},
     "output_type": "execute_result"
    }
   ],
   "source": [
    "\n",
    "ranr"
   ]
  },
  {
   "cell_type": "code",
   "execution_count": 57,
   "id": "c0a9ca45",
   "metadata": {},
   "outputs": [
    {
     "data": {
      "text/plain": [
       "48"
      ]
     },
     "execution_count": 57,
     "metadata": {},
     "output_type": "execute_result"
    }
   ],
   "source": [
    "np.max(ranr)"
   ]
  },
  {
   "cell_type": "code",
   "execution_count": 58,
   "id": "c2e5cfbd",
   "metadata": {},
   "outputs": [
    {
     "data": {
      "text/plain": [
       "0"
      ]
     },
     "execution_count": 58,
     "metadata": {},
     "output_type": "execute_result"
    }
   ],
   "source": [
    "np.min(ranr)"
   ]
  },
  {
   "cell_type": "code",
   "execution_count": 56,
   "id": "d1620412",
   "metadata": {},
   "outputs": [
    {
     "name": "stdout",
     "output_type": "stream",
     "text": [
      "5\n",
      "8\n"
     ]
    }
   ],
   "source": [
    "print(ranr.argmin())  # index position of minimum value\n",
    "print(ranr.argmax())  # index position of maximum value"
   ]
  },
  {
   "cell_type": "code",
   "execution_count": 59,
   "id": "03b8a6ee",
   "metadata": {},
   "outputs": [
    {
     "data": {
      "text/plain": [
       "48"
      ]
     },
     "execution_count": 59,
     "metadata": {},
     "output_type": "execute_result"
    }
   ],
   "source": [
    "ranr[8]"
   ]
  },
  {
   "cell_type": "markdown",
   "id": "76126b47",
   "metadata": {},
   "source": [
    "#### Indexing, Selection and Broadcasting"
   ]
  },
  {
   "cell_type": "code",
   "execution_count": 60,
   "id": "1daf0e25",
   "metadata": {},
   "outputs": [],
   "source": [
    "arr = np.linspace(0,1,10)"
   ]
  },
  {
   "cell_type": "code",
   "execution_count": 61,
   "id": "e4da6fc0",
   "metadata": {},
   "outputs": [
    {
     "data": {
      "text/plain": [
       "array([0.        , 0.11111111, 0.22222222, 0.33333333, 0.44444444,\n",
       "       0.55555556, 0.66666667, 0.77777778, 0.88888889, 1.        ])"
      ]
     },
     "execution_count": 61,
     "metadata": {},
     "output_type": "execute_result"
    }
   ],
   "source": [
    "arr"
   ]
  },
  {
   "cell_type": "code",
   "execution_count": 62,
   "id": "7e225f29",
   "metadata": {},
   "outputs": [
    {
     "data": {
      "text/plain": [
       "array([0.22222222, 0.33333333, 0.44444444, 0.55555556, 0.66666667,\n",
       "       0.77777778])"
      ]
     },
     "execution_count": 62,
     "metadata": {},
     "output_type": "execute_result"
    }
   ],
   "source": [
    "arr[2:8]"
   ]
  },
  {
   "cell_type": "code",
   "execution_count": 63,
   "id": "0e6a3b42",
   "metadata": {},
   "outputs": [],
   "source": [
    "# Broadcasting\n",
    "arr[0:3]=100"
   ]
  },
  {
   "cell_type": "code",
   "execution_count": 64,
   "id": "8ef01368",
   "metadata": {},
   "outputs": [
    {
     "data": {
      "text/plain": [
       "array([100.        , 100.        , 100.        ,   0.33333333,\n",
       "         0.44444444,   0.55555556,   0.66666667,   0.77777778,\n",
       "         0.88888889,   1.        ])"
      ]
     },
     "execution_count": 64,
     "metadata": {},
     "output_type": "execute_result"
    }
   ],
   "source": [
    "arr"
   ]
  },
  {
   "cell_type": "code",
   "execution_count": 65,
   "id": "58eb1b49",
   "metadata": {},
   "outputs": [
    {
     "data": {
      "text/plain": [
       "array([[ 5, 10, 15],\n",
       "       [13,  4,  7],\n",
       "       [30, 40, 11]])"
      ]
     },
     "execution_count": 65,
     "metadata": {},
     "output_type": "execute_result"
    }
   ],
   "source": [
    "a2d = np.array(([5,10,15],[13,4,7],[30,40,11]))\n",
    "a2d"
   ]
  },
  {
   "cell_type": "code",
   "execution_count": 69,
   "id": "3c26838b",
   "metadata": {},
   "outputs": [
    {
     "data": {
      "text/plain": [
       "11"
      ]
     },
     "execution_count": 69,
     "metadata": {},
     "output_type": "execute_result"
    }
   ],
   "source": [
    "a2d[2,2]"
   ]
  },
  {
   "cell_type": "code",
   "execution_count": 70,
   "id": "dd4ac270",
   "metadata": {},
   "outputs": [
    {
     "data": {
      "text/plain": [
       "4"
      ]
     },
     "execution_count": 70,
     "metadata": {},
     "output_type": "execute_result"
    }
   ],
   "source": [
    "a2d[1,1]"
   ]
  },
  {
   "cell_type": "code",
   "execution_count": 72,
   "id": "fb0ea832",
   "metadata": {},
   "outputs": [
    {
     "data": {
      "text/plain": [
       "array([[10, 15],\n",
       "       [ 4,  7],\n",
       "       [40, 11]])"
      ]
     },
     "execution_count": 72,
     "metadata": {},
     "output_type": "execute_result"
    }
   ],
   "source": [
    "# a2d[rowmin: rowmax, colmin:colmax]\n",
    "\n",
    "a2d[:3,1:]"
   ]
  },
  {
   "cell_type": "code",
   "execution_count": 74,
   "id": "20f2cd99",
   "metadata": {},
   "outputs": [
    {
     "data": {
      "text/plain": [
       "array([32, 73, 46, 39, 21, 44, 69, 53, 74, 57,  7, 36, 42, 44, 57, 77, 80,\n",
       "       93, 19, 32, 56, 99, 38, 11, 98, 45, 98, 41,  6, 59, 37, 95, 29, 50,\n",
       "       63, 76, 66, 33, 41, 15, 21, 34, 53, 61, 37, 53, 95, 39, 98, 87, 74,\n",
       "       14, 25, 23, 64, 39, 88, 34, 14, 79, 54, 44, 84, 33,  3, 39, 48,  6,\n",
       "       41, 54, 55, 14, 20, 34, 88, 80, 99, 43, 11, 25,  8, 52, 73,  9, 47,\n",
       "       65, 42, 94, 82, 34,  4, 90, 95, 11, 50, 35, 46,  9, 63, 41, 48, 66,\n",
       "       71, 99, 69, 13, 79, 98, 90, 94, 87, 84, 73, 77,  9, 83, 21, 54, 93,\n",
       "       62, 36, 84, 61, 18, 35, 23, 69, 65, 74, 40, 23, 27, 47, 43, 88, 24,\n",
       "       97, 33, 33, 44, 63, 38, 68, 42, 52, 43, 73, 58, 46, 96, 40, 92, 40,\n",
       "       67, 36, 77, 78,  5, 55, 44, 51, 16, 91, 31, 47, 84, 97, 46, 89, 86,\n",
       "       42, 65, 92, 73, 54,  6, 34, 16, 34, 93, 60, 32,  7, 55, 66,  4, 33,\n",
       "       39, 24, 71, 13, 79, 47, 76, 57, 75, 53, 74, 78, 11, 91, 11, 53, 65,\n",
       "       12, 51, 50, 26, 87, 94, 33, 99, 73, 57, 33, 88,  1, 22, 73, 64, 19,\n",
       "       18, 42, 15, 65, 86, 44, 92, 67, 14, 92, 40,  2, 96,  3, 20, 85, 67,\n",
       "       57, 96, 75,  6,  3, 45, 37, 95, 87, 22, 58, 78, 27, 15, 19, 67, 26,\n",
       "        3, 63, 88, 76, 60, 93, 38, 91, 99, 52, 64, 64, 39, 31, 82, 80, 71,\n",
       "       82, 81, 52, 85, 11, 84, 38,  3, 21, 63, 51, 74, 77, 39, 83, 17, 55,\n",
       "       37, 96, 99, 57, 47, 62, 58, 41, 75, 54, 59, 72, 12,  3, 96, 15,  5,\n",
       "       71, 53, 64, 69, 88, 47, 47, 84, 55, 47, 68, 19, 70, 53, 31, 67, 11,\n",
       "       79, 72, 71, 85, 47, 13, 43, 56, 75, 61, 15, 52, 84, 22, 84, 30, 27,\n",
       "        9, 34, 25, 35, 34, 92,  8, 69, 70, 17, 33, 89, 28, 81, 37, 68, 94,\n",
       "       59, 82, 60,  4, 30, 34, 48, 44, 72,  6, 71, 80, 62, 61, 99, 66, 22,\n",
       "       37, 54, 79, 19, 69, 36, 31,  7, 80, 78, 19, 42, 44, 55, 54, 10, 12,\n",
       "        9, 74,  9, 70, 34, 38, 92, 69, 84, 35, 54, 24, 43, 24,  2, 69, 43,\n",
       "       95, 21,  9, 81, 59, 57, 41, 51,  7, 46, 66, 22, 59, 25, 29, 85, 20,\n",
       "       51, 16, 31, 58, 79, 21, 84, 20, 39, 23, 93, 94, 75, 38, 19, 67, 26,\n",
       "       42, 58, 55, 64, 57, 95, 93, 29,  5, 56,  9, 12,  2, 64, 40, 28, 84,\n",
       "       73, 69, 71, 79, 37, 79, 88, 79, 47, 48, 10, 86, 23, 18, 16, 16, 79,\n",
       "       40, 50, 64, 68, 15, 43, 46, 86, 60, 63, 91, 36, 23, 55, 68, 76, 45,\n",
       "       73, 33, 59, 89, 45, 97, 33, 24, 10, 81, 78, 50, 22, 12, 21, 85, 10,\n",
       "       78, 92, 23, 53, 89, 27, 68, 98, 88, 58, 62, 20, 98, 38, 31, 48, 74,\n",
       "       48, 16, 72, 17, 85, 47, 83, 29, 30,  2, 81, 79, 59, 12, 82, 92, 18,\n",
       "       63, 89, 10, 99, 54, 85, 68, 74, 95, 96, 14, 76, 30, 51, 14, 31, 30,\n",
       "       23, 17, 12,  7, 57, 19, 94, 84, 47, 67, 58, 81, 50, 85, 82, 57,  9,\n",
       "       52, 59, 23, 25, 61, 31, 58, 31, 45, 66, 44, 82, 45, 27, 31, 97, 36,\n",
       "       10, 84, 70, 71, 46, 67, 38, 49, 84, 69, 62, 89, 22, 72, 67, 81, 65,\n",
       "       82, 29, 62, 42, 65, 39, 87, 85, 18, 70, 51, 25, 61, 87, 74, 77, 10,\n",
       "       98, 86, 11, 73, 56, 36, 14, 64, 42, 21, 56, 39, 78,  5, 99, 24, 60,\n",
       "       22, 62, 81, 78, 93, 52, 88, 68, 30, 30, 41, 72,  5, 91, 75,  2, 98,\n",
       "       95, 33, 73, 51, 94, 82, 55, 64, 28, 68, 76, 32,  8, 88, 91, 16, 36,\n",
       "       35, 29, 93, 24, 34, 55, 91, 96, 74, 27, 79,  1, 47, 11, 77, 37, 28,\n",
       "       67, 93, 28, 34, 50, 57, 59,  4, 60,  1, 83, 18, 16, 19, 72, 62, 72,\n",
       "       60,  2, 97, 84,  5,  6,  7, 26, 67, 69, 71, 40, 23,  7, 82,  8, 57,\n",
       "       23, 30, 47, 49, 32, 76, 51, 98, 39, 41, 23, 93, 78, 31, 55, 17, 54,\n",
       "       46, 98, 47, 33, 92, 93, 17, 22,  1, 16, 57, 58, 64, 48, 84, 43, 90,\n",
       "       36, 63, 96,  9, 13, 53, 50, 78, 67, 86, 28,  3, 28, 82, 12, 46, 71,\n",
       "        4, 65, 35, 77, 90,  1, 90, 46, 25, 82, 81, 52,  8, 38, 24, 46, 79,\n",
       "       34, 23, 51, 87, 85, 39, 49, 43, 69, 27, 81, 75, 43, 30, 94, 28, 45,\n",
       "       55, 69, 87, 55, 77, 27, 83, 78, 73, 41, 83, 31, 34, 36, 55, 60, 61,\n",
       "        6, 99, 76, 90, 21, 41, 80, 93, 21, 31, 18, 33, 12, 47, 51, 97, 24,\n",
       "       73, 30, 37,  9, 69, 21, 19, 11, 72, 70, 17, 68, 48, 66, 94, 76, 71,\n",
       "       81, 18, 97, 75, 81, 40, 94, 43, 90, 63, 29,  3, 12, 69, 89, 49,  6,\n",
       "       75, 18, 60, 15, 98, 33, 39, 86, 45, 18, 17, 79, 58, 69, 98, 76, 34,\n",
       "       11, 54, 70, 98, 23, 89, 27, 80, 98, 28, 71, 67, 76, 49, 90, 17, 84,\n",
       "       97, 17, 91, 54, 68, 97, 72, 91,  7, 46, 54,  8, 27, 66,  1, 45, 19,\n",
       "       15, 23, 19, 75, 76, 13, 27, 35, 60, 36, 92, 80, 87, 82, 16, 70, 33,\n",
       "       32, 51, 98, 76, 29, 59, 12, 89, 62, 21, 82, 94, 88, 52, 55, 26, 52,\n",
       "       40, 32, 60, 37, 84, 38, 83, 75, 46, 38, 17, 40, 86, 63, 22, 83, 54,\n",
       "       43,  3, 88, 39, 77, 20, 87, 63, 95, 24, 24, 50, 95, 51])"
      ]
     },
     "execution_count": 74,
     "metadata": {},
     "output_type": "execute_result"
    }
   ],
   "source": [
    "marks = np.random.randint(1,100,1000)\n",
    "marks"
   ]
  },
  {
   "cell_type": "code",
   "execution_count": 76,
   "id": "0c1a1eac",
   "metadata": {},
   "outputs": [
    {
     "data": {
      "text/plain": [
       "52.232"
      ]
     },
     "execution_count": 76,
     "metadata": {},
     "output_type": "execute_result"
    }
   ],
   "source": [
    "marks.mean()"
   ]
  },
  {
   "cell_type": "code",
   "execution_count": 77,
   "id": "d4998da2",
   "metadata": {},
   "outputs": [
    {
     "data": {
      "text/plain": [
       "1"
      ]
     },
     "execution_count": 77,
     "metadata": {},
     "output_type": "execute_result"
    }
   ],
   "source": [
    "marks.min()"
   ]
  },
  {
   "cell_type": "code",
   "execution_count": 78,
   "id": "93ef1b1b",
   "metadata": {},
   "outputs": [
    {
     "data": {
      "text/plain": [
       "99"
      ]
     },
     "execution_count": 78,
     "metadata": {},
     "output_type": "execute_result"
    }
   ],
   "source": [
    "np.max(marks)"
   ]
  },
  {
   "cell_type": "code",
   "execution_count": 79,
   "id": "9465010b",
   "metadata": {},
   "outputs": [
    {
     "data": {
      "text/plain": [
       "array([77, 80, 93, 99, 98, 98, 95, 76, 95, 98, 87, 88, 79, 84, 88, 80, 99,\n",
       "       94, 82, 90, 95, 99, 79, 98, 90, 94, 87, 84, 77, 83, 93, 84, 88, 97,\n",
       "       96, 92, 77, 78, 91, 84, 97, 89, 86, 92, 93, 79, 76, 78, 91, 87, 94,\n",
       "       99, 88, 86, 92, 92, 96, 85, 96, 95, 87, 78, 88, 76, 93, 91, 99, 82,\n",
       "       80, 82, 81, 85, 84, 77, 83, 96, 99, 96, 88, 84, 79, 85, 84, 84, 92,\n",
       "       89, 81, 94, 82, 80, 99, 79, 80, 78, 92, 84, 95, 81, 85, 79, 84, 93,\n",
       "       94, 95, 93, 84, 79, 79, 88, 79, 86, 79, 86, 91, 76, 89, 97, 81, 78,\n",
       "       85, 78, 92, 89, 98, 88, 98, 85, 83, 81, 79, 82, 92, 89, 99, 85, 95,\n",
       "       96, 76, 94, 84, 81, 85, 82, 82, 97, 84, 84, 89, 81, 82, 87, 85, 87,\n",
       "       77, 98, 86, 78, 99, 81, 78, 93, 88, 91, 98, 95, 94, 82, 76, 88, 91,\n",
       "       93, 91, 96, 79, 77, 93, 83, 97, 84, 82, 76, 98, 93, 78, 98, 92, 93,\n",
       "       84, 90, 96, 78, 86, 82, 77, 90, 90, 82, 81, 79, 87, 85, 81, 94, 87,\n",
       "       77, 83, 78, 83, 99, 76, 90, 80, 93, 97, 94, 76, 81, 97, 81, 94, 90,\n",
       "       89, 98, 86, 79, 98, 76, 98, 89, 80, 98, 76, 90, 84, 97, 91, 97, 91,\n",
       "       76, 92, 80, 87, 82, 98, 76, 89, 82, 94, 88, 84, 83, 86, 83, 88, 77,\n",
       "       87, 95, 95])"
      ]
     },
     "execution_count": 79,
     "metadata": {},
     "output_type": "execute_result"
    }
   ],
   "source": [
    "selected = marks[marks>75]\n",
    "selected"
   ]
  },
  {
   "cell_type": "code",
   "execution_count": 80,
   "id": "ed62b3f7",
   "metadata": {},
   "outputs": [
    {
     "data": {
      "text/plain": [
       "(258,)"
      ]
     },
     "execution_count": 80,
     "metadata": {},
     "output_type": "execute_result"
    }
   ],
   "source": [
    "selected.shape"
   ]
  },
  {
   "cell_type": "code",
   "execution_count": 81,
   "id": "1c917c37",
   "metadata": {},
   "outputs": [
    {
     "data": {
      "text/plain": [
       "(731,)"
      ]
     },
     "execution_count": 81,
     "metadata": {},
     "output_type": "execute_result"
    }
   ],
   "source": [
    "marks[marks<75].shape"
   ]
  },
  {
   "cell_type": "code",
   "execution_count": 83,
   "id": "5c7a9899",
   "metadata": {},
   "outputs": [
    {
     "data": {
      "text/plain": [
       "(102,)"
      ]
     },
     "execution_count": 83,
     "metadata": {},
     "output_type": "execute_result"
    }
   ],
   "source": [
    "marks[marks>89].shape"
   ]
  },
  {
   "cell_type": "code",
   "execution_count": 84,
   "id": "b637b1c2",
   "metadata": {},
   "outputs": [],
   "source": [
    "ninety = len(marks[marks>89])/len(marks)"
   ]
  },
  {
   "cell_type": "code",
   "execution_count": 85,
   "id": "191e3edb",
   "metadata": {},
   "outputs": [
    {
     "data": {
      "text/plain": [
       "10.2"
      ]
     },
     "execution_count": 85,
     "metadata": {},
     "output_type": "execute_result"
    }
   ],
   "source": [
    "ninety*100"
   ]
  },
  {
   "cell_type": "markdown",
   "id": "df520f1b",
   "metadata": {},
   "source": [
    "# Pandas: The Ms. Excel of Python"
   ]
  },
  {
   "cell_type": "markdown",
   "id": "799d9a23",
   "metadata": {},
   "source": [
    "### Python Series : Like a named Array"
   ]
  },
  {
   "cell_type": "code",
   "execution_count": 86,
   "id": "44037c46",
   "metadata": {},
   "outputs": [],
   "source": [
    "import pandas as pd"
   ]
  },
  {
   "cell_type": "code",
   "execution_count": 87,
   "id": "f07c8e2e",
   "metadata": {},
   "outputs": [],
   "source": [
    "values = [1,2,3,4,5]\n",
    "labels = ['a','b','c','d','e']"
   ]
  },
  {
   "cell_type": "code",
   "execution_count": 88,
   "id": "9ce6414c",
   "metadata": {},
   "outputs": [
    {
     "data": {
      "text/plain": [
       "a    1\n",
       "b    2\n",
       "c    3\n",
       "d    4\n",
       "e    5\n",
       "dtype: int64"
      ]
     },
     "execution_count": 88,
     "metadata": {},
     "output_type": "execute_result"
    }
   ],
   "source": [
    "S = pd.Series(values, labels)\n",
    "S"
   ]
  },
  {
   "cell_type": "code",
   "execution_count": 89,
   "id": "608ced2a",
   "metadata": {},
   "outputs": [
    {
     "data": {
      "text/plain": [
       "1"
      ]
     },
     "execution_count": 89,
     "metadata": {},
     "output_type": "execute_result"
    }
   ],
   "source": [
    "S['a']"
   ]
  },
  {
   "cell_type": "markdown",
   "id": "6d46eefb",
   "metadata": {},
   "source": [
    "## pd.DataFrame"
   ]
  },
  {
   "cell_type": "code",
   "execution_count": 93,
   "id": "a34d6124",
   "metadata": {},
   "outputs": [],
   "source": [
    "# creating a DataFrame from a dictionary\n",
    "rock = {'phi': [0.03,0.33,0.25,0.44],\n",
    "       'lith':['C','S','L','C']}"
   ]
  },
  {
   "cell_type": "code",
   "execution_count": 91,
   "id": "f1ab1327",
   "metadata": {},
   "outputs": [
    {
     "data": {
      "text/html": [
       "<div>\n",
       "<style scoped>\n",
       "    .dataframe tbody tr th:only-of-type {\n",
       "        vertical-align: middle;\n",
       "    }\n",
       "\n",
       "    .dataframe tbody tr th {\n",
       "        vertical-align: top;\n",
       "    }\n",
       "\n",
       "    .dataframe thead th {\n",
       "        text-align: right;\n",
       "    }\n",
       "</style>\n",
       "<table border=\"1\" class=\"dataframe\">\n",
       "  <thead>\n",
       "    <tr style=\"text-align: right;\">\n",
       "      <th></th>\n",
       "      <th>phi</th>\n",
       "      <th>lith</th>\n",
       "    </tr>\n",
       "  </thead>\n",
       "  <tbody>\n",
       "    <tr>\n",
       "      <th>0</th>\n",
       "      <td>0.03</td>\n",
       "      <td>C</td>\n",
       "    </tr>\n",
       "    <tr>\n",
       "      <th>1</th>\n",
       "      <td>0.33</td>\n",
       "      <td>S</td>\n",
       "    </tr>\n",
       "    <tr>\n",
       "      <th>2</th>\n",
       "      <td>0.25</td>\n",
       "      <td>L</td>\n",
       "    </tr>\n",
       "    <tr>\n",
       "      <th>3</th>\n",
       "      <td>0.44</td>\n",
       "      <td>C</td>\n",
       "    </tr>\n",
       "  </tbody>\n",
       "</table>\n",
       "</div>"
      ],
      "text/plain": [
       "    phi lith\n",
       "0  0.03    C\n",
       "1  0.33    S\n",
       "2  0.25    L\n",
       "3  0.44    C"
      ]
     },
     "execution_count": 91,
     "metadata": {},
     "output_type": "execute_result"
    }
   ],
   "source": [
    "rock_df = pd.DataFrame(rock)\n",
    "rock_df"
   ]
  },
  {
   "cell_type": "code",
   "execution_count": 92,
   "id": "206822b6",
   "metadata": {},
   "outputs": [
    {
     "data": {
      "text/plain": [
       "[0.03, 0.33, 0.25, 0.44]"
      ]
     },
     "execution_count": 92,
     "metadata": {},
     "output_type": "execute_result"
    }
   ],
   "source": [
    "rock['phi']"
   ]
  },
  {
   "cell_type": "code",
   "execution_count": 94,
   "id": "99206d26",
   "metadata": {},
   "outputs": [
    {
     "data": {
      "text/html": [
       "<div>\n",
       "<style scoped>\n",
       "    .dataframe tbody tr th:only-of-type {\n",
       "        vertical-align: middle;\n",
       "    }\n",
       "\n",
       "    .dataframe tbody tr th {\n",
       "        vertical-align: top;\n",
       "    }\n",
       "\n",
       "    .dataframe thead th {\n",
       "        text-align: right;\n",
       "    }\n",
       "</style>\n",
       "<table border=\"1\" class=\"dataframe\">\n",
       "  <thead>\n",
       "    <tr style=\"text-align: right;\">\n",
       "      <th></th>\n",
       "      <th>W</th>\n",
       "      <th>X</th>\n",
       "      <th>Y</th>\n",
       "      <th>Z</th>\n",
       "    </tr>\n",
       "  </thead>\n",
       "  <tbody>\n",
       "    <tr>\n",
       "      <th>A</th>\n",
       "      <td>0.695454</td>\n",
       "      <td>-0.665149</td>\n",
       "      <td>0.076970</td>\n",
       "      <td>0.865594</td>\n",
       "    </tr>\n",
       "    <tr>\n",
       "      <th>B</th>\n",
       "      <td>0.809700</td>\n",
       "      <td>-0.529419</td>\n",
       "      <td>0.189536</td>\n",
       "      <td>0.180844</td>\n",
       "    </tr>\n",
       "    <tr>\n",
       "      <th>C</th>\n",
       "      <td>-0.423166</td>\n",
       "      <td>-1.051581</td>\n",
       "      <td>-1.785285</td>\n",
       "      <td>0.333148</td>\n",
       "    </tr>\n",
       "    <tr>\n",
       "      <th>D</th>\n",
       "      <td>1.601042</td>\n",
       "      <td>-1.187091</td>\n",
       "      <td>0.368722</td>\n",
       "      <td>0.083808</td>\n",
       "    </tr>\n",
       "    <tr>\n",
       "      <th>E</th>\n",
       "      <td>-2.109517</td>\n",
       "      <td>0.613211</td>\n",
       "      <td>3.815079</td>\n",
       "      <td>0.422638</td>\n",
       "    </tr>\n",
       "  </tbody>\n",
       "</table>\n",
       "</div>"
      ],
      "text/plain": [
       "          W         X         Y         Z\n",
       "A  0.695454 -0.665149  0.076970  0.865594\n",
       "B  0.809700 -0.529419  0.189536  0.180844\n",
       "C -0.423166 -1.051581 -1.785285  0.333148\n",
       "D  1.601042 -1.187091  0.368722  0.083808\n",
       "E -2.109517  0.613211  3.815079  0.422638"
      ]
     },
     "execution_count": 94,
     "metadata": {},
     "output_type": "execute_result"
    }
   ],
   "source": [
    "# Creating a DataFrame from array\n",
    "\n",
    "df = pd.DataFrame(data = np.random.randn(5,4), index = 'A B C D E'.split(), columns = 'W X Y Z'.split())\n",
    "df"
   ]
  },
  {
   "cell_type": "code",
   "execution_count": 95,
   "id": "aac059c6",
   "metadata": {},
   "outputs": [
    {
     "data": {
      "text/plain": [
       "A    0.695454\n",
       "B    0.809700\n",
       "C   -0.423166\n",
       "D    1.601042\n",
       "E   -2.109517\n",
       "Name: W, dtype: float64"
      ]
     },
     "execution_count": 95,
     "metadata": {},
     "output_type": "execute_result"
    }
   ],
   "source": [
    "df['W']"
   ]
  },
  {
   "cell_type": "code",
   "execution_count": 96,
   "id": "035989ba",
   "metadata": {},
   "outputs": [
    {
     "data": {
      "text/html": [
       "<div>\n",
       "<style scoped>\n",
       "    .dataframe tbody tr th:only-of-type {\n",
       "        vertical-align: middle;\n",
       "    }\n",
       "\n",
       "    .dataframe tbody tr th {\n",
       "        vertical-align: top;\n",
       "    }\n",
       "\n",
       "    .dataframe thead th {\n",
       "        text-align: right;\n",
       "    }\n",
       "</style>\n",
       "<table border=\"1\" class=\"dataframe\">\n",
       "  <thead>\n",
       "    <tr style=\"text-align: right;\">\n",
       "      <th></th>\n",
       "      <th>W</th>\n",
       "      <th>X</th>\n",
       "      <th>Y</th>\n",
       "      <th>Z</th>\n",
       "      <th>W_squared</th>\n",
       "    </tr>\n",
       "  </thead>\n",
       "  <tbody>\n",
       "    <tr>\n",
       "      <th>A</th>\n",
       "      <td>0.695454</td>\n",
       "      <td>-0.665149</td>\n",
       "      <td>0.076970</td>\n",
       "      <td>0.865594</td>\n",
       "      <td>0.483656</td>\n",
       "    </tr>\n",
       "    <tr>\n",
       "      <th>B</th>\n",
       "      <td>0.809700</td>\n",
       "      <td>-0.529419</td>\n",
       "      <td>0.189536</td>\n",
       "      <td>0.180844</td>\n",
       "      <td>0.655615</td>\n",
       "    </tr>\n",
       "    <tr>\n",
       "      <th>C</th>\n",
       "      <td>-0.423166</td>\n",
       "      <td>-1.051581</td>\n",
       "      <td>-1.785285</td>\n",
       "      <td>0.333148</td>\n",
       "      <td>0.179069</td>\n",
       "    </tr>\n",
       "    <tr>\n",
       "      <th>D</th>\n",
       "      <td>1.601042</td>\n",
       "      <td>-1.187091</td>\n",
       "      <td>0.368722</td>\n",
       "      <td>0.083808</td>\n",
       "      <td>2.563336</td>\n",
       "    </tr>\n",
       "    <tr>\n",
       "      <th>E</th>\n",
       "      <td>-2.109517</td>\n",
       "      <td>0.613211</td>\n",
       "      <td>3.815079</td>\n",
       "      <td>0.422638</td>\n",
       "      <td>4.450061</td>\n",
       "    </tr>\n",
       "  </tbody>\n",
       "</table>\n",
       "</div>"
      ],
      "text/plain": [
       "          W         X         Y         Z  W_squared\n",
       "A  0.695454 -0.665149  0.076970  0.865594   0.483656\n",
       "B  0.809700 -0.529419  0.189536  0.180844   0.655615\n",
       "C -0.423166 -1.051581 -1.785285  0.333148   0.179069\n",
       "D  1.601042 -1.187091  0.368722  0.083808   2.563336\n",
       "E -2.109517  0.613211  3.815079  0.422638   4.450061"
      ]
     },
     "execution_count": 96,
     "metadata": {},
     "output_type": "execute_result"
    }
   ],
   "source": [
    "df['W_squared'] = df['W']**2\n",
    "df"
   ]
  },
  {
   "cell_type": "code",
   "execution_count": 97,
   "id": "29b32b13",
   "metadata": {},
   "outputs": [
    {
     "data": {
      "text/plain": [
       "<AxesSubplot:>"
      ]
     },
     "execution_count": 97,
     "metadata": {},
     "output_type": "execute_result"
    },
    {
     "data": {
      "image/png": "[encoded data removed]",
      "text/plain": [
       "<Figure size 432x288 with 1 Axes>"
      ]
     },
     "metadata": {
      "needs_background": "light"
     },
     "output_type": "display_data"
    }
   ],
   "source": [
    "df.plot()"
   ]
  },
  {
   "cell_type": "markdown",
   "id": "d2f10331",
   "metadata": {},
   "source": [
    "### Loc and i-loc"
   ]
  },
  {
   "cell_type": "markdown",
   "id": "4b890542",
   "metadata": {},
   "source": [
    "1. loc starts with 'l': so its considered labels\n",
    "2. iloc starts with 'i': so its considered indexes"
   ]
  },
  {
   "cell_type": "code",
   "execution_count": 99,
   "id": "ad6689b9",
   "metadata": {},
   "outputs": [
    {
     "data": {
      "text/html": [
       "<div>\n",
       "<style scoped>\n",
       "    .dataframe tbody tr th:only-of-type {\n",
       "        vertical-align: middle;\n",
       "    }\n",
       "\n",
       "    .dataframe tbody tr th {\n",
       "        vertical-align: top;\n",
       "    }\n",
       "\n",
       "    .dataframe thead th {\n",
       "        text-align: right;\n",
       "    }\n",
       "</style>\n",
       "<table border=\"1\" class=\"dataframe\">\n",
       "  <thead>\n",
       "    <tr style=\"text-align: right;\">\n",
       "      <th></th>\n",
       "      <th>X</th>\n",
       "      <th>Y</th>\n",
       "    </tr>\n",
       "  </thead>\n",
       "  <tbody>\n",
       "    <tr>\n",
       "      <th>A</th>\n",
       "      <td>-0.665149</td>\n",
       "      <td>0.076970</td>\n",
       "    </tr>\n",
       "    <tr>\n",
       "      <th>B</th>\n",
       "      <td>-0.529419</td>\n",
       "      <td>0.189536</td>\n",
       "    </tr>\n",
       "  </tbody>\n",
       "</table>\n",
       "</div>"
      ],
      "text/plain": [
       "          X         Y\n",
       "A -0.665149  0.076970\n",
       "B -0.529419  0.189536"
      ]
     },
     "execution_count": 99,
     "metadata": {},
     "output_type": "execute_result"
    }
   ],
   "source": [
    "df.loc['A':'B', 'X':'Y']"
   ]
  },
  {
   "cell_type": "code",
   "execution_count": 101,
   "id": "0aa71153",
   "metadata": {},
   "outputs": [
    {
     "data": {
      "text/html": [
       "<div>\n",
       "<style scoped>\n",
       "    .dataframe tbody tr th:only-of-type {\n",
       "        vertical-align: middle;\n",
       "    }\n",
       "\n",
       "    .dataframe tbody tr th {\n",
       "        vertical-align: top;\n",
       "    }\n",
       "\n",
       "    .dataframe thead th {\n",
       "        text-align: right;\n",
       "    }\n",
       "</style>\n",
       "<table border=\"1\" class=\"dataframe\">\n",
       "  <thead>\n",
       "    <tr style=\"text-align: right;\">\n",
       "      <th></th>\n",
       "      <th>W</th>\n",
       "      <th>X</th>\n",
       "    </tr>\n",
       "  </thead>\n",
       "  <tbody>\n",
       "    <tr>\n",
       "      <th>A</th>\n",
       "      <td>0.695454</td>\n",
       "      <td>-0.665149</td>\n",
       "    </tr>\n",
       "    <tr>\n",
       "      <th>B</th>\n",
       "      <td>0.809700</td>\n",
       "      <td>-0.529419</td>\n",
       "    </tr>\n",
       "    <tr>\n",
       "      <th>C</th>\n",
       "      <td>-0.423166</td>\n",
       "      <td>-1.051581</td>\n",
       "    </tr>\n",
       "    <tr>\n",
       "      <th>D</th>\n",
       "      <td>1.601042</td>\n",
       "      <td>-1.187091</td>\n",
       "    </tr>\n",
       "  </tbody>\n",
       "</table>\n",
       "</div>"
      ],
      "text/plain": [
       "          W         X\n",
       "A  0.695454 -0.665149\n",
       "B  0.809700 -0.529419\n",
       "C -0.423166 -1.051581\n",
       "D  1.601042 -1.187091"
      ]
     },
     "execution_count": 101,
     "metadata": {},
     "output_type": "execute_result"
    }
   ],
   "source": [
    "df.loc[:'D', :'X']"
   ]
  },
  {
   "cell_type": "code",
   "execution_count": 102,
   "id": "3a48c3a4",
   "metadata": {},
   "outputs": [
    {
     "data": {
      "text/html": [
       "<div>\n",
       "<style scoped>\n",
       "    .dataframe tbody tr th:only-of-type {\n",
       "        vertical-align: middle;\n",
       "    }\n",
       "\n",
       "    .dataframe tbody tr th {\n",
       "        vertical-align: top;\n",
       "    }\n",
       "\n",
       "    .dataframe thead th {\n",
       "        text-align: right;\n",
       "    }\n",
       "</style>\n",
       "<table border=\"1\" class=\"dataframe\">\n",
       "  <thead>\n",
       "    <tr style=\"text-align: right;\">\n",
       "      <th></th>\n",
       "      <th>W</th>\n",
       "      <th>X</th>\n",
       "      <th>Y</th>\n",
       "      <th>Z</th>\n",
       "      <th>W_squared</th>\n",
       "    </tr>\n",
       "  </thead>\n",
       "  <tbody>\n",
       "    <tr>\n",
       "      <th>A</th>\n",
       "      <td>0.695454</td>\n",
       "      <td>-0.665149</td>\n",
       "      <td>0.076970</td>\n",
       "      <td>0.865594</td>\n",
       "      <td>0.483656</td>\n",
       "    </tr>\n",
       "    <tr>\n",
       "      <th>B</th>\n",
       "      <td>0.809700</td>\n",
       "      <td>-0.529419</td>\n",
       "      <td>0.189536</td>\n",
       "      <td>0.180844</td>\n",
       "      <td>0.655615</td>\n",
       "    </tr>\n",
       "    <tr>\n",
       "      <th>C</th>\n",
       "      <td>-0.423166</td>\n",
       "      <td>-1.051581</td>\n",
       "      <td>-1.785285</td>\n",
       "      <td>0.333148</td>\n",
       "      <td>0.179069</td>\n",
       "    </tr>\n",
       "    <tr>\n",
       "      <th>D</th>\n",
       "      <td>1.601042</td>\n",
       "      <td>-1.187091</td>\n",
       "      <td>0.368722</td>\n",
       "      <td>0.083808</td>\n",
       "      <td>2.563336</td>\n",
       "    </tr>\n",
       "    <tr>\n",
       "      <th>E</th>\n",
       "      <td>-2.109517</td>\n",
       "      <td>0.613211</td>\n",
       "      <td>3.815079</td>\n",
       "      <td>0.422638</td>\n",
       "      <td>4.450061</td>\n",
       "    </tr>\n",
       "  </tbody>\n",
       "</table>\n",
       "</div>"
      ],
      "text/plain": [
       "          W         X         Y         Z  W_squared\n",
       "A  0.695454 -0.665149  0.076970  0.865594   0.483656\n",
       "B  0.809700 -0.529419  0.189536  0.180844   0.655615\n",
       "C -0.423166 -1.051581 -1.785285  0.333148   0.179069\n",
       "D  1.601042 -1.187091  0.368722  0.083808   2.563336\n",
       "E -2.109517  0.613211  3.815079  0.422638   4.450061"
      ]
     },
     "execution_count": 102,
     "metadata": {},
     "output_type": "execute_result"
    }
   ],
   "source": [
    "df\n"
   ]
  },
  {
   "cell_type": "code",
   "execution_count": 103,
   "id": "cbee1756",
   "metadata": {},
   "outputs": [
    {
     "data": {
      "text/html": [
       "<div>\n",
       "<style scoped>\n",
       "    .dataframe tbody tr th:only-of-type {\n",
       "        vertical-align: middle;\n",
       "    }\n",
       "\n",
       "    .dataframe tbody tr th {\n",
       "        vertical-align: top;\n",
       "    }\n",
       "\n",
       "    .dataframe thead th {\n",
       "        text-align: right;\n",
       "    }\n",
       "</style>\n",
       "<table border=\"1\" class=\"dataframe\">\n",
       "  <thead>\n",
       "    <tr style=\"text-align: right;\">\n",
       "      <th></th>\n",
       "      <th>W</th>\n",
       "      <th>X</th>\n",
       "      <th>Y</th>\n",
       "      <th>Z</th>\n",
       "      <th>W_squared</th>\n",
       "    </tr>\n",
       "  </thead>\n",
       "  <tbody>\n",
       "    <tr>\n",
       "      <th>A</th>\n",
       "      <td>0.695454</td>\n",
       "      <td>-0.665149</td>\n",
       "      <td>0.076970</td>\n",
       "      <td>0.865594</td>\n",
       "      <td>0.483656</td>\n",
       "    </tr>\n",
       "    <tr>\n",
       "      <th>B</th>\n",
       "      <td>0.809700</td>\n",
       "      <td>-0.529419</td>\n",
       "      <td>0.189536</td>\n",
       "      <td>0.180844</td>\n",
       "      <td>0.655615</td>\n",
       "    </tr>\n",
       "  </tbody>\n",
       "</table>\n",
       "</div>"
      ],
      "text/plain": [
       "          W         X         Y         Z  W_squared\n",
       "A  0.695454 -0.665149  0.076970  0.865594   0.483656\n",
       "B  0.809700 -0.529419  0.189536  0.180844   0.655615"
      ]
     },
     "execution_count": 103,
     "metadata": {},
     "output_type": "execute_result"
    }
   ],
   "source": [
    "df.iloc[:2]"
   ]
  },
  {
   "cell_type": "code",
   "execution_count": 104,
   "id": "763017d8",
   "metadata": {},
   "outputs": [
    {
     "data": {
      "text/plain": [
       "A    0.483656\n",
       "B    0.655615\n",
       "C    0.179069\n",
       "D    2.563336\n",
       "E    4.450061\n",
       "Name: W_squared, dtype: float64"
      ]
     },
     "execution_count": 104,
     "metadata": {},
     "output_type": "execute_result"
    }
   ],
   "source": [
    "df.iloc[:,-1]"
   ]
  },
  {
   "cell_type": "code",
   "execution_count": 105,
   "id": "5213b00f",
   "metadata": {},
   "outputs": [
    {
     "data": {
      "text/html": [
       "<div>\n",
       "<style scoped>\n",
       "    .dataframe tbody tr th:only-of-type {\n",
       "        vertical-align: middle;\n",
       "    }\n",
       "\n",
       "    .dataframe tbody tr th {\n",
       "        vertical-align: top;\n",
       "    }\n",
       "\n",
       "    .dataframe thead th {\n",
       "        text-align: right;\n",
       "    }\n",
       "</style>\n",
       "<table border=\"1\" class=\"dataframe\">\n",
       "  <thead>\n",
       "    <tr style=\"text-align: right;\">\n",
       "      <th></th>\n",
       "      <th>W</th>\n",
       "      <th>X</th>\n",
       "      <th>Y</th>\n",
       "      <th>Z</th>\n",
       "    </tr>\n",
       "  </thead>\n",
       "  <tbody>\n",
       "    <tr>\n",
       "      <th>A</th>\n",
       "      <td>0.695454</td>\n",
       "      <td>-0.665149</td>\n",
       "      <td>0.076970</td>\n",
       "      <td>0.865594</td>\n",
       "    </tr>\n",
       "    <tr>\n",
       "      <th>B</th>\n",
       "      <td>0.809700</td>\n",
       "      <td>-0.529419</td>\n",
       "      <td>0.189536</td>\n",
       "      <td>0.180844</td>\n",
       "    </tr>\n",
       "    <tr>\n",
       "      <th>C</th>\n",
       "      <td>-0.423166</td>\n",
       "      <td>-1.051581</td>\n",
       "      <td>-1.785285</td>\n",
       "      <td>0.333148</td>\n",
       "    </tr>\n",
       "    <tr>\n",
       "      <th>D</th>\n",
       "      <td>1.601042</td>\n",
       "      <td>-1.187091</td>\n",
       "      <td>0.368722</td>\n",
       "      <td>0.083808</td>\n",
       "    </tr>\n",
       "    <tr>\n",
       "      <th>E</th>\n",
       "      <td>-2.109517</td>\n",
       "      <td>0.613211</td>\n",
       "      <td>3.815079</td>\n",
       "      <td>0.422638</td>\n",
       "    </tr>\n",
       "  </tbody>\n",
       "</table>\n",
       "</div>"
      ],
      "text/plain": [
       "          W         X         Y         Z\n",
       "A  0.695454 -0.665149  0.076970  0.865594\n",
       "B  0.809700 -0.529419  0.189536  0.180844\n",
       "C -0.423166 -1.051581 -1.785285  0.333148\n",
       "D  1.601042 -1.187091  0.368722  0.083808\n",
       "E -2.109517  0.613211  3.815079  0.422638"
      ]
     },
     "execution_count": 105,
     "metadata": {},
     "output_type": "execute_result"
    }
   ],
   "source": [
    "df.iloc[:,:-1]"
   ]
  },
  {
   "cell_type": "markdown",
   "id": "9b5fd3f6",
   "metadata": {},
   "source": [
    "### Import dataset using pandas"
   ]
  },
  {
   "cell_type": "code",
   "execution_count": 107,
   "id": "3574cb2b",
   "metadata": {},
   "outputs": [],
   "source": [
    "#data = pd.read_csv('housing.csv')\n",
    "#data"
   ]
  },
  {
   "cell_type": "markdown",
   "id": "d74f3f87",
   "metadata": {},
   "source": [
    "### Examples "
   ]
  },
  {
   "cell_type": "code",
   "execution_count": null,
   "id": "a6209ca6",
   "metadata": {},
   "outputs": [],
   "source": []
  },
  {
   "cell_type": "code",
   "execution_count": 130,
   "id": "cfd74762",
   "metadata": {},
   "outputs": [
    {
     "data": {
      "image/png": "[encoded data removed]",
      "text/plain": [
       "<Figure size 432x288 with 1 Axes>"
      ]
     },
     "metadata": {
      "needs_background": "light"
     },
     "output_type": "display_data"
    }
   ],
   "source": [
    "# P = Pressure in psia\n",
    "# T = Temperature in F\n",
    "import matplotlib.pyplot as plt\n",
    "%matplotlib inline\n",
    "\n",
    "#f = x-y\n",
    "# x - y= 0\n",
    "\n",
    "x = np.random.randint(0,10,10)\n",
    "y = x\n",
    "\n",
    "plt.plot(x,y)\n",
    "\n",
    "plt.text(5,5, 'x - y = 0', fontdict={'size':12,'color':'red'})\n",
    "plt.grid()\n",
    "plt.xlabel('X', fontsize=15)\n",
    "plt.ylabel('Y', fontsize=15)\n",
    "plt.title('X - Y = 0', fontsize=20)\n",
    "\n",
    "\n",
    "plt.show()"
   ]
  },
  {
   "cell_type": "markdown",
   "id": "89be4862",
   "metadata": {},
   "source": [
    "### Bubble-Point Pressure calculation"
   ]
  },
  {
   "cell_type": "code",
   "execution_count": 184,
   "id": "9778983d",
   "metadata": {},
   "outputs": [],
   "source": [
    "# Definition of terms\n",
    "# Pb = Bubble point pressure #psi\n",
    "# Rs = amount of gas in solution # scf/stb\n",
    "# Y = gas gravity\n",
    "# T = temperature # F\n",
    "# API = API gravity\n",
    "\n",
    "# function for Amount of gas\n",
    "\n",
    "def Bubble_point_pressure():\n",
    "    print('\\n*****Bubble-Point Pressure Calc*****\\n')\n",
    "    Rs = int(input('Enter amnt of gas in sln, Rs :')) #scf/stb\n",
    "    Y = float(input('Enter gas gravity Yg :'))\n",
    "    T = int(input('Enter temperature, T :')) #deg F\n",
    "    API = int(input('Enter API :'))\n",
    "    \n",
    "    D = (Rs/Y)**0.83\n",
    "    E = (0.00091*T - 0.0125*API)\n",
    "    Z = 10**E\n",
    "    \n",
    "    A = D * Z\n",
    "    \n",
    "    # call the function Amount\n",
    "\n",
    "    #A = Amount()\n",
    "\n",
    "    Pb = round(18.2*(A - 1.4),3)\n",
    "    Pb = print(f'The Bubble - Point Pressure Pb is {Pb} psi')\n",
    "     \n",
    "    return Pb\n"
   ]
  },
  {
   "cell_type": "code",
   "execution_count": 174,
   "id": "b2275834",
   "metadata": {},
   "outputs": [
    {
     "name": "stdout",
     "output_type": "stream",
     "text": [
      "Enter amnt of gas in sln, Rs :350\n",
      "Enter gas gravity Yg :0.68\n",
      "Enter temperature, T :220\n",
      "Enter API :35\n",
      "The Bubble - Point Pressure Pb is 1851.093 psi\n"
     ]
    }
   ],
   "source": [
    "Bubble_point_pressure()"
   ]
  },
  {
   "cell_type": "markdown",
   "id": "f50c7691",
   "metadata": {},
   "source": [
    "### Oil Formation Volume Factor Calculation"
   ]
  },
  {
   "cell_type": "code",
   "execution_count": 181,
   "id": "4d3856cf",
   "metadata": {},
   "outputs": [],
   "source": [
    "# Oil Formation volume factor\n",
    "# Bo = Oil formation volume factor # RB/STB\n",
    "# Yo = oil gravity\n",
    "# Rs = amount of gas in solution # scf/stb\n",
    "# Y = gas gravity\n",
    "# T = temperature # F\n",
    "# API = API gravity\n",
    "\n",
    "def FVF():\n",
    "    print('\\n****Oil Formation Volume Factor Calc****\\n')\n",
    "    Rs = int(input('Enter amnt of gas in sln, Rs :')) #scf/stb\n",
    "    Y = float(input('Enter gas gravity Yg :'))\n",
    "    T = int(input('Enter temperature, T :')) #deg F\n",
    "    API = int(input('Enter API :'))\n",
    "    \n",
    "    Yo = (141.5/(API +131.5))\n",
    "    \n",
    "    a= (Y/Yo)**0.5\n",
    "    A_ = (Rs*a) + 1.25*T\n",
    "    \n",
    "    Bo = round(0.98 + 0.00012*(A_)**1.2, 3)\n",
    "    Bo = print(f'Oil formation volume factor is {Bo} RB/STB')\n",
    "    \n",
    "    return Bo\n",
    "\n"
   ]
  },
  {
   "cell_type": "code",
   "execution_count": 178,
   "id": "232a7f1c",
   "metadata": {},
   "outputs": [
    {
     "name": "stdout",
     "output_type": "stream",
     "text": [
      "Enter amnt of gas in sln, Rs :350\n",
      "Enter gas gravity Yg :0.68\n",
      "Enter temperature, T :220\n",
      "Enter API :35\n",
      "Oil formation volume factor is 1.233 RB/STB\n"
     ]
    }
   ],
   "source": [
    "FVF()"
   ]
  },
  {
   "cell_type": "code",
   "execution_count": 185,
   "id": "42b26067",
   "metadata": {},
   "outputs": [],
   "source": [
    "def menu():\n",
    "    print('********* RESERVOIR FLUID CALCULATION **********')\n",
    "    \n",
    "    print('Select a Fluid property to do the calculations')\n",
    "    print('\\n1. Bubble-point pressure calculation \\n2. Oil formation volume factor (Bo) calc \\n3. Others')\n",
    "    option = int(input('Enter an option to select: '))\n",
    "    \n",
    "    if option == 1:\n",
    "        Bubble_point_pressure()\n",
    "    elif option ==2:\n",
    "        FVF()\n",
    "    else:\n",
    "        print('Loading...')"
   ]
  },
  {
   "cell_type": "code",
   "execution_count": 186,
   "id": "9b084dca",
   "metadata": {},
   "outputs": [
    {
     "name": "stdout",
     "output_type": "stream",
     "text": [
      "********* RESERVOIR FLUID CALCULATION **********\n",
      "Select a Fluid property to do the calculations\n",
      "\n",
      "1. Bubble-point pressure calculation \n",
      "2. Oil formation volume factor (Bo) calc \n",
      "3. Others\n",
      "Enter an option to select: 1\n",
      "\n",
      "*****Bubble-Point Pressure Calc*****\n",
      "\n",
      "Enter amnt of gas in sln, Rs :350\n",
      "Enter gas gravity Yg :0.68\n",
      "Enter temperature, T :220\n",
      "Enter API :35\n",
      "The Bubble - Point Pressure Pb is 1851.093 psi\n"
     ]
    }
   ],
   "source": [
    "menu()"
   ]
  },
  {
   "cell_type": "code",
   "execution_count": null,
   "id": "11ac3cd4",
   "metadata": {},
   "outputs": [],
   "source": []
  },
  {
   "cell_type": "code",
   "execution_count": 144,
   "id": "87555dc0",
   "metadata": {},
   "outputs": [
    {
     "data": {
      "text/html": [
       "<div>\n",
       "<style scoped>\n",
       "    .dataframe tbody tr th:only-of-type {\n",
       "        vertical-align: middle;\n",
       "    }\n",
       "\n",
       "    .dataframe tbody tr th {\n",
       "        vertical-align: top;\n",
       "    }\n",
       "\n",
       "    .dataframe thead th {\n",
       "        text-align: right;\n",
       "    }\n",
       "</style>\n",
       "<table border=\"1\" class=\"dataframe\">\n",
       "  <thead>\n",
       "    <tr style=\"text-align: right;\">\n",
       "      <th></th>\n",
       "      <th>Dissolve Gas(SCF/STB)</th>\n",
       "      <th>Pressure(psi)</th>\n",
       "    </tr>\n",
       "  </thead>\n",
       "  <tbody>\n",
       "    <tr>\n",
       "      <th>0</th>\n",
       "      <td>0</td>\n",
       "      <td>0</td>\n",
       "    </tr>\n",
       "    <tr>\n",
       "      <th>1</th>\n",
       "      <td>23</td>\n",
       "      <td>358</td>\n",
       "    </tr>\n",
       "    <tr>\n",
       "      <th>2</th>\n",
       "      <td>35</td>\n",
       "      <td>423</td>\n",
       "    </tr>\n",
       "    <tr>\n",
       "      <th>3</th>\n",
       "      <td>52</td>\n",
       "      <td>556</td>\n",
       "    </tr>\n",
       "    <tr>\n",
       "      <th>4</th>\n",
       "      <td>65</td>\n",
       "      <td>589</td>\n",
       "    </tr>\n",
       "    <tr>\n",
       "      <th>5</th>\n",
       "      <td>86</td>\n",
       "      <td>603</td>\n",
       "    </tr>\n",
       "    <tr>\n",
       "      <th>6</th>\n",
       "      <td>123</td>\n",
       "      <td>655</td>\n",
       "    </tr>\n",
       "    <tr>\n",
       "      <th>7</th>\n",
       "      <td>152</td>\n",
       "      <td>721</td>\n",
       "    </tr>\n",
       "    <tr>\n",
       "      <th>8</th>\n",
       "      <td>165</td>\n",
       "      <td>777</td>\n",
       "    </tr>\n",
       "    <tr>\n",
       "      <th>9</th>\n",
       "      <td>175</td>\n",
       "      <td>867</td>\n",
       "    </tr>\n",
       "    <tr>\n",
       "      <th>10</th>\n",
       "      <td>213</td>\n",
       "      <td>1006</td>\n",
       "    </tr>\n",
       "    <tr>\n",
       "      <th>11</th>\n",
       "      <td>255</td>\n",
       "      <td>1450</td>\n",
       "    </tr>\n",
       "    <tr>\n",
       "      <th>12</th>\n",
       "      <td>279</td>\n",
       "      <td>1832</td>\n",
       "    </tr>\n",
       "    <tr>\n",
       "      <th>13</th>\n",
       "      <td>301</td>\n",
       "      <td>1900</td>\n",
       "    </tr>\n",
       "    <tr>\n",
       "      <th>14</th>\n",
       "      <td>328</td>\n",
       "      <td>2300</td>\n",
       "    </tr>\n",
       "    <tr>\n",
       "      <th>15</th>\n",
       "      <td>350</td>\n",
       "      <td>2870</td>\n",
       "    </tr>\n",
       "    <tr>\n",
       "      <th>16</th>\n",
       "      <td>350</td>\n",
       "      <td>3000</td>\n",
       "    </tr>\n",
       "    <tr>\n",
       "      <th>17</th>\n",
       "      <td>350</td>\n",
       "      <td>3231</td>\n",
       "    </tr>\n",
       "  </tbody>\n",
       "</table>\n",
       "</div>"
      ],
      "text/plain": [
       "    Dissolve Gas(SCF/STB)  Pressure(psi)\n",
       "0                       0              0\n",
       "1                      23            358\n",
       "2                      35            423\n",
       "3                      52            556\n",
       "4                      65            589\n",
       "5                      86            603\n",
       "6                     123            655\n",
       "7                     152            721\n",
       "8                     165            777\n",
       "9                     175            867\n",
       "10                    213           1006\n",
       "11                    255           1450\n",
       "12                    279           1832\n",
       "13                    301           1900\n",
       "14                    328           2300\n",
       "15                    350           2870\n",
       "16                    350           3000\n",
       "17                    350           3231"
      ]
     },
     "execution_count": 144,
     "metadata": {},
     "output_type": "execute_result"
    }
   ],
   "source": [
    "P =[0,358,423,556,589,603,655,721,777,867,1006,1450,1832,1900,2300,2870,3000,3231]\n",
    "R =[0,23,35,52,65,86,123,152,165,175,213,255,279,301,328,350,350,350]\n",
    "\n",
    "Bp = pd.DataFrame({'Dissolve Gas(SCF/STB)':R,'Pressure(psi)':P})\n",
    "Bp"
   ]
  },
  {
   "cell_type": "code",
   "execution_count": 147,
   "id": "f8d9666b",
   "metadata": {},
   "outputs": [
    {
     "data": {
      "image/png": "[encoded data removed]",
      "text/plain": [
       "<Figure size 576x288 with 1 Axes>"
      ]
     },
     "metadata": {},
     "output_type": "display_data"
    }
   ],
   "source": [
    "plt.figure(figsize=(8,4))\n",
    "plt.style.use('default')\n",
    "\n",
    "plt.plot(P,R)\n",
    "\n",
    "plt.xlabel('Pressure(psi)', fontsize=15)\n",
    "plt.ylabel('Dissolved Gas(SCF/STB)', fontsize=15)\n",
    "\n",
    "plt.grid()\n",
    "\n",
    "plt.show()"
   ]
  },
  {
   "cell_type": "markdown",
   "id": "e71ad5e6",
   "metadata": {},
   "source": [
    "## Plot of Oil viscosity, FVF and Solution gas - oil ratio against Pressure"
   ]
  },
  {
   "cell_type": "code",
   "execution_count": 189,
   "id": "d4bc4393",
   "metadata": {},
   "outputs": [
    {
     "data": {
      "text/html": [
       "<div>\n",
       "<style scoped>\n",
       "    .dataframe tbody tr th:only-of-type {\n",
       "        vertical-align: middle;\n",
       "    }\n",
       "\n",
       "    .dataframe tbody tr th {\n",
       "        vertical-align: top;\n",
       "    }\n",
       "\n",
       "    .dataframe thead th {\n",
       "        text-align: right;\n",
       "    }\n",
       "</style>\n",
       "<table border=\"1\" class=\"dataframe\">\n",
       "  <thead>\n",
       "    <tr style=\"text-align: right;\">\n",
       "      <th></th>\n",
       "      <th>P (psia)</th>\n",
       "      <th>MUO (cp)</th>\n",
       "      <th>BO (RB/STB)</th>\n",
       "      <th>RSO (SCF/STB)</th>\n",
       "    </tr>\n",
       "  </thead>\n",
       "  <tbody>\n",
       "    <tr>\n",
       "      <th>0</th>\n",
       "      <td>14.7</td>\n",
       "      <td>1.040</td>\n",
       "      <td>1.062</td>\n",
       "      <td>1</td>\n",
       "    </tr>\n",
       "    <tr>\n",
       "      <th>1</th>\n",
       "      <td>514.7</td>\n",
       "      <td>0.910</td>\n",
       "      <td>1.111</td>\n",
       "      <td>89</td>\n",
       "    </tr>\n",
       "    <tr>\n",
       "      <th>2</th>\n",
       "      <td>1014.7</td>\n",
       "      <td>0.630</td>\n",
       "      <td>1.192</td>\n",
       "      <td>208</td>\n",
       "    </tr>\n",
       "    <tr>\n",
       "      <th>3</th>\n",
       "      <td>1514.7</td>\n",
       "      <td>0.765</td>\n",
       "      <td>1.256</td>\n",
       "      <td>309</td>\n",
       "    </tr>\n",
       "    <tr>\n",
       "      <th>4</th>\n",
       "      <td>2014.7</td>\n",
       "      <td>0.695</td>\n",
       "      <td>1.320</td>\n",
       "      <td>392</td>\n",
       "    </tr>\n",
       "    <tr>\n",
       "      <th>5</th>\n",
       "      <td>2514.7</td>\n",
       "      <td>0.641</td>\n",
       "      <td>1.380</td>\n",
       "      <td>457</td>\n",
       "    </tr>\n",
       "    <tr>\n",
       "      <th>6</th>\n",
       "      <td>3014.7</td>\n",
       "      <td>0.594</td>\n",
       "      <td>1.426</td>\n",
       "      <td>521</td>\n",
       "    </tr>\n",
       "    <tr>\n",
       "      <th>7</th>\n",
       "      <td>4014.7</td>\n",
       "      <td>0.510</td>\n",
       "      <td>1.472</td>\n",
       "      <td>586</td>\n",
       "    </tr>\n",
       "  </tbody>\n",
       "</table>\n",
       "</div>"
      ],
      "text/plain": [
       "   P (psia)  MUO (cp)  BO (RB/STB)  RSO (SCF/STB)\n",
       "0      14.7     1.040        1.062              1\n",
       "1     514.7     0.910        1.111             89\n",
       "2    1014.7     0.630        1.192            208\n",
       "3    1514.7     0.765        1.256            309\n",
       "4    2014.7     0.695        1.320            392\n",
       "5    2514.7     0.641        1.380            457\n",
       "6    3014.7     0.594        1.426            521\n",
       "7    4014.7     0.510        1.472            586"
      ]
     },
     "execution_count": 189,
     "metadata": {},
     "output_type": "execute_result"
    }
   ],
   "source": [
    "# Lets get data\n",
    "# P= pressure #psia\n",
    "# Bo = Oil formation volume factor # (RB/STB)\n",
    "# Mu = oil viscosity #cp\n",
    "# Rso = solution gas - oil ratio # SCF/STB\n",
    "\n",
    "P= [14.7,514.7,1014.7,1514.7,2014.7,2514.7,3014.7,4014.7]\n",
    "\n",
    "Mu = [1.04,0.91,0.63,0.765,0.695,0.641,0.594,0.51]\n",
    "\n",
    "Bo = [1.062,1.111, 1.192,1.256,1.32,1.38,1.426,1.472]\n",
    "\n",
    "Rso = [1,89,208,309,392,457,521,586]\n",
    "\n",
    "\n",
    "df = pd.DataFrame({'P (psia)':P,'MUO (cp)':Mu,'BO (RB/STB)':Bo,'RSO (SCF/STB)':Rso})\n",
    "df"
   ]
  },
  {
   "cell_type": "code",
   "execution_count": 225,
   "id": "8df48d39",
   "metadata": {},
   "outputs": [
    {
     "data": {
      "image/png": "[encoded data removed]",
      "text/plain": [
       "<Figure size 640x480 with 3 Axes>"
      ]
     },
     "metadata": {},
     "output_type": "display_data"
    }
   ],
   "source": [
    "fig, ax = plt.subplots(3, sharex=True)\n",
    "plt.style.use('default')\n",
    "\n",
    "ax[0].plot(df['P (psia)'],df['MUO (cp)'], label='Oil Viscosity', color='red')\n",
    "ax[0].set_ylabel('MUO (cp)', fontsize=10)\n",
    "#ax[0].set_title('Oil Viscosity',fontsize=15)\n",
    "ax[0].grid()\n",
    "\n",
    "ax[1].set_ylabel('BO (RB/STB)', fontsize=10)\n",
    "#ax[1].set_title('Oil Formation Volume Factor', fontsize=15)\n",
    "ax[1].plot(df['P (psia)'], df['BO (RB/STB)'], label='Oil FVF', color='orange')\n",
    "ax[1].grid()\n",
    "\n",
    "ax[2].set_ylabel('RSO (SCF/STB)', fontsize=10)\n",
    "ax[2].set_xlabel('P (psia)', fontsize=10)\n",
    "ax[2].plot(df['P (psia)'], df['RSO (SCF/STB)'], label='Solution GOR')\n",
    "ax[2].grid()\n",
    "#plt.grid()"
   ]
  },
  {
   "cell_type": "markdown",
   "id": "85b448a0",
   "metadata": {},
   "source": [
    "### Porosity"
   ]
  },
  {
   "cell_type": "code",
   "execution_count": 228,
   "id": "28e5d847",
   "metadata": {},
   "outputs": [
    {
     "data": {
      "text/html": [
       "<div>\n",
       "<style scoped>\n",
       "    .dataframe tbody tr th:only-of-type {\n",
       "        vertical-align: middle;\n",
       "    }\n",
       "\n",
       "    .dataframe tbody tr th {\n",
       "        vertical-align: top;\n",
       "    }\n",
       "\n",
       "    .dataframe thead th {\n",
       "        text-align: right;\n",
       "    }\n",
       "</style>\n",
       "<table border=\"1\" class=\"dataframe\">\n",
       "  <thead>\n",
       "    <tr style=\"text-align: right;\">\n",
       "      <th></th>\n",
       "      <th>Media</th>\n",
       "      <th>Porosity (%)</th>\n",
       "    </tr>\n",
       "  </thead>\n",
       "  <tbody>\n",
       "    <tr>\n",
       "      <th>0</th>\n",
       "      <td>Coal</td>\n",
       "      <td>2-3</td>\n",
       "    </tr>\n",
       "    <tr>\n",
       "      <th>1</th>\n",
       "      <td>Shale</td>\n",
       "      <td>5-10</td>\n",
       "    </tr>\n",
       "    <tr>\n",
       "      <th>2</th>\n",
       "      <td>Sandstones</td>\n",
       "      <td>&lt;25</td>\n",
       "    </tr>\n",
       "    <tr>\n",
       "      <th>3</th>\n",
       "      <td>Limestones</td>\n",
       "      <td>&lt;25</td>\n",
       "    </tr>\n",
       "    <tr>\n",
       "      <th>4</th>\n",
       "      <td>Dolomites</td>\n",
       "      <td>&lt;30</td>\n",
       "    </tr>\n",
       "    <tr>\n",
       "      <th>5</th>\n",
       "      <td>Loose sand (well sorted)</td>\n",
       "      <td>32-42</td>\n",
       "    </tr>\n",
       "    <tr>\n",
       "      <th>6</th>\n",
       "      <td>Diatomites</td>\n",
       "      <td>40-60</td>\n",
       "    </tr>\n",
       "  </tbody>\n",
       "</table>\n",
       "</div>"
      ],
      "text/plain": [
       "                      Media Porosity (%)\n",
       "0                      Coal          2-3\n",
       "1                     Shale         5-10\n",
       "2                Sandstones          <25\n",
       "3                Limestones          <25\n",
       "4                 Dolomites          <30\n",
       "5  Loose sand (well sorted)        32-42\n",
       "6                Diatomites        40-60"
      ]
     },
     "execution_count": 228,
     "metadata": {},
     "output_type": "execute_result"
    }
   ],
   "source": [
    "## Porosities of rocks\n",
    "\n",
    "m = ['Coal','Shale','Sandstones','Limestones','Dolomites','Loose sand (well sorted)','Diatomites']\n",
    "phi = ['2-3','5-10','<25','<25','<30','32-42','40-60']\n",
    "\n",
    "table = pd.DataFrame({'Media':m,'Porosity (%)':phi})\n",
    "table"
   ]
  },
  {
   "cell_type": "code",
   "execution_count": null,
   "id": "a96e3d90",
   "metadata": {},
   "outputs": [],
   "source": [
    "# Porosity formula function\n",
    "# phi = porosity (%)\n",
    "# Vb = Bulk volume\n",
    "# Vp = pore space volume\n",
    "# h = height; # r =radius\n",
    "\n",
    "def VB():\n",
    "    r = float(input('Enter radius r:'))\n",
    "    h = float(input('Enter height h:'))\n",
    "    vb= 3.14159 * (r**2) *h\n",
    "    return vb\n",
    "def VP():\n",
    "    # vp = mass of water in core\n",
    "    mw = float(input('Enter '))\n",
    "    \n"
   ]
  }
 ],
 "metadata": {
  "kernelspec": {
   "display_name": "Python 3 (ipykernel)",
   "language": "python",
   "name": "python3"
  },
  "language_info": {
   "codemirror_mode": {
    "name": "ipython",
    "version": 3
   },
   "file_extension": ".py",
   "mimetype": "text/x-python",
   "name": "python",
   "nbconvert_exporter": "python",
   "pygments_lexer": "ipython3",
   "version": "3.9.12"
  }
 },
 "nbformat": 4,
 "nbformat_minor": 5
}
