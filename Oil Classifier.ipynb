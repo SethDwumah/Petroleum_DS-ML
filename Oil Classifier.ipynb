{
 "cells": [
  {
   "cell_type": "markdown",
   "id": "f43e2058",
   "metadata": {},
   "source": [
    "## Classifying Oil based on their API gravity, GOR and Formation Volume factor"
   ]
  },
  {
   "cell_type": "code",
   "execution_count": 6,
   "id": "f761f6f5",
   "metadata": {},
   "outputs": [
    {
     "name": "stdout",
     "output_type": "stream",
     "text": [
      "\n",
      " Enter the API gravity : 3\n",
      "\n",
      " Enter the Gas Oil Ratio : 3\n",
      "\n",
      " Enter the Formation Oil Volume Factor : 33\n",
      "\n",
      " The entered properties don't fit into any classification!\n"
     ]
    }
   ],
   "source": [
    "API = float(input('\\n Enter the API gravity : '))\n",
    "GOR = float(input('\\n Enter the Gas Oil Ratio : '))\n",
    "Bo = float(input('\\n Enter the Formation Oil Volume Factor : '))\n",
    "\n",
    "\n",
    "if API < 35.0 and GOR < 200.0 and Bo <1.2:\n",
    "    print(f'\\n Low Shrinkage Crude Oil, with: \\nAPI:{API} Deg. \\t GOR:{GOR} SCF/STB \\t Bo:{Bo} RB/STB')\n",
    "    \n",
    "elif 35 <= API<=45 and 200 <= GOR <=700 and 1.2<=Bo<=1.5:\n",
    "    print(f'\\n Ordinary Black Oil, with: \\nAPI:{API} Deg. \\t GOR:{GOR} SCF/STB \\t Bo:{Bo} RB/STB')\n",
    "\n",
    "elif 45<=API<=55 and 2000<=GOR<=3000 and 1.5<=Bo<=2:\n",
    "    print(f'\\n High Shrinkage Crude, with: \\nAPI:{API} Deg. \\t GOR:{GOR} SCF/STB \\t Bo:{Bo} RB/STB')\n",
    "    \n",
    "elif 50<=API<=55 and GOR>=3000 and B0>2:\n",
    "    print(f'\\n Near Critical Crude Oil, with: \\nAPI:{API} Deg. \\t GOR:{GOR} SCF/STB \\t Bo:{Bo} RB/STB')\n",
    "    \n",
    "else:\n",
    "    print(\"\\n The entered properties don't fit into any classification!\")"
   ]
  },
  {
   "cell_type": "code",
   "execution_count": null,
   "id": "0e2c8a27",
   "metadata": {},
   "outputs": [],
   "source": []
  }
 ],
 "metadata": {
  "kernelspec": {
   "display_name": "Python 3 (ipykernel)",
   "language": "python",
   "name": "python3"
  },
  "language_info": {
   "codemirror_mode": {
    "name": "ipython",
    "version": 3
   },
   "file_extension": ".py",
   "mimetype": "text/x-python",
   "name": "python",
   "nbconvert_exporter": "python",
   "pygments_lexer": "ipython3",
   "version": "3.9.12"
  }
 },
 "nbformat": 4,
 "nbformat_minor": 5
}
