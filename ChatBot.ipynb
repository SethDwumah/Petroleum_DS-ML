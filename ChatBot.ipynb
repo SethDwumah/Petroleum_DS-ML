{
 "cells": [
  {
   "cell_type": "code",
   "execution_count": 1,
   "id": "70de242d",
   "metadata": {},
   "outputs": [
    {
     "name": "stdout",
     "output_type": "stream",
     "text": [
      "Requirement already satisfied: nltk in c:\\users\\administrator\\anaconda3\\lib\\site-packages (3.7)\n",
      "Requirement already satisfied: regex>=2021.8.3 in c:\\users\\administrator\\anaconda3\\lib\\site-packages (from nltk) (2022.3.15)\n",
      "Requirement already satisfied: tqdm in c:\\users\\administrator\\anaconda3\\lib\\site-packages (from nltk) (4.64.0)\n",
      "Requirement already satisfied: click in c:\\users\\administrator\\anaconda3\\lib\\site-packages (from nltk) (8.0.4)\n",
      "Requirement already satisfied: joblib in c:\\users\\administrator\\anaconda3\\lib\\site-packages (from nltk) (1.1.0)\n",
      "Requirement already satisfied: colorama in c:\\users\\administrator\\anaconda3\\lib\\site-packages (from click->nltk) (0.4.4)\n",
      "Note: you may need to restart the kernel to use updated packages.\n"
     ]
    }
   ],
   "source": [
    "pip install nltk"
   ]
  },
  {
   "cell_type": "code",
   "execution_count": 2,
   "id": "5cc215c9",
   "metadata": {},
   "outputs": [],
   "source": [
    "from nltk.chat.util import Chat, reflections"
   ]
  },
  {
   "cell_type": "code",
   "execution_count": 3,
   "id": "c8517f73",
   "metadata": {},
   "outputs": [],
   "source": [
    "# Pairs is a list of patterns and responses\n",
    "pairs = [\n",
    "    [\n",
    "        r\"(.*)my name is (.*)\",\n",
    "        [\"Hello %2, How are you today ?\",]\n",
    "    ],\n",
    "    \n",
    "    [\n",
    "        r\"(.*)help(.*)\",\n",
    "        [\"I can help you \",]\n",
    "    ],\n",
    "    \n",
    "    [\n",
    "        r\"(.*) your name ?\",\n",
    "        [\"My name is SeTesla, but you can just call me robot and I'm a chatbot .\",]\n",
    "    ],\n",
    "    \n",
    "    [\n",
    "        r\"how are you (.*) ?\",\n",
    "        [\"I'm doing very well\", \"i am great!\"]\n",
    "    ],\n",
    "    \n",
    "    [\n",
    "        r\"sorry (.*)\",\n",
    "        [\"Its alright\", \"Its OK, never mind that\",]\n",
    "    ],\n",
    "    \n",
    "    [\n",
    "        r\"i'm (.*) (good|well|okay|ok)\",\n",
    "        [\"Nice to hear that\", \"Alright, great !\",]\n",
    "    ],\n",
    "    \n",
    "    [\n",
    "        r\"(hi|hey|hello|hola|holla)(.*)\",\n",
    "        [\"Hello\", \"Hey there\",]\n",
    "    ],\n",
    "    \n",
    "    [\n",
    "        r\"what (.*) want?\",\n",
    "        [\"Make me an offer I can't refuse\",]\n",
    "    ],\n",
    "    \n",
    "    [\n",
    "        r\"(.*)created(.*)\",\n",
    "        [\"Seth Dwumah created me using Python's NLTK library \", \"top secret;\"]\n",
    "    ],\n",
    "    \n",
    "    [\n",
    "        r\"(.*)(location|city) ?\",\n",
    "        [\"Sunyani, Ghana\",]\n",
    "    ],\n",
    "    \n",
    "    [\n",
    "        r\".(.*)raining in (.*)\",\n",
    "        [\"No rain in the past 4 days here in %2\", \"In %2 there is a 50% chance of rain\"]\n",
    "    ],\n",
    "    \n",
    "    [\n",
    "      r\"how (.*) health (.*)\",\n",
    "      [\" Health is very important, but I am a computer, so I don't need to worry about my health\",]  \n",
    "    \n",
    "    ],\n",
    "    \n",
    "    [\n",
    "        r\"who (.*) (sports|game|sports)(:*)\",\n",
    "        [\"I'm a very big fan of Football\",]\n",
    "    ],\n",
    "    \n",
    "    [\n",
    "        r\" which (.*) (League|EPL|Club)?\",\n",
    "        [\"Chelsea Fc\"]\n",
    "    ],\n",
    "    \n",
    "    [\n",
    "        r\"quit\",\n",
    "        [\"Bye for now. See you soon :) \", \"It was nice talking to you. See you\",]\n",
    "    ],\n",
    "    \n",
    "    [\n",
    "        r\"(.*)\",\n",
    "        [\"That is nice to hear\"]\n",
    "    ],\n",
    "    \n",
    "    \n",
    "]"
   ]
  },
  {
   "cell_type": "code",
   "execution_count": 4,
   "id": "974554ec",
   "metadata": {},
   "outputs": [
    {
     "name": "stdout",
     "output_type": "stream",
     "text": [
      "Hi, I'm SeTesla and I like to chat\n",
      "Please type lowercase English language to start a conversation. Type quit to leave\n",
      ">hello\n",
      "Hey there\n",
      ">how are you doing today?\n",
      "i am great!\n",
      ">nice\n",
      "That is nice to hear\n",
      ">which team is the best in the EPL?\n",
      "That is nice to hear\n",
      ">who created you?\n",
      "top secret;\n",
      ">?\n",
      "That is nice to hear\n",
      ">health\n",
      "That is nice to hear\n",
      ">who\n",
      "That is nice to hear\n",
      ">which?\n",
      "That is nice to hear\n",
      ">quit\n",
      "Bye for now. See you soon :) \n"
     ]
    }
   ],
   "source": [
    "# Default message at the start of chat\n",
    "\n",
    "print(\"Hi, I'm SeTesla and I like to chat\\nPlease type lowercase English language to start a conversation. Type quit to leave\")\n",
    "\n",
    "# Create Chat Bot\n",
    "\n",
    "chat = Chat(pairs, reflections)\n",
    "\n",
    "# Start  conversation\n",
    "\n",
    "chat.converse()"
   ]
  },
  {
   "cell_type": "code",
   "execution_count": null,
   "id": "49c83f17",
   "metadata": {},
   "outputs": [
    {
     "name": "stdout",
     "output_type": "stream",
     "text": [
      ">Hey\n",
      "Hello\n",
      ">how\n",
      "That is nice to hear\n",
      ">how are you\n",
      "That is nice to hear\n",
      ">how are you doing?\n",
      "I'm doing very well\n"
     ]
    }
   ],
   "source": [
    "chat.converse()"
   ]
  },
  {
   "cell_type": "code",
   "execution_count": null,
   "id": "4dad99c0",
   "metadata": {},
   "outputs": [],
   "source": []
  }
 ],
 "metadata": {
  "kernelspec": {
   "display_name": "Python 3 (ipykernel)",
   "language": "python",
   "name": "python3"
  },
  "language_info": {
   "codemirror_mode": {
    "name": "ipython",
    "version": 3
   },
   "file_extension": ".py",
   "mimetype": "text/x-python",
   "name": "python",
   "nbconvert_exporter": "python",
   "pygments_lexer": "ipython3",
   "version": "3.9.12"
  }
 },
 "nbformat": 4,
 "nbformat_minor": 5
}
