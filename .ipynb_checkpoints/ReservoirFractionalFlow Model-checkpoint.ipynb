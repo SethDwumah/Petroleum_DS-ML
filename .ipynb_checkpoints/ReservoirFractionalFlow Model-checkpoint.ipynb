{
 "cells": [
  {
   "cell_type": "markdown",
   "id": "b8d06114",
   "metadata": {},
   "source": [
    "# Fractional Flow Stimulation\n",
    "\n",
    "\n",
    "### A clear depiction of how the fractional flow curve varies as we change the properties"
   ]
  },
  {
   "cell_type": "markdown",
   "id": "12c206d4",
   "metadata": {},
   "source": [
    "## Import Libraries"
   ]
  },
  {
   "cell_type": "code",
   "execution_count": null,
   "id": "5ac3da9a",
   "metadata": {},
   "outputs": [],
   "source": [
    "import pandas as pd\n"
   ]
  }
 ],
 "metadata": {
  "kernelspec": {
   "display_name": "Python 3 (ipykernel)",
   "language": "python",
   "name": "python3"
  },
  "language_info": {
   "codemirror_mode": {
    "name": "ipython",
    "version": 3
   },
   "file_extension": ".py",
   "mimetype": "text/x-python",
   "name": "python",
   "nbconvert_exporter": "python",
   "pygments_lexer": "ipython3",
   "version": "3.9.12"
  }
 },
 "nbformat": 4,
 "nbformat_minor": 5
}
